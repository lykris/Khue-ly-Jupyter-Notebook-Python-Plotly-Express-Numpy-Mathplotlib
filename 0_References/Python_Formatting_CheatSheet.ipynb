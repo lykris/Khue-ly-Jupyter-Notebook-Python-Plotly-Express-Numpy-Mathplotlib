{
 "cells": [
  {
   "cell_type": "markdown",
   "metadata": {},
   "source": [
    "# python Formatting Cheatsheet  (*Draft 1*)\n",
    "\n",
    "- This demo uses formatting with *f-strings* which was introduced in Python 3.6  \n",
    "\n",
    "\n",
    "- [Overview](#Overview)  \n",
    "\n",
    "\n",
    "- [Currency Formatting](#Currency-Formatting)  \n",
    "  - Two Decimal Places  \n",
    "  - No Decimal Places  \n",
    "  \n",
    "  \n",
    "- [Percent Formatting](#Percent-Formatting)  \n",
    "  - Two Decimal Places  \n",
    "  - No Decimal Places  \n",
    "  \n",
    "  \n",
    "- [Plain Numbers with Commas](#Plain-Numbers-with-Commas)  \n",
    "  - Two Decimal Places  \n",
    "  - No Decimal Places    "
   ]
  },
  {
   "cell_type": "markdown",
   "metadata": {},
   "source": [
    "# Overview  \n",
    "\n",
    "- The general structure of f-strings are: **```f'{value:{width}.{precision}}'```**\n",
    "  - We usually don't care about *width* so we leave that empty -- unless we want commas!  \n",
    "  \n",
    "  \n",
    "- Example:  **```f'{total_quantity:,.0f}'```**\n",
    "    - The  *total_quantity*  variable contains the value to be formatted\n",
    "    - {width} \n",
    "      - No {width} specified  \n",
    "      - Use commas\n",
    "    - {precision}          \n",
    "      - Zero Decimal Places"
   ]
  },
  {
   "cell_type": "markdown",
   "metadata": {},
   "source": [
    "# Currency Formatting"
   ]
  },
  {
   "cell_type": "code",
   "execution_count": 112,
   "metadata": {},
   "outputs": [
    {
     "name": "stdout",
     "output_type": "stream",
     "text": [
      "Not formatted:  350000.45\n"
     ]
    }
   ],
   "source": [
    "# Create a variable with a value to demo Currency formatting\n",
    "sales = 350000.45\n",
    "\n",
    "print(\"Not formatted: \", sales)"
   ]
  },
  {
   "cell_type": "markdown",
   "metadata": {},
   "source": [
    "### Two Decimal Places"
   ]
  },
  {
   "cell_type": "code",
   "execution_count": 113,
   "metadata": {},
   "outputs": [
    {
     "name": "stdout",
     "output_type": "stream",
     "text": [
      "Formatted as Currency (Two Decimal Places): $350,000.45\n"
     ]
    }
   ],
   "source": [
    "# Two Decimal Places\n",
    "print(f'Formatted as Currency (Two Decimal Places): ${sales:,.2f}')"
   ]
  },
  {
   "cell_type": "markdown",
   "metadata": {},
   "source": [
    "### No Decimal Places"
   ]
  },
  {
   "cell_type": "code",
   "execution_count": 114,
   "metadata": {},
   "outputs": [
    {
     "name": "stdout",
     "output_type": "stream",
     "text": [
      "Formatted as Currency (No Decimal Places): $350,000\n"
     ]
    }
   ],
   "source": [
    "# No Decimal Places\n",
    "print(f'Formatted as Currency (No Decimal Places): ${sales:,.0f}')"
   ]
  },
  {
   "cell_type": "markdown",
   "metadata": {},
   "source": [
    "# Percent Formatting"
   ]
  },
  {
   "cell_type": "code",
   "execution_count": 115,
   "metadata": {},
   "outputs": [
    {
     "name": "stdout",
     "output_type": "stream",
     "text": [
      "Not Formatted:  0.25\n"
     ]
    }
   ],
   "source": [
    "# Create a variable with a decimal value to demo Percentage formatting\n",
    "shoe_percent = .25\n",
    "\n",
    "print(\"Not Formatted: \", shoe_percent)"
   ]
  },
  {
   "cell_type": "markdown",
   "metadata": {},
   "source": [
    "### Two Decimal Places"
   ]
  },
  {
   "cell_type": "code",
   "execution_count": 116,
   "metadata": {},
   "outputs": [
    {
     "name": "stdout",
     "output_type": "stream",
     "text": [
      "Formatted as Percent (Two Decimal Places): 25.00%\n"
     ]
    }
   ],
   "source": [
    "# Two Decimal Places\n",
    "print(f'Formatted as Percent (Two Decimal Places): {shoe_percent:.2%}')"
   ]
  },
  {
   "cell_type": "markdown",
   "metadata": {},
   "source": [
    "### No Decimal Places"
   ]
  },
  {
   "cell_type": "code",
   "execution_count": 117,
   "metadata": {
    "scrolled": true
   },
   "outputs": [
    {
     "name": "stdout",
     "output_type": "stream",
     "text": [
      "Formatted as Percent (No Decimal Places): 25%\n"
     ]
    }
   ],
   "source": [
    "# No Decimal Places\n",
    "print(f'Formatted as Percent (No Decimal Places): {shoe_percent:.0%}')"
   ]
  },
  {
   "cell_type": "markdown",
   "metadata": {},
   "source": [
    "# Plain Numbers with Commas"
   ]
  },
  {
   "cell_type": "code",
   "execution_count": 118,
   "metadata": {},
   "outputs": [
    {
     "name": "stdout",
     "output_type": "stream",
     "text": [
      "Not Formatted:  350000000.0\n"
     ]
    }
   ],
   "source": [
    "# Create a variable with a large value to demo Plain Number formatting\n",
    "total_quantity = 350000000.00\n",
    "\n",
    "print(\"Not Formatted: \", total_quantity)"
   ]
  },
  {
   "cell_type": "markdown",
   "metadata": {},
   "source": [
    "### Two Decimal Places"
   ]
  },
  {
   "cell_type": "code",
   "execution_count": 119,
   "metadata": {},
   "outputs": [
    {
     "name": "stdout",
     "output_type": "stream",
     "text": [
      "Formatted with Commas (Two Decimal places): 350,000,000.00\n"
     ]
    }
   ],
   "source": [
    "# Two Decimal Places\n",
    "print(f'Formatted with Commas (Two Decimal places): {total_quantity:,.2f}')"
   ]
  },
  {
   "cell_type": "markdown",
   "metadata": {},
   "source": [
    "### No Decimal Places"
   ]
  },
  {
   "cell_type": "code",
   "execution_count": 120,
   "metadata": {},
   "outputs": [
    {
     "name": "stdout",
     "output_type": "stream",
     "text": [
      "Formatted with Commas (No Decimal places): 350,000,000\n"
     ]
    }
   ],
   "source": [
    "# No Decimal Places\n",
    "print(f'Formatted with Commas (No Decimal places): {total_quantity:,.0f}')"
   ]
  }
 ],
 "metadata": {
  "kernelspec": {
   "display_name": "Python 3",
   "language": "python",
   "name": "python3"
  },
  "language_info": {
   "codemirror_mode": {
    "name": "ipython",
    "version": 3
   },
   "file_extension": ".py",
   "mimetype": "text/x-python",
   "name": "python",
   "nbconvert_exporter": "python",
   "pygments_lexer": "ipython3",
   "version": "3.7.4"
  }
 },
 "nbformat": 4,
 "nbformat_minor": 4
}
