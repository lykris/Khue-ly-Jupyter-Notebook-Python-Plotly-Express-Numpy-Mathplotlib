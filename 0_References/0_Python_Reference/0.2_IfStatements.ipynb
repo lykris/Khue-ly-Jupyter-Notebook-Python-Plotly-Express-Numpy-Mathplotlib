{
 "cells": [
  {
   "cell_type": "markdown",
   "metadata": {},
   "source": [
    "# 0.2 *if Statements*  \n",
    "- [Relational Operators](#Relational-Operators)  \n",
    "- [Basic If Statement](#Basic-if-Statement) \n",
    "- [elif and else](#Elif-and-Else)  "
   ]
  },
  {
   "cell_type": "markdown",
   "metadata": {},
   "source": [
    "# Relational Operators"
   ]
  },
  {
   "cell_type": "markdown",
   "metadata": {},
   "source": [
    "| Symbol | Task Performed |\n",
    "|----|---|\n",
    "| == | True, if it is equal |\n",
    "| !=  | True, if not equal to |\n",
    "| < | less than |\n",
    "| > | greater than |\n",
    "| <=  | less than or equal to |\n",
    "| >=  | greater than or equal to |"
   ]
  },
  {
   "cell_type": "markdown",
   "metadata": {},
   "source": [
    "# Basic if Statement"
   ]
  },
  {
   "cell_type": "code",
   "execution_count": 1,
   "metadata": {},
   "outputs": [
    {
     "name": "stdout",
     "output_type": "stream",
     "text": [
      "That number is not greater than 10!\n"
     ]
    }
   ],
   "source": [
    "numberToCheck = -15\n",
    "\n",
    "# Check if the number is greater than 10\n",
    "if numberToCheck > 10:\n",
    "    print(\"The number is greater than 10\")\n",
    "else:\n",
    "    print(\"That number is not greater than 10!\")"
   ]
  },
  {
   "cell_type": "markdown",
   "metadata": {},
   "source": [
    "# Elif and Else"
   ]
  },
  {
   "cell_type": "code",
   "execution_count": 2,
   "metadata": {},
   "outputs": [
    {
     "name": "stdout",
     "output_type": "stream",
     "text": [
      "Your Exam Grade is: unknown\n"
     ]
    }
   ],
   "source": [
    "exam_score = 33\n",
    "\n",
    "if exam_score >= 90:\n",
    "    exam_grade = \"A\"\n",
    "elif exam_score >= 80:\n",
    "    exam_grade = \"B\"\n",
    "else:\n",
    "    exam_grade = \"unknown\"\n",
    "\n",
    "print(\"Your Exam Grade is:\", exam_grade)"
   ]
  }
 ],
 "metadata": {
  "kernelspec": {
   "display_name": "Python 3",
   "language": "python",
   "name": "python3"
  },
  "language_info": {
   "codemirror_mode": {
    "name": "ipython",
    "version": 3
   },
   "file_extension": ".py",
   "mimetype": "text/x-python",
   "name": "python",
   "nbconvert_exporter": "python",
   "pygments_lexer": "ipython3",
   "version": "3.7.4"
  }
 },
 "nbformat": 4,
 "nbformat_minor": 4
}
