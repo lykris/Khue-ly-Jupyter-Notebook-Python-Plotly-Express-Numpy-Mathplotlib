{
 "cells": [
  {
   "cell_type": "markdown",
   "metadata": {},
   "source": [
    "# 0.3 *Lists*  \n",
    "\n",
    "- [Python Lists](#Python-Lists) \n",
    "- [Creating a List](#Creating-a-List)  \n",
    "- [List Indexes](#List-Indexes)\n",
    "- [Appending values to a List](#Appending-values-to-a-List)  \n",
    "- [Checking if a value is in a List](#Checking-if-a-value-is-in-a-List)  "
   ]
  },
  {
   "cell_type": "markdown",
   "metadata": {},
   "source": [
    "# Python Lists  \n",
    "- A Variable contains a single value.  A List contains a collection of values.  \n",
    "- We will use Lists all the time when working with data.   \n",
    "![Mailbox](Images/ListMailbox.png)"
   ]
  },
  {
   "cell_type": "markdown",
   "metadata": {},
   "source": [
    "# Creating a List  "
   ]
  },
  {
   "cell_type": "markdown",
   "metadata": {},
   "source": [
    "### A List of Names"
   ]
  },
  {
   "cell_type": "code",
   "execution_count": 1,
   "metadata": {},
   "outputs": [
    {
     "name": "stdout",
     "output_type": "stream",
     "text": [
      "['Janet Baker', 'George Lee', 'Sue Li', 'Samuel Hoosier', 'Sandra Weeks', 'William Macy', 'Andy Harrison', 'Ken Ford', 'Denny Franks', 'Shawn James']\n"
     ]
    }
   ],
   "source": [
    "# Create a List named customer_names\n",
    "customer_names = [\"Janet Baker\", \n",
    "                  \"George Lee\", \n",
    "                  \"Sue Li\", \n",
    "                  \"Samuel Hoosier\", \n",
    "                  \"Sandra Weeks\", \n",
    "                  \"William Macy\", \n",
    "                  \"Andy Harrison\", \n",
    "                  \"Ken Ford\", \n",
    "                  \"Denny Franks\",\n",
    "                  \"Shawn James\"]\n",
    "\n",
    "print(customer_names)"
   ]
  },
  {
   "cell_type": "markdown",
   "metadata": {},
   "source": [
    "### A List of Numbers"
   ]
  },
  {
   "cell_type": "code",
   "execution_count": 2,
   "metadata": {},
   "outputs": [
    {
     "name": "stdout",
     "output_type": "stream",
     "text": [
      "[89, 93, 78, 92]\n"
     ]
    }
   ],
   "source": [
    "# Create a List with test scores in it\n",
    "exam_scores = [89, 93, 78, 92]\n",
    "\n",
    "# Display it \n",
    "print(exam_scores)"
   ]
  },
  {
   "cell_type": "markdown",
   "metadata": {},
   "source": [
    "# List Indexes\n",
    "Lists are indexed starting with zero."
   ]
  },
  {
   "cell_type": "code",
   "execution_count": 3,
   "metadata": {},
   "outputs": [
    {
     "name": "stdout",
     "output_type": "stream",
     "text": [
      "['Janet Baker', 'George Lee', 'Sue Li', 'Samuel Hoosier', 'Sandra Weeks', 'William Macy', 'Andy Harrison', 'Ken Ford', 'Denny Franks', 'Shawn James']\n"
     ]
    }
   ],
   "source": [
    "print(customer_names)"
   ]
  },
  {
   "cell_type": "code",
   "execution_count": 4,
   "metadata": {},
   "outputs": [
    {
     "data": {
      "text/plain": [
       "'Janet Baker'"
      ]
     },
     "execution_count": 4,
     "metadata": {},
     "output_type": "execute_result"
    }
   ],
   "source": [
    "# Display the first value in the customer_names List\n",
    "customer_names[0]"
   ]
  },
  {
   "cell_type": "code",
   "execution_count": 5,
   "metadata": {},
   "outputs": [
    {
     "data": {
      "text/plain": [
       "'George Lee'"
      ]
     },
     "execution_count": 5,
     "metadata": {},
     "output_type": "execute_result"
    }
   ],
   "source": [
    "# Display the second value in the customer_names List\n",
    "customer_names[1]"
   ]
  },
  {
   "cell_type": "code",
   "execution_count": 6,
   "metadata": {},
   "outputs": [
    {
     "name": "stdout",
     "output_type": "stream",
     "text": [
      "[89, 93, 78, 92]\n"
     ]
    }
   ],
   "source": [
    "print(exam_scores)"
   ]
  },
  {
   "cell_type": "code",
   "execution_count": 7,
   "metadata": {},
   "outputs": [
    {
     "data": {
      "text/plain": [
       "89"
      ]
     },
     "execution_count": 7,
     "metadata": {},
     "output_type": "execute_result"
    }
   ],
   "source": [
    "# Display the first value in the exam_scores List\n",
    "exam_scores[0]"
   ]
  },
  {
   "cell_type": "markdown",
   "metadata": {},
   "source": [
    "# Appending values to a List"
   ]
  },
  {
   "cell_type": "code",
   "execution_count": 8,
   "metadata": {},
   "outputs": [
    {
     "name": "stdout",
     "output_type": "stream",
     "text": [
      "['Janet Baker', 'George Lee', 'Sue Li', 'Samuel Hoosier', 'Sandra Weeks', 'William Macy', 'Andy Harrison', 'Ken Ford', 'Denny Franks', 'Shawn James', 'Dan Clapper', 'Anne Massey']\n"
     ]
    }
   ],
   "source": [
    "# Appending values to the customer_names List\n",
    "customer_names.append(\"Dan Clapper\")\n",
    "customer_names.append(\"Anne Massey\")\n",
    "\n",
    "print(customer_names)"
   ]
  },
  {
   "cell_type": "markdown",
   "metadata": {},
   "source": [
    "# Checking if a value is in a List  \n",
    "- Use the *in* keyword \n",
    "- It will return True if it is in the List or False if it is not"
   ]
  },
  {
   "cell_type": "code",
   "execution_count": 9,
   "metadata": {},
   "outputs": [
    {
     "name": "stdout",
     "output_type": "stream",
     "text": [
      "['Janet Baker', 'George Lee', 'Sue Li', 'Samuel Hoosier', 'Sandra Weeks', 'William Macy', 'Andy Harrison', 'Ken Ford', 'Denny Franks', 'Shawn James', 'Dan Clapper', 'Anne Massey']\n"
     ]
    }
   ],
   "source": [
    "print(customer_names)"
   ]
  },
  {
   "cell_type": "code",
   "execution_count": 10,
   "metadata": {},
   "outputs": [
    {
     "name": "stdout",
     "output_type": "stream",
     "text": [
      "True\n"
     ]
    }
   ],
   "source": [
    "# Check if value is in the List\n",
    "is_in_list = 'Ken Ford' in customer_names\n",
    "\n",
    "# Display result\n",
    "print(is_in_list)"
   ]
  },
  {
   "cell_type": "code",
   "execution_count": null,
   "metadata": {},
   "outputs": [],
   "source": []
  }
 ],
 "metadata": {
  "kernelspec": {
   "display_name": "Python 3",
   "language": "python",
   "name": "python3"
  },
  "language_info": {
   "codemirror_mode": {
    "name": "ipython",
    "version": 3
   },
   "file_extension": ".py",
   "mimetype": "text/x-python",
   "name": "python",
   "nbconvert_exporter": "python",
   "pygments_lexer": "ipython3",
   "version": "3.7.4"
  }
 },
 "nbformat": 4,
 "nbformat_minor": 4
}
