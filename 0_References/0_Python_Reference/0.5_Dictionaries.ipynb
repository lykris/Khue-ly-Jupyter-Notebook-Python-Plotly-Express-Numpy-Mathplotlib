{
 "cells": [
  {
   "cell_type": "markdown",
   "metadata": {},
   "source": [
    "# 0.5 *Dictionaries*"
   ]
  },
  {
   "cell_type": "markdown",
   "metadata": {},
   "source": [
    "# Creating a Dictionary"
   ]
  },
  {
   "cell_type": "code",
   "execution_count": 1,
   "metadata": {},
   "outputs": [],
   "source": [
    "stock_dictionary = {\n",
    " 'AAAP': 'Apple',\n",
    " 'AMZN': 'Amazon',\n",
    " 'GOOGL': 'Alphabet (Google)',\n",
    " 'MSFT': 'Microsoft'    \n",
    "}"
   ]
  },
  {
   "cell_type": "code",
   "execution_count": 2,
   "metadata": {},
   "outputs": [
    {
     "name": "stdout",
     "output_type": "stream",
     "text": [
      "The Dictionary: \n"
     ]
    },
    {
     "data": {
      "text/plain": [
       "{'AAAP': 'Apple',\n",
       " 'AMZN': 'Amazon',\n",
       " 'GOOGL': 'Alphabet (Google)',\n",
       " 'MSFT': 'Microsoft'}"
      ]
     },
     "execution_count": 2,
     "metadata": {},
     "output_type": "execute_result"
    }
   ],
   "source": [
    "print(\"The Dictionary: \", )\n",
    "stock_dictionary"
   ]
  },
  {
   "cell_type": "markdown",
   "metadata": {},
   "source": [
    "## Visualizing the *stock_dictionary* Dictionary\n",
    "| Key | Value |\n",
    "|----|---|\n",
    "| AAAP  | Apple |\n",
    "| AMZN  | Amazon |\n",
    "| GOOGL  | Alphabet (Google) |\n",
    "| MSFT  | Microsoft |"
   ]
  },
  {
   "cell_type": "markdown",
   "metadata": {},
   "source": [
    "## The Keys and Values of a Dictionary"
   ]
  },
  {
   "cell_type": "code",
   "execution_count": 3,
   "metadata": {},
   "outputs": [
    {
     "name": "stdout",
     "output_type": "stream",
     "text": [
      "\n",
      "The Keys in the Dictionary:\n",
      "dict_keys(['AAAP', 'AMZN', 'GOOGL', 'MSFT'])\n",
      "\n",
      "The Values in the Dictionary:\n",
      "dict_values(['Apple', 'Amazon', 'Alphabet (Google)', 'Microsoft'])\n"
     ]
    }
   ],
   "source": [
    "print(\"\\nThe Keys in the Dictionary:\")\n",
    "print(stock_dictionary.keys())\n",
    "\n",
    "print(\"\\nThe Values in the Dictionary:\")\n",
    "print(stock_dictionary.values())"
   ]
  },
  {
   "cell_type": "markdown",
   "metadata": {},
   "source": [
    "## Looking Up a Value in a Dictionary\n",
    "You use a key to look up the value.  That's the reason we create dictionaries!"
   ]
  },
  {
   "cell_type": "code",
   "execution_count": 4,
   "metadata": {},
   "outputs": [
    {
     "name": "stdout",
     "output_type": "stream",
     "text": [
      "Amazon\n",
      "Microsoft\n"
     ]
    }
   ],
   "source": [
    "company_name = stock_dictionary['AMZN']\n",
    "print(company_name)\n",
    "\n",
    "company_name = stock_dictionary['MSFT']\n",
    "print(company_name)"
   ]
  },
  {
   "cell_type": "markdown",
   "metadata": {},
   "source": [
    "## Updating a value in a Dictionary"
   ]
  },
  {
   "cell_type": "code",
   "execution_count": 5,
   "metadata": {},
   "outputs": [
    {
     "data": {
      "text/plain": [
       "{'AAAP': 'Apple',\n",
       " 'AMZN': 'Amazon',\n",
       " 'GOOGL': 'Alphabet (Google)',\n",
       " 'MSFT': 'Updated Company MSFT'}"
      ]
     },
     "execution_count": 5,
     "metadata": {},
     "output_type": "execute_result"
    }
   ],
   "source": [
    "stock_dictionary['MSFT'] = \"Updated Company MSFT\"\n",
    "stock_dictionary"
   ]
  },
  {
   "cell_type": "markdown",
   "metadata": {},
   "source": [
    "## Checking if a Key is in the Dictionary"
   ]
  },
  {
   "cell_type": "code",
   "execution_count": 6,
   "metadata": {},
   "outputs": [
    {
     "name": "stdout",
     "output_type": "stream",
     "text": [
      "True\n"
     ]
    }
   ],
   "source": [
    "if 'MSFT' in stock_dictionary:\n",
    "    print (\"True\")\n",
    "else:\n",
    "    print(\"False\")"
   ]
  },
  {
   "cell_type": "markdown",
   "metadata": {},
   "source": [
    "## Looping through a Dictionary"
   ]
  },
  {
   "cell_type": "code",
   "execution_count": 7,
   "metadata": {},
   "outputs": [
    {
     "name": "stdout",
     "output_type": "stream",
     "text": [
      "AAAP\n",
      "AMZN\n",
      "GOOGL\n",
      "MSFT\n"
     ]
    }
   ],
   "source": [
    "for stock_symbol in stock_dictionary.keys():\n",
    "    print(stock_symbol)"
   ]
  },
  {
   "cell_type": "code",
   "execution_count": 8,
   "metadata": {},
   "outputs": [
    {
     "name": "stdout",
     "output_type": "stream",
     "text": [
      "Apple\n",
      "Amazon\n",
      "Alphabet (Google)\n",
      "Updated Company MSFT\n"
     ]
    }
   ],
   "source": [
    "for company_name in stock_dictionary.values():\n",
    "    print(company_name)"
   ]
  },
  {
   "cell_type": "code",
   "execution_count": 9,
   "metadata": {},
   "outputs": [
    {
     "name": "stdout",
     "output_type": "stream",
     "text": [
      "AAAP Apple\n",
      "AMZN Amazon\n",
      "GOOGL Alphabet (Google)\n",
      "MSFT Updated Company MSFT\n"
     ]
    }
   ],
   "source": [
    "for stock_symbol in stock_dictionary:\n",
    "    print(stock_symbol, stock_dictionary[stock_symbol])"
   ]
  },
  {
   "cell_type": "markdown",
   "metadata": {},
   "source": [
    "## Sorting a Dictionary"
   ]
  },
  {
   "cell_type": "code",
   "execution_count": 10,
   "metadata": {},
   "outputs": [
    {
     "data": {
      "text/plain": [
       "['AAAP', 'AMZN', 'GOOGL', 'MSFT']"
      ]
     },
     "execution_count": 10,
     "metadata": {},
     "output_type": "execute_result"
    }
   ],
   "source": [
    "sorted_stock_symbols = sorted(stock_dictionary)\n",
    "sorted_stock_symbols"
   ]
  }
 ],
 "metadata": {
  "kernelspec": {
   "display_name": "Python 3",
   "language": "python",
   "name": "python3"
  },
  "language_info": {
   "codemirror_mode": {
    "name": "ipython",
    "version": 3
   },
   "file_extension": ".py",
   "mimetype": "text/x-python",
   "name": "python",
   "nbconvert_exporter": "python",
   "pygments_lexer": "ipython3",
   "version": "3.7.4"
  }
 },
 "nbformat": 4,
 "nbformat_minor": 2
}
