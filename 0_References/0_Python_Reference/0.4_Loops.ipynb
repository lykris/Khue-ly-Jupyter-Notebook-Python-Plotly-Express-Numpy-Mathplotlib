{
 "cells": [
  {
   "cell_type": "markdown",
   "metadata": {},
   "source": [
    "# 0.4 *for Loops* \n",
    "We can use a Python *For Loop* to iterate through a List.  \n",
    "\n",
    "- [Looping through a List of String Values](#Looping-through-a-List-of-String-Values)  \n",
    "- [Looping through a List of Numeric Values](#Looping-through-a-List-of-Numeric-Values) "
   ]
  },
  {
   "cell_type": "markdown",
   "metadata": {},
   "source": [
    "# Looping through a List of String Values"
   ]
  },
  {
   "cell_type": "code",
   "execution_count": 1,
   "metadata": {},
   "outputs": [
    {
     "name": "stdout",
     "output_type": "stream",
     "text": [
      "['Janet Baker', 'George Lee', 'Sue Li', 'Samuel Hoosier', 'Sandra Weeks']\n"
     ]
    }
   ],
   "source": [
    "#Create a List named customer_names\n",
    "customer_names = [\"Janet Baker\", \"George Lee\", \"Sue Li\", \"Samuel Hoosier\", \"Sandra Weeks\"]\n",
    "print(customer_names)"
   ]
  },
  {
   "cell_type": "code",
   "execution_count": 2,
   "metadata": {},
   "outputs": [
    {
     "name": "stdout",
     "output_type": "stream",
     "text": [
      "Janet Baker\n",
      "George Lee\n",
      "Sue Li\n",
      "Samuel Hoosier\n",
      "Sandra Weeks\n"
     ]
    }
   ],
   "source": [
    "#Loop through the list and display all the names in it\n",
    "for name in customer_names:\n",
    "    print(name)"
   ]
  },
  {
   "cell_type": "markdown",
   "metadata": {},
   "source": [
    "# Looping through a List of Numeric Values"
   ]
  },
  {
   "cell_type": "code",
   "execution_count": 3,
   "metadata": {},
   "outputs": [
    {
     "name": "stdout",
     "output_type": "stream",
     "text": [
      "expenses =  [100, 55, 255, 300]\n"
     ]
    }
   ],
   "source": [
    "# Create a List named expenses and display it\n",
    "expenses = [100, 55, 255, 300]\n",
    "print(\"expenses = \", expenses)"
   ]
  },
  {
   "cell_type": "code",
   "execution_count": 4,
   "metadata": {},
   "outputs": [
    {
     "name": "stdout",
     "output_type": "stream",
     "text": [
      "total_expenses =  710\n"
     ]
    }
   ],
   "source": [
    "# Intialize the summing variable\n",
    "total_expenses = 0\n",
    "\n",
    "# Loop through the list and sum the values\n",
    "for expense in expenses:\n",
    "    total_expenses = total_expenses + expense\n",
    "    \n",
    "# Display total expense\n",
    "print(\"total_expenses = \", total_expenses)"
   ]
  }
 ],
 "metadata": {
  "kernelspec": {
   "display_name": "Python 3",
   "language": "python",
   "name": "python3"
  },
  "language_info": {
   "codemirror_mode": {
    "name": "ipython",
    "version": 3
   },
   "file_extension": ".py",
   "mimetype": "text/x-python",
   "name": "python",
   "nbconvert_exporter": "python",
   "pygments_lexer": "ipython3",
   "version": "3.7.4"
  }
 },
 "nbformat": 4,
 "nbformat_minor": 2
}
