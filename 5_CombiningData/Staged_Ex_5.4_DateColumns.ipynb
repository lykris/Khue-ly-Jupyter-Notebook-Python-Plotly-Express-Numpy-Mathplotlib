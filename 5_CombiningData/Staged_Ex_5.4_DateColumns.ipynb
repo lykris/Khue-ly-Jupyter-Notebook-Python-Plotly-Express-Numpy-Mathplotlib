{
 "cells": [
  {
   "cell_type": "markdown",
   "metadata": {},
   "source": [
    "# Ex 5.4 Creating and Using Date Columns:  Years, Quarters and Months\n",
    "-  Data:  **Sample-Superstore_Cleaned.csv**\n",
    "\n",
    "\n",
    "- [**Part 1: Average Profit Ratio by Year**](#Part-1:--Average-Profit-Ratio-by-Year)   \n",
    "- [**Part 2: Quarterly Sales by Region**](#Part-2:-Quarterly-Sales-by-Region)  \n",
    "- [**Part 3: Total Sales and Profit by Quarter**](#Part-3:-Total-Sales-and-Profit-by-Quarter) \n",
    "- [**Part 4: Monthly Sales by Segment**](#Part-4:-Monthly-Sales-by-Segment) \n",
    " \n"
   ]
  },
  {
   "cell_type": "code",
   "execution_count": 88,
   "metadata": {},
   "outputs": [],
   "source": [
    "from IPython.display import display, HTML\n",
    "import pandas as pd\n",
    "import math\n",
    "\n",
    "import plotly.graph_objects as go\n",
    "import plotly.express as px\n",
    "import numpy as np\n",
    "from scipy import special\n",
    "\n",
    "import datetime as ts"
   ]
  },
  {
   "cell_type": "markdown",
   "metadata": {},
   "source": [
    "#### Read Data file"
   ]
  },
  {
   "cell_type": "code",
   "execution_count": 89,
   "metadata": {},
   "outputs": [
    {
     "data": {
      "text/html": [
       "<div>\n",
       "<style scoped>\n",
       "    .dataframe tbody tr th:only-of-type {\n",
       "        vertical-align: middle;\n",
       "    }\n",
       "\n",
       "    .dataframe tbody tr th {\n",
       "        vertical-align: top;\n",
       "    }\n",
       "\n",
       "    .dataframe thead th {\n",
       "        text-align: right;\n",
       "    }\n",
       "</style>\n",
       "<table border=\"1\" class=\"dataframe\">\n",
       "  <thead>\n",
       "    <tr style=\"text-align: right;\">\n",
       "      <th></th>\n",
       "      <th>Profit Ratio</th>\n",
       "      <th>Category</th>\n",
       "      <th>City</th>\n",
       "      <th>Country</th>\n",
       "      <th>Customer Name</th>\n",
       "      <th>Discount</th>\n",
       "      <th>Number of Records</th>\n",
       "      <th>Order Date</th>\n",
       "      <th>Order ID</th>\n",
       "      <th>Postal Code</th>\n",
       "      <th>...</th>\n",
       "      <th>Product Name</th>\n",
       "      <th>Profit</th>\n",
       "      <th>Quantity</th>\n",
       "      <th>Region</th>\n",
       "      <th>Sales</th>\n",
       "      <th>Segment</th>\n",
       "      <th>Ship Date</th>\n",
       "      <th>Ship Mode</th>\n",
       "      <th>State</th>\n",
       "      <th>Sub-Category</th>\n",
       "    </tr>\n",
       "  </thead>\n",
       "  <tbody>\n",
       "    <tr>\n",
       "      <th>0</th>\n",
       "      <td>0.16</td>\n",
       "      <td>Furniture</td>\n",
       "      <td>Henderson</td>\n",
       "      <td>United States</td>\n",
       "      <td>Claire Gute</td>\n",
       "      <td>0.0</td>\n",
       "      <td>1</td>\n",
       "      <td>11/8/2018</td>\n",
       "      <td>CA-2018-152156</td>\n",
       "      <td>42420.0</td>\n",
       "      <td>...</td>\n",
       "      <td>Bush Somerset Collection Bookcase</td>\n",
       "      <td>42</td>\n",
       "      <td>2</td>\n",
       "      <td>South</td>\n",
       "      <td>262</td>\n",
       "      <td>Consumer</td>\n",
       "      <td>11/11/2018</td>\n",
       "      <td>Second Class</td>\n",
       "      <td>Kentucky</td>\n",
       "      <td>Bookcases</td>\n",
       "    </tr>\n",
       "    <tr>\n",
       "      <th>1</th>\n",
       "      <td>0.30</td>\n",
       "      <td>Furniture</td>\n",
       "      <td>Henderson</td>\n",
       "      <td>United States</td>\n",
       "      <td>Claire Gute</td>\n",
       "      <td>0.0</td>\n",
       "      <td>1</td>\n",
       "      <td>11/8/2018</td>\n",
       "      <td>CA-2018-152156</td>\n",
       "      <td>42420.0</td>\n",
       "      <td>...</td>\n",
       "      <td>Hon Deluxe Fabric Upholstered Stacking Chairs,...</td>\n",
       "      <td>220</td>\n",
       "      <td>3</td>\n",
       "      <td>South</td>\n",
       "      <td>732</td>\n",
       "      <td>Consumer</td>\n",
       "      <td>11/11/2018</td>\n",
       "      <td>Second Class</td>\n",
       "      <td>Kentucky</td>\n",
       "      <td>Chairs</td>\n",
       "    </tr>\n",
       "  </tbody>\n",
       "</table>\n",
       "<p>2 rows × 21 columns</p>\n",
       "</div>"
      ],
      "text/plain": [
       "   Profit Ratio   Category       City        Country Customer Name  Discount  \\\n",
       "0          0.16  Furniture  Henderson  United States   Claire Gute       0.0   \n",
       "1          0.30  Furniture  Henderson  United States   Claire Gute       0.0   \n",
       "\n",
       "   Number of Records Order Date        Order ID  Postal Code     ...       \\\n",
       "0                  1  11/8/2018  CA-2018-152156      42420.0     ...        \n",
       "1                  1  11/8/2018  CA-2018-152156      42420.0     ...        \n",
       "\n",
       "                                        Product Name Profit  Quantity  Region  \\\n",
       "0                  Bush Somerset Collection Bookcase     42         2   South   \n",
       "1  Hon Deluxe Fabric Upholstered Stacking Chairs,...    220         3   South   \n",
       "\n",
       "  Sales   Segment   Ship Date     Ship Mode     State Sub-Category  \n",
       "0   262  Consumer  11/11/2018  Second Class  Kentucky    Bookcases  \n",
       "1   732  Consumer  11/11/2018  Second Class  Kentucky       Chairs  \n",
       "\n",
       "[2 rows x 21 columns]"
      ]
     },
     "execution_count": 89,
     "metadata": {},
     "output_type": "execute_result"
    }
   ],
   "source": [
    "#Read the csv file into a pandas dataframe\n",
    "df = pd.read_csv('Data/Sample-Superstore_Cleaned.csv')\n",
    "df.head(2)"
   ]
  },
  {
   "cell_type": "code",
   "execution_count": 90,
   "metadata": {
    "scrolled": true
   },
   "outputs": [
    {
     "name": "stdout",
     "output_type": "stream",
     "text": [
      "Rows in dataframe:   9994\n",
      "Columns in dataframe:   21\n"
     ]
    }
   ],
   "source": [
    "print(\"Rows in dataframe:  \", df.shape[0])\n",
    "print(\"Columns in dataframe:  \" , df.shape[1])"
   ]
  },
  {
   "cell_type": "markdown",
   "metadata": {},
   "source": [
    "### Data Cleanup (as needed)"
   ]
  },
  {
   "cell_type": "code",
   "execution_count": 91,
   "metadata": {
    "scrolled": true
   },
   "outputs": [
    {
     "data": {
      "text/plain": [
       "Profit Ratio         float64\n",
       "Category              object\n",
       "City                  object\n",
       "Country               object\n",
       "Customer Name         object\n",
       "Discount             float64\n",
       "Number of Records      int64\n",
       "Order Date            object\n",
       "Order ID              object\n",
       "Postal Code          float64\n",
       "Manufacturer          object\n",
       "Product Name          object\n",
       "Profit                 int64\n",
       "Quantity               int64\n",
       "Region                object\n",
       "Sales                  int64\n",
       "Segment               object\n",
       "Ship Date             object\n",
       "Ship Mode             object\n",
       "State                 object\n",
       "Sub-Category          object\n",
       "dtype: object"
      ]
     },
     "execution_count": 91,
     "metadata": {},
     "output_type": "execute_result"
    }
   ],
   "source": [
    "df.dtypes"
   ]
  },
  {
   "cell_type": "code",
   "execution_count": 92,
   "metadata": {},
   "outputs": [],
   "source": [
    "# Change Date columns to DateTime data types\n",
    "\n",
    "df['Order Date'] = pd.to_datetime(df['Order Date'])\n",
    "df['Ship Date'] = pd.to_datetime(df['Ship Date'])\n",
    "\n",
    "# Change Sales and Profit to floats\n",
    "df['Profit'] = pd.to_numeric(df['Profit']).astype(float)\n",
    "df['Sales'] = pd.to_numeric(df['Sales']).astype(float)"
   ]
  },
  {
   "cell_type": "code",
   "execution_count": 93,
   "metadata": {},
   "outputs": [
    {
     "data": {
      "text/plain": [
       "Profit Ratio                float64\n",
       "Category                     object\n",
       "City                         object\n",
       "Country                      object\n",
       "Customer Name                object\n",
       "Discount                    float64\n",
       "Number of Records             int64\n",
       "Order Date           datetime64[ns]\n",
       "Order ID                     object\n",
       "Postal Code                 float64\n",
       "Manufacturer                 object\n",
       "Product Name                 object\n",
       "Profit                      float64\n",
       "Quantity                      int64\n",
       "Region                       object\n",
       "Sales                       float64\n",
       "Segment                      object\n",
       "Ship Date            datetime64[ns]\n",
       "Ship Mode                    object\n",
       "State                        object\n",
       "Sub-Category                 object\n",
       "dtype: object"
      ]
     },
     "execution_count": 93,
     "metadata": {},
     "output_type": "execute_result"
    }
   ],
   "source": [
    "df.dtypes"
   ]
  },
  {
   "cell_type": "markdown",
   "metadata": {},
   "source": [
    "# Part 1:  Average Profit Ratio by Year \n",
    "- Create a new column named **order_year** based on the Order Date column \n",
    "- Group on order_year and plot Profit Ratio in a Vertical Bar Chart  \n",
    "  - We want the Average Profit Ratio, not a sum  \n",
    "  \n",
    "\n",
    "- **My References**  \n",
    "  - [**Date Columns**](../0_References/1_Pandas_Reference/DateTime_Columns.ipynb#Create-new-Columns-based-on-a-DateTime-column)"
   ]
  },
  {
   "cell_type": "code",
   "execution_count": 94,
   "metadata": {},
   "outputs": [
    {
     "name": "stdout",
     "output_type": "stream",
     "text": [
      "Rows in dataframe:   9994\n",
      "Columns in dataframe:   23\n"
     ]
    },
    {
     "data": {
      "text/html": [
       "<div>\n",
       "<style scoped>\n",
       "    .dataframe tbody tr th:only-of-type {\n",
       "        vertical-align: middle;\n",
       "    }\n",
       "\n",
       "    .dataframe tbody tr th {\n",
       "        vertical-align: top;\n",
       "    }\n",
       "\n",
       "    .dataframe thead th {\n",
       "        text-align: right;\n",
       "    }\n",
       "</style>\n",
       "<table border=\"1\" class=\"dataframe\">\n",
       "  <thead>\n",
       "    <tr style=\"text-align: right;\">\n",
       "      <th></th>\n",
       "      <th>Profit Ratio</th>\n",
       "      <th>Category</th>\n",
       "      <th>City</th>\n",
       "      <th>Country</th>\n",
       "      <th>Customer Name</th>\n",
       "      <th>Discount</th>\n",
       "      <th>Number of Records</th>\n",
       "      <th>Order Date</th>\n",
       "      <th>Order ID</th>\n",
       "      <th>Postal Code</th>\n",
       "      <th>...</th>\n",
       "      <th>Quantity</th>\n",
       "      <th>Region</th>\n",
       "      <th>Sales</th>\n",
       "      <th>Segment</th>\n",
       "      <th>Ship Date</th>\n",
       "      <th>Ship Mode</th>\n",
       "      <th>State</th>\n",
       "      <th>Sub-Category</th>\n",
       "      <th>order_year</th>\n",
       "      <th>order_year_quarter</th>\n",
       "    </tr>\n",
       "  </thead>\n",
       "  <tbody>\n",
       "    <tr>\n",
       "      <th>0</th>\n",
       "      <td>0.16</td>\n",
       "      <td>Furniture</td>\n",
       "      <td>Henderson</td>\n",
       "      <td>United States</td>\n",
       "      <td>Claire Gute</td>\n",
       "      <td>0.00</td>\n",
       "      <td>1</td>\n",
       "      <td>2018-11-08</td>\n",
       "      <td>CA-2018-152156</td>\n",
       "      <td>42420.0</td>\n",
       "      <td>...</td>\n",
       "      <td>2</td>\n",
       "      <td>South</td>\n",
       "      <td>262.0</td>\n",
       "      <td>Consumer</td>\n",
       "      <td>2018-11-11</td>\n",
       "      <td>Second Class</td>\n",
       "      <td>Kentucky</td>\n",
       "      <td>Bookcases</td>\n",
       "      <td>2018</td>\n",
       "      <td>2018Q4</td>\n",
       "    </tr>\n",
       "    <tr>\n",
       "      <th>1</th>\n",
       "      <td>0.30</td>\n",
       "      <td>Furniture</td>\n",
       "      <td>Henderson</td>\n",
       "      <td>United States</td>\n",
       "      <td>Claire Gute</td>\n",
       "      <td>0.00</td>\n",
       "      <td>1</td>\n",
       "      <td>2018-11-08</td>\n",
       "      <td>CA-2018-152156</td>\n",
       "      <td>42420.0</td>\n",
       "      <td>...</td>\n",
       "      <td>3</td>\n",
       "      <td>South</td>\n",
       "      <td>732.0</td>\n",
       "      <td>Consumer</td>\n",
       "      <td>2018-11-11</td>\n",
       "      <td>Second Class</td>\n",
       "      <td>Kentucky</td>\n",
       "      <td>Chairs</td>\n",
       "      <td>2018</td>\n",
       "      <td>2018Q4</td>\n",
       "    </tr>\n",
       "    <tr>\n",
       "      <th>2</th>\n",
       "      <td>0.47</td>\n",
       "      <td>Office Supplies</td>\n",
       "      <td>Los Angeles</td>\n",
       "      <td>United States</td>\n",
       "      <td>Darrin Van Huff</td>\n",
       "      <td>0.00</td>\n",
       "      <td>1</td>\n",
       "      <td>2018-06-12</td>\n",
       "      <td>CA-2018-138688</td>\n",
       "      <td>90036.0</td>\n",
       "      <td>...</td>\n",
       "      <td>2</td>\n",
       "      <td>West</td>\n",
       "      <td>15.0</td>\n",
       "      <td>Corporate</td>\n",
       "      <td>2018-06-16</td>\n",
       "      <td>Second Class</td>\n",
       "      <td>California</td>\n",
       "      <td>Labels</td>\n",
       "      <td>2018</td>\n",
       "      <td>2018Q2</td>\n",
       "    </tr>\n",
       "    <tr>\n",
       "      <th>3</th>\n",
       "      <td>-0.40</td>\n",
       "      <td>Furniture</td>\n",
       "      <td>Fort Lauderdale</td>\n",
       "      <td>United States</td>\n",
       "      <td>Sean O'Donnell</td>\n",
       "      <td>0.45</td>\n",
       "      <td>1</td>\n",
       "      <td>2017-10-11</td>\n",
       "      <td>US-2017-108966</td>\n",
       "      <td>33311.0</td>\n",
       "      <td>...</td>\n",
       "      <td>5</td>\n",
       "      <td>South</td>\n",
       "      <td>958.0</td>\n",
       "      <td>Consumer</td>\n",
       "      <td>2017-10-18</td>\n",
       "      <td>Standard Class</td>\n",
       "      <td>Florida</td>\n",
       "      <td>Tables</td>\n",
       "      <td>2017</td>\n",
       "      <td>2017Q4</td>\n",
       "    </tr>\n",
       "    <tr>\n",
       "      <th>4</th>\n",
       "      <td>0.11</td>\n",
       "      <td>Office Supplies</td>\n",
       "      <td>Fort Lauderdale</td>\n",
       "      <td>United States</td>\n",
       "      <td>Sean O'Donnell</td>\n",
       "      <td>0.20</td>\n",
       "      <td>1</td>\n",
       "      <td>2017-10-11</td>\n",
       "      <td>US-2017-108966</td>\n",
       "      <td>33311.0</td>\n",
       "      <td>...</td>\n",
       "      <td>2</td>\n",
       "      <td>South</td>\n",
       "      <td>22.0</td>\n",
       "      <td>Consumer</td>\n",
       "      <td>2017-10-18</td>\n",
       "      <td>Standard Class</td>\n",
       "      <td>Florida</td>\n",
       "      <td>Storage</td>\n",
       "      <td>2017</td>\n",
       "      <td>2017Q4</td>\n",
       "    </tr>\n",
       "  </tbody>\n",
       "</table>\n",
       "<p>5 rows × 23 columns</p>\n",
       "</div>"
      ],
      "text/plain": [
       "   Profit Ratio         Category             City        Country  \\\n",
       "0          0.16        Furniture        Henderson  United States   \n",
       "1          0.30        Furniture        Henderson  United States   \n",
       "2          0.47  Office Supplies      Los Angeles  United States   \n",
       "3         -0.40        Furniture  Fort Lauderdale  United States   \n",
       "4          0.11  Office Supplies  Fort Lauderdale  United States   \n",
       "\n",
       "     Customer Name  Discount  Number of Records Order Date        Order ID  \\\n",
       "0      Claire Gute      0.00                  1 2018-11-08  CA-2018-152156   \n",
       "1      Claire Gute      0.00                  1 2018-11-08  CA-2018-152156   \n",
       "2  Darrin Van Huff      0.00                  1 2018-06-12  CA-2018-138688   \n",
       "3   Sean O'Donnell      0.45                  1 2017-10-11  US-2017-108966   \n",
       "4   Sean O'Donnell      0.20                  1 2017-10-11  US-2017-108966   \n",
       "\n",
       "   Postal Code        ...         Quantity Region  Sales    Segment  \\\n",
       "0      42420.0        ...                2  South  262.0   Consumer   \n",
       "1      42420.0        ...                3  South  732.0   Consumer   \n",
       "2      90036.0        ...                2   West   15.0  Corporate   \n",
       "3      33311.0        ...                5  South  958.0   Consumer   \n",
       "4      33311.0        ...                2  South   22.0   Consumer   \n",
       "\n",
       "   Ship Date       Ship Mode       State Sub-Category order_year  \\\n",
       "0 2018-11-11    Second Class    Kentucky    Bookcases       2018   \n",
       "1 2018-11-11    Second Class    Kentucky       Chairs       2018   \n",
       "2 2018-06-16    Second Class  California       Labels       2018   \n",
       "3 2017-10-18  Standard Class     Florida       Tables       2017   \n",
       "4 2017-10-18  Standard Class     Florida      Storage       2017   \n",
       "\n",
       "  order_year_quarter  \n",
       "0             2018Q4  \n",
       "1             2018Q4  \n",
       "2             2018Q2  \n",
       "3             2017Q4  \n",
       "4             2017Q4  \n",
       "\n",
       "[5 rows x 23 columns]"
      ]
     },
     "execution_count": 94,
     "metadata": {},
     "output_type": "execute_result"
    }
   ],
   "source": [
    "df['order_year'] = df['Order Date'].dt.year\n",
    "df['order_year_quarter'] = df['Order Date'].dt.to_period('Q')\n",
    "\n",
    "print(\"Rows in dataframe:  \", df.shape[0])\n",
    "print(\"Columns in dataframe:  \" , df.shape[1])\n",
    "df.head()"
   ]
  },
  {
   "cell_type": "code",
   "execution_count": 95,
   "metadata": {},
   "outputs": [
    {
     "data": {
      "text/plain": [
       "array([2018, 2017, 2016, 2019], dtype=int64)"
      ]
     },
     "execution_count": 95,
     "metadata": {},
     "output_type": "execute_result"
    }
   ],
   "source": [
    "df['order_year'].unique()"
   ]
  },
  {
   "cell_type": "markdown",
   "metadata": {},
   "source": [
    "### groupby"
   ]
  },
  {
   "cell_type": "code",
   "execution_count": 118,
   "metadata": {
    "scrolled": true
   },
   "outputs": [
    {
     "data": {
      "text/html": [
       "<div>\n",
       "<style scoped>\n",
       "    .dataframe tbody tr th:only-of-type {\n",
       "        vertical-align: middle;\n",
       "    }\n",
       "\n",
       "    .dataframe tbody tr th {\n",
       "        vertical-align: top;\n",
       "    }\n",
       "\n",
       "    .dataframe thead th {\n",
       "        text-align: right;\n",
       "    }\n",
       "</style>\n",
       "<table border=\"1\" class=\"dataframe\">\n",
       "  <thead>\n",
       "    <tr style=\"text-align: right;\">\n",
       "      <th></th>\n",
       "      <th>Sales</th>\n",
       "      <th>Profit</th>\n",
       "      <th>Profit Ratio</th>\n",
       "    </tr>\n",
       "    <tr>\n",
       "      <th>order_year</th>\n",
       "      <th></th>\n",
       "      <th></th>\n",
       "      <th></th>\n",
       "    </tr>\n",
       "  </thead>\n",
       "  <tbody>\n",
       "    <tr>\n",
       "      <th>2016</th>\n",
       "      <td>242.977923</td>\n",
       "      <td>24.846964</td>\n",
       "      <td>0.118394</td>\n",
       "    </tr>\n",
       "    <tr>\n",
       "      <th>2017</th>\n",
       "      <td>223.862988</td>\n",
       "      <td>29.308278</td>\n",
       "      <td>0.117745</td>\n",
       "    </tr>\n",
       "    <tr>\n",
       "      <th>2018</th>\n",
       "      <td>235.506378</td>\n",
       "      <td>31.615771</td>\n",
       "      <td>0.130008</td>\n",
       "    </tr>\n",
       "    <tr>\n",
       "      <th>2019</th>\n",
       "      <td>221.402174</td>\n",
       "      <td>28.209843</td>\n",
       "      <td>0.116187</td>\n",
       "    </tr>\n",
       "  </tbody>\n",
       "</table>\n",
       "</div>"
      ],
      "text/plain": [
       "                 Sales     Profit  Profit Ratio\n",
       "order_year                                     \n",
       "2016        242.977923  24.846964      0.118394\n",
       "2017        223.862988  29.308278      0.117745\n",
       "2018        235.506378  31.615771      0.130008\n",
       "2019        221.402174  28.209843      0.116187"
      ]
     },
     "execution_count": 118,
     "metadata": {},
     "output_type": "execute_result"
    }
   ],
   "source": [
    "# Group by the new year column\n",
    "\n",
    "df_by_year_mean = df.groupby('order_year')['Sales','Profit','Profit Ratio'].mean()\n",
    "\n",
    "df_by_year_mean"
   ]
  },
  {
   "cell_type": "code",
   "execution_count": 119,
   "metadata": {},
   "outputs": [],
   "source": [
    "# Reset index\n",
    "\n",
    "df_by_year_mean.reset_index(inplace=True)"
   ]
  },
  {
   "cell_type": "code",
   "execution_count": 120,
   "metadata": {},
   "outputs": [
    {
     "data": {
      "text/html": [
       "<div>\n",
       "<style scoped>\n",
       "    .dataframe tbody tr th:only-of-type {\n",
       "        vertical-align: middle;\n",
       "    }\n",
       "\n",
       "    .dataframe tbody tr th {\n",
       "        vertical-align: top;\n",
       "    }\n",
       "\n",
       "    .dataframe thead th {\n",
       "        text-align: right;\n",
       "    }\n",
       "</style>\n",
       "<table border=\"1\" class=\"dataframe\">\n",
       "  <thead>\n",
       "    <tr style=\"text-align: right;\">\n",
       "      <th></th>\n",
       "      <th>order_year</th>\n",
       "      <th>Sales</th>\n",
       "      <th>Profit</th>\n",
       "      <th>Profit Ratio</th>\n",
       "    </tr>\n",
       "  </thead>\n",
       "  <tbody>\n",
       "    <tr>\n",
       "      <th>0</th>\n",
       "      <td>2016</td>\n",
       "      <td>242.977923</td>\n",
       "      <td>24.846964</td>\n",
       "      <td>0.118394</td>\n",
       "    </tr>\n",
       "    <tr>\n",
       "      <th>1</th>\n",
       "      <td>2017</td>\n",
       "      <td>223.862988</td>\n",
       "      <td>29.308278</td>\n",
       "      <td>0.117745</td>\n",
       "    </tr>\n",
       "    <tr>\n",
       "      <th>2</th>\n",
       "      <td>2018</td>\n",
       "      <td>235.506378</td>\n",
       "      <td>31.615771</td>\n",
       "      <td>0.130008</td>\n",
       "    </tr>\n",
       "  </tbody>\n",
       "</table>\n",
       "</div>"
      ],
      "text/plain": [
       "   order_year       Sales     Profit  Profit Ratio\n",
       "0        2016  242.977923  24.846964      0.118394\n",
       "1        2017  223.862988  29.308278      0.117745\n",
       "2        2018  235.506378  31.615771      0.130008"
      ]
     },
     "execution_count": 120,
     "metadata": {},
     "output_type": "execute_result"
    }
   ],
   "source": [
    "df_by_year_mean.head(3)"
   ]
  },
  {
   "cell_type": "code",
   "execution_count": 123,
   "metadata": {},
   "outputs": [
    {
     "data": {
      "application/vnd.plotly.v1+json": {
       "config": {
        "plotlyServerURL": "https://plot.ly"
       },
       "data": [
        {
         "alignmentgroup": "True",
         "hoverlabel": {
          "namelength": 0
         },
         "hovertemplate": "order_year=%{x}<br>Profit Ratio=%{text}",
         "legendgroup": "",
         "marker": {
          "color": "#1F77B4"
         },
         "name": "",
         "offsetgroup": "",
         "orientation": "v",
         "showlegend": false,
         "text": [
          0.11839438033115925,
          0.11774500475737416,
          0.13000773096250517,
          0.11618659420289919
         ],
         "textposition": "auto",
         "texttemplate": "%{text:.1%}",
         "type": "bar",
         "x": [
          2016,
          2017,
          2018,
          2019
         ],
         "xaxis": "x",
         "y": [
          0.11839438033115925,
          0.11774500475737416,
          0.13000773096250517,
          0.11618659420289919
         ],
         "yaxis": "y"
        }
       ],
       "layout": {
        "barmode": "relative",
        "legend": {
         "tracegroupgap": 0
        },
        "template": {
         "data": {
          "pie": [
           {
            "automargin": true,
            "type": "pie"
           }
          ],
          "scatter": [
           {
            "line": {
             "width": 3
            },
            "marker": {
             "size": 9
            },
            "type": "scatter"
           }
          ],
          "scatter3d": [
           {
            "line": {
             "width": 3
            },
            "marker": {
             "size": 9
            },
            "type": "scatter3d"
           }
          ],
          "scattergeo": [
           {
            "line": {
             "width": 3
            },
            "marker": {
             "size": 9
            },
            "type": "scattergeo"
           }
          ],
          "scattergl": [
           {
            "line": {
             "width": 3
            },
            "marker": {
             "size": 9
            },
            "type": "scattergl"
           }
          ],
          "scatterpolar": [
           {
            "line": {
             "width": 3
            },
            "marker": {
             "size": 9
            },
            "type": "scatterpolar"
           }
          ],
          "scatterpolargl": [
           {
            "line": {
             "width": 3
            },
            "marker": {
             "size": 9
            },
            "type": "scatterpolargl"
           }
          ],
          "scatterternary": [
           {
            "line": {
             "width": 3
            },
            "marker": {
             "size": 9
            },
            "type": "scatterternary"
           }
          ],
          "table": [
           {
            "cells": {
             "height": 30
            },
            "header": {
             "height": 36
            },
            "type": "table"
           }
          ]
         },
         "layout": {
          "font": {
           "size": 18
          },
          "xaxis": {
           "title": {
            "standoff": 15
           }
          },
          "yaxis": {
           "title": {
            "standoff": 15
           }
          }
         }
        },
        "title": {
         "text": "Part 1: Profit Ratio by Year"
        },
        "xaxis": {
         "anchor": "y",
         "domain": [
          0,
          1
         ],
         "dtick": 1,
         "showgrid": false,
         "title": {
          "text": ""
         }
        },
        "yaxis": {
         "anchor": "x",
         "domain": [
          0,
          1
         ],
         "dtick": 0.02,
         "tick0": 0,
         "tickformat": ",.0%",
         "title": {
          "text": "Profit Ratio"
         }
        }
       }
      },
      "text/html": [
       "<div>\n",
       "        \n",
       "        \n",
       "            <div id=\"c7e07594-ff3a-46f0-a8c1-1f0ba786125c\" class=\"plotly-graph-div\" style=\"height:525px; width:100%;\"></div>\n",
       "            <script type=\"text/javascript\">\n",
       "                require([\"plotly\"], function(Plotly) {\n",
       "                    window.PLOTLYENV=window.PLOTLYENV || {};\n",
       "                    \n",
       "                if (document.getElementById(\"c7e07594-ff3a-46f0-a8c1-1f0ba786125c\")) {\n",
       "                    Plotly.newPlot(\n",
       "                        'c7e07594-ff3a-46f0-a8c1-1f0ba786125c',\n",
       "                        [{\"alignmentgroup\": \"True\", \"hoverlabel\": {\"namelength\": 0}, \"hovertemplate\": \"order_year=%{x}<br>Profit Ratio=%{text}\", \"legendgroup\": \"\", \"marker\": {\"color\": \"#1F77B4\"}, \"name\": \"\", \"offsetgroup\": \"\", \"orientation\": \"v\", \"showlegend\": false, \"text\": [0.11839438033115925, 0.11774500475737416, 0.13000773096250517, 0.11618659420289919], \"textposition\": \"auto\", \"texttemplate\": \"%{text:.1%}\", \"type\": \"bar\", \"x\": [2016, 2017, 2018, 2019], \"xaxis\": \"x\", \"y\": [0.11839438033115925, 0.11774500475737416, 0.13000773096250517, 0.11618659420289919], \"yaxis\": \"y\"}],\n",
       "                        {\"barmode\": \"relative\", \"legend\": {\"tracegroupgap\": 0}, \"template\": {\"data\": {\"pie\": [{\"automargin\": true, \"type\": \"pie\"}], \"scatter\": [{\"line\": {\"width\": 3}, \"marker\": {\"size\": 9}, \"type\": \"scatter\"}], \"scatter3d\": [{\"line\": {\"width\": 3}, \"marker\": {\"size\": 9}, \"type\": \"scatter3d\"}], \"scattergeo\": [{\"line\": {\"width\": 3}, \"marker\": {\"size\": 9}, \"type\": \"scattergeo\"}], \"scattergl\": [{\"line\": {\"width\": 3}, \"marker\": {\"size\": 9}, \"type\": \"scattergl\"}], \"scatterpolar\": [{\"line\": {\"width\": 3}, \"marker\": {\"size\": 9}, \"type\": \"scatterpolar\"}], \"scatterpolargl\": [{\"line\": {\"width\": 3}, \"marker\": {\"size\": 9}, \"type\": \"scatterpolargl\"}], \"scatterternary\": [{\"line\": {\"width\": 3}, \"marker\": {\"size\": 9}, \"type\": \"scatterternary\"}], \"table\": [{\"cells\": {\"height\": 30}, \"header\": {\"height\": 36}, \"type\": \"table\"}]}, \"layout\": {\"font\": {\"size\": 18}, \"xaxis\": {\"title\": {\"standoff\": 15}}, \"yaxis\": {\"title\": {\"standoff\": 15}}}}, \"title\": {\"text\": \"Part 1: Profit Ratio by Year\"}, \"xaxis\": {\"anchor\": \"y\", \"domain\": [0.0, 1.0], \"dtick\": 1, \"showgrid\": false, \"title\": {\"text\": \"\"}}, \"yaxis\": {\"anchor\": \"x\", \"domain\": [0.0, 1.0], \"dtick\": 0.02, \"tick0\": 0, \"tickformat\": \",.0%\", \"title\": {\"text\": \"Profit Ratio\"}}},\n",
       "                        {\"responsive\": true}\n",
       "                    ).then(function(){\n",
       "                            \n",
       "var gd = document.getElementById('c7e07594-ff3a-46f0-a8c1-1f0ba786125c');\n",
       "var x = new MutationObserver(function (mutations, observer) {{\n",
       "        var display = window.getComputedStyle(gd).display;\n",
       "        if (!display || display === 'none') {{\n",
       "            console.log([gd, 'removed!']);\n",
       "            Plotly.purge(gd);\n",
       "            observer.disconnect();\n",
       "        }}\n",
       "}});\n",
       "\n",
       "// Listen for the removal of the full notebook cells\n",
       "var notebookContainer = gd.closest('#notebook-container');\n",
       "if (notebookContainer) {{\n",
       "    x.observe(notebookContainer, {childList: true});\n",
       "}}\n",
       "\n",
       "// Listen for the clearing of the current output cell\n",
       "var outputEl = gd.closest('.output');\n",
       "if (outputEl) {{\n",
       "    x.observe(outputEl, {childList: true});\n",
       "}}\n",
       "\n",
       "                        })\n",
       "                };\n",
       "                });\n",
       "            </script>\n",
       "        </div>"
      ]
     },
     "metadata": {},
     "output_type": "display_data"
    }
   ],
   "source": [
    "# Plot\n",
    "\n",
    "fig = px.bar(df_by_year_mean,\n",
    "            x='order_year',\n",
    "            y='Profit Ratio',\n",
    "             template='presentation',\n",
    "             text='Profit Ratio',\n",
    "             title='Part 1: Profit Ratio by Year')\n",
    "\n",
    "fig.update_xaxes(showgrid=False,\n",
    "                 title_text='',\n",
    "                dtick=1)\n",
    "\n",
    "fig.update_yaxes(dtick=0.02,\n",
    "                tick0=0,\n",
    "                 tickformat=',.0%')\n",
    "\n",
    "fig.update_traces(textposition='auto',\n",
    "                 texttemplate='%{text:.1%}')\n",
    "\n",
    "fig.show()"
   ]
  },
  {
   "cell_type": "markdown",
   "metadata": {},
   "source": [
    "# Part 2: Quarterly Sales by Region   \n",
    "- Create a new column named **order_year_quarter** based on the Order Date column \n",
    "  - An example of what the values in that new columns look like is:  *2016Q1*  \n",
    "- Group on order_quarter and Region\n",
    "- Plot Profit Ratio (for each of the Regions) in a Multi-Line Chart  \n",
    "\n",
    "\n",
    "\n",
    "\n",
    "- **My References**  \n",
    "  - [**Date Columns**](../0_References/1_Pandas_Reference/DateTime_Columns.ipynb#Create-new-Columns-based-on-a-DateTime-column)"
   ]
  },
  {
   "cell_type": "code",
   "execution_count": 100,
   "metadata": {},
   "outputs": [
    {
     "name": "stdout",
     "output_type": "stream",
     "text": [
      "Rows in dataframe:   9994\n",
      "Columns in dataframe:   23\n"
     ]
    },
    {
     "data": {
      "text/html": [
       "<div>\n",
       "<style scoped>\n",
       "    .dataframe tbody tr th:only-of-type {\n",
       "        vertical-align: middle;\n",
       "    }\n",
       "\n",
       "    .dataframe tbody tr th {\n",
       "        vertical-align: top;\n",
       "    }\n",
       "\n",
       "    .dataframe thead th {\n",
       "        text-align: right;\n",
       "    }\n",
       "</style>\n",
       "<table border=\"1\" class=\"dataframe\">\n",
       "  <thead>\n",
       "    <tr style=\"text-align: right;\">\n",
       "      <th></th>\n",
       "      <th>Profit Ratio</th>\n",
       "      <th>Category</th>\n",
       "      <th>City</th>\n",
       "      <th>Country</th>\n",
       "      <th>Customer Name</th>\n",
       "      <th>Discount</th>\n",
       "      <th>Number of Records</th>\n",
       "      <th>Order Date</th>\n",
       "      <th>Order ID</th>\n",
       "      <th>Postal Code</th>\n",
       "      <th>...</th>\n",
       "      <th>Quantity</th>\n",
       "      <th>Region</th>\n",
       "      <th>Sales</th>\n",
       "      <th>Segment</th>\n",
       "      <th>Ship Date</th>\n",
       "      <th>Ship Mode</th>\n",
       "      <th>State</th>\n",
       "      <th>Sub-Category</th>\n",
       "      <th>order_year</th>\n",
       "      <th>order_year_quarter</th>\n",
       "    </tr>\n",
       "  </thead>\n",
       "  <tbody>\n",
       "    <tr>\n",
       "      <th>0</th>\n",
       "      <td>0.16</td>\n",
       "      <td>Furniture</td>\n",
       "      <td>Henderson</td>\n",
       "      <td>United States</td>\n",
       "      <td>Claire Gute</td>\n",
       "      <td>0.0</td>\n",
       "      <td>1</td>\n",
       "      <td>2018-11-08</td>\n",
       "      <td>CA-2018-152156</td>\n",
       "      <td>42420.0</td>\n",
       "      <td>...</td>\n",
       "      <td>2</td>\n",
       "      <td>South</td>\n",
       "      <td>262.0</td>\n",
       "      <td>Consumer</td>\n",
       "      <td>2018-11-11</td>\n",
       "      <td>Second Class</td>\n",
       "      <td>Kentucky</td>\n",
       "      <td>Bookcases</td>\n",
       "      <td>2018</td>\n",
       "      <td>2018Q4</td>\n",
       "    </tr>\n",
       "    <tr>\n",
       "      <th>1</th>\n",
       "      <td>0.30</td>\n",
       "      <td>Furniture</td>\n",
       "      <td>Henderson</td>\n",
       "      <td>United States</td>\n",
       "      <td>Claire Gute</td>\n",
       "      <td>0.0</td>\n",
       "      <td>1</td>\n",
       "      <td>2018-11-08</td>\n",
       "      <td>CA-2018-152156</td>\n",
       "      <td>42420.0</td>\n",
       "      <td>...</td>\n",
       "      <td>3</td>\n",
       "      <td>South</td>\n",
       "      <td>732.0</td>\n",
       "      <td>Consumer</td>\n",
       "      <td>2018-11-11</td>\n",
       "      <td>Second Class</td>\n",
       "      <td>Kentucky</td>\n",
       "      <td>Chairs</td>\n",
       "      <td>2018</td>\n",
       "      <td>2018Q4</td>\n",
       "    </tr>\n",
       "  </tbody>\n",
       "</table>\n",
       "<p>2 rows × 23 columns</p>\n",
       "</div>"
      ],
      "text/plain": [
       "   Profit Ratio   Category       City        Country Customer Name  Discount  \\\n",
       "0          0.16  Furniture  Henderson  United States   Claire Gute       0.0   \n",
       "1          0.30  Furniture  Henderson  United States   Claire Gute       0.0   \n",
       "\n",
       "   Number of Records Order Date        Order ID  Postal Code  \\\n",
       "0                  1 2018-11-08  CA-2018-152156      42420.0   \n",
       "1                  1 2018-11-08  CA-2018-152156      42420.0   \n",
       "\n",
       "         ...         Quantity Region  Sales   Segment  Ship Date  \\\n",
       "0        ...                2  South  262.0  Consumer 2018-11-11   \n",
       "1        ...                3  South  732.0  Consumer 2018-11-11   \n",
       "\n",
       "      Ship Mode     State Sub-Category order_year order_year_quarter  \n",
       "0  Second Class  Kentucky    Bookcases       2018             2018Q4  \n",
       "1  Second Class  Kentucky       Chairs       2018             2018Q4  \n",
       "\n",
       "[2 rows x 23 columns]"
      ]
     },
     "execution_count": 100,
     "metadata": {},
     "output_type": "execute_result"
    }
   ],
   "source": [
    "# Create a new column:  order_year_quarter\n",
    "df['order_year_quarter'] = df['Order Date'].dt.to_period('Q')\n",
    "\n",
    "print(\"Rows in dataframe:  \", df.shape[0])\n",
    "print(\"Columns in dataframe:  \" , df.shape[1])\n",
    "df.head(2)"
   ]
  },
  {
   "cell_type": "markdown",
   "metadata": {},
   "source": [
    "### groupby"
   ]
  },
  {
   "cell_type": "code",
   "execution_count": 101,
   "metadata": {
    "scrolled": true
   },
   "outputs": [
    {
     "data": {
      "text/html": [
       "<div>\n",
       "<style scoped>\n",
       "    .dataframe tbody tr th:only-of-type {\n",
       "        vertical-align: middle;\n",
       "    }\n",
       "\n",
       "    .dataframe tbody tr th {\n",
       "        vertical-align: top;\n",
       "    }\n",
       "\n",
       "    .dataframe thead th {\n",
       "        text-align: right;\n",
       "    }\n",
       "</style>\n",
       "<table border=\"1\" class=\"dataframe\">\n",
       "  <thead>\n",
       "    <tr style=\"text-align: right;\">\n",
       "      <th></th>\n",
       "      <th></th>\n",
       "      <th>Sales</th>\n",
       "      <th>Profit</th>\n",
       "      <th>Profit Ratio</th>\n",
       "    </tr>\n",
       "    <tr>\n",
       "      <th>order_year_quarter</th>\n",
       "      <th>Region</th>\n",
       "      <th></th>\n",
       "      <th></th>\n",
       "      <th></th>\n",
       "    </tr>\n",
       "  </thead>\n",
       "  <tbody>\n",
       "    <tr>\n",
       "      <th rowspan=\"4\" valign=\"top\">2016Q1</th>\n",
       "      <th>Central</th>\n",
       "      <td>8602.0</td>\n",
       "      <td>138.0</td>\n",
       "      <td>-3.79</td>\n",
       "    </tr>\n",
       "    <tr>\n",
       "      <th>East</th>\n",
       "      <td>6580.0</td>\n",
       "      <td>-788.0</td>\n",
       "      <td>5.89</td>\n",
       "    </tr>\n",
       "    <tr>\n",
       "      <th>South</th>\n",
       "      <td>44260.0</td>\n",
       "      <td>2667.0</td>\n",
       "      <td>15.91</td>\n",
       "    </tr>\n",
       "    <tr>\n",
       "      <th>West</th>\n",
       "      <td>15003.0</td>\n",
       "      <td>1783.0</td>\n",
       "      <td>15.17</td>\n",
       "    </tr>\n",
       "    <tr>\n",
       "      <th>2016Q2</th>\n",
       "      <th>Central</th>\n",
       "      <td>17409.0</td>\n",
       "      <td>968.0</td>\n",
       "      <td>-1.17</td>\n",
       "    </tr>\n",
       "  </tbody>\n",
       "</table>\n",
       "</div>"
      ],
      "text/plain": [
       "                              Sales  Profit  Profit Ratio\n",
       "order_year_quarter Region                                \n",
       "2016Q1             Central   8602.0   138.0         -3.79\n",
       "                   East      6580.0  -788.0          5.89\n",
       "                   South    44260.0  2667.0         15.91\n",
       "                   West     15003.0  1783.0         15.17\n",
       "2016Q2             Central  17409.0   968.0         -1.17"
      ]
     },
     "execution_count": 101,
     "metadata": {},
     "output_type": "execute_result"
    }
   ],
   "source": [
    "# Group by the new quarter order_year_quarter column and Region\n",
    "\n",
    "df_by_quarter_sum = df.groupby(['order_year_quarter','Region'])['Sales','Profit','Profit Ratio'].sum()\n",
    "\n",
    "df_by_quarter_sum.head()"
   ]
  },
  {
   "cell_type": "code",
   "execution_count": 102,
   "metadata": {},
   "outputs": [
    {
     "data": {
      "text/html": [
       "<div>\n",
       "<style scoped>\n",
       "    .dataframe tbody tr th:only-of-type {\n",
       "        vertical-align: middle;\n",
       "    }\n",
       "\n",
       "    .dataframe tbody tr th {\n",
       "        vertical-align: top;\n",
       "    }\n",
       "\n",
       "    .dataframe thead th {\n",
       "        text-align: right;\n",
       "    }\n",
       "</style>\n",
       "<table border=\"1\" class=\"dataframe\">\n",
       "  <thead>\n",
       "    <tr style=\"text-align: right;\">\n",
       "      <th></th>\n",
       "      <th>order_year_quarter</th>\n",
       "      <th>Region</th>\n",
       "      <th>Sales</th>\n",
       "      <th>Profit</th>\n",
       "      <th>Profit Ratio</th>\n",
       "    </tr>\n",
       "  </thead>\n",
       "  <tbody>\n",
       "    <tr>\n",
       "      <th>0</th>\n",
       "      <td>2016Q1</td>\n",
       "      <td>Central</td>\n",
       "      <td>8602.0</td>\n",
       "      <td>138.0</td>\n",
       "      <td>-3.79</td>\n",
       "    </tr>\n",
       "    <tr>\n",
       "      <th>1</th>\n",
       "      <td>2016Q1</td>\n",
       "      <td>East</td>\n",
       "      <td>6580.0</td>\n",
       "      <td>-788.0</td>\n",
       "      <td>5.89</td>\n",
       "    </tr>\n",
       "  </tbody>\n",
       "</table>\n",
       "</div>"
      ],
      "text/plain": [
       "  order_year_quarter   Region   Sales  Profit  Profit Ratio\n",
       "0             2016Q1  Central  8602.0   138.0         -3.79\n",
       "1             2016Q1     East  6580.0  -788.0          5.89"
      ]
     },
     "execution_count": 102,
     "metadata": {},
     "output_type": "execute_result"
    }
   ],
   "source": [
    "# Reset index\n",
    "df_by_quarter_sum.reset_index(inplace=True)\n",
    "df_by_quarter_sum.head(2)"
   ]
  },
  {
   "cell_type": "code",
   "execution_count": 103,
   "metadata": {},
   "outputs": [
    {
     "data": {
      "text/plain": [
       "order_year_quarter     object\n",
       "Region                 object\n",
       "Sales                 float64\n",
       "Profit                float64\n",
       "Profit Ratio          float64\n",
       "dtype: object"
      ]
     },
     "execution_count": 103,
     "metadata": {},
     "output_type": "execute_result"
    }
   ],
   "source": [
    "df_by_quarter_sum.dtypes"
   ]
  },
  {
   "cell_type": "code",
   "execution_count": 104,
   "metadata": {},
   "outputs": [],
   "source": [
    "# Convert the data type of the new column to string (plotly likes this data better for this chart)\n",
    "df_by_quarter_sum['order_year_quarter'] = df_by_quarter_sum['order_year_quarter'].astype(str)"
   ]
  },
  {
   "cell_type": "code",
   "execution_count": 105,
   "metadata": {},
   "outputs": [
    {
     "data": {
      "application/vnd.plotly.v1+json": {
       "config": {
        "plotlyServerURL": "https://plot.ly"
       },
       "data": [
        {
         "hoverlabel": {
          "namelength": 0
         },
         "hovertemplate": "Region=Central<br>order_year_quarter=%{x}<br>Sales=%{y}",
         "legendgroup": "Region=Central",
         "line": {
          "color": "#1F77B4",
          "dash": "solid"
         },
         "mode": "lines",
         "name": "Region=Central",
         "showlegend": true,
         "type": "scatter",
         "x": [
          "2016Q1",
          "2016Q2",
          "2016Q3",
          "2016Q4",
          "2017Q1",
          "2017Q2",
          "2017Q3",
          "2017Q4",
          "2018Q1",
          "2018Q2",
          "2018Q3",
          "2018Q4",
          "2019Q1",
          "2019Q2",
          "2019Q3",
          "2019Q4"
         ],
         "xaxis": "x",
         "y": [
          8602,
          17409,
          44175,
          33664,
          11769,
          23978,
          24484,
          42644,
          20210,
          25759,
          33386,
          68079,
          40533,
          27935,
          32470,
          46159
         ],
         "yaxis": "y"
        },
        {
         "hoverlabel": {
          "namelength": 0
         },
         "hovertemplate": "Region=East<br>order_year_quarter=%{x}<br>Sales=%{y}",
         "legendgroup": "Region=East",
         "line": {
          "color": "#FF7F0E",
          "dash": "solid"
         },
         "mode": "lines",
         "name": "Region=East",
         "showlegend": true,
         "type": "scatter",
         "x": [
          "2016Q1",
          "2016Q2",
          "2016Q3",
          "2016Q4",
          "2017Q1",
          "2017Q2",
          "2017Q3",
          "2017Q4",
          "2018Q1",
          "2018Q2",
          "2018Q3",
          "2018Q4",
          "2019Q1",
          "2019Q2",
          "2019Q3",
          "2019Q4"
         ],
         "xaxis": "x",
         "y": [
          6580,
          21063,
          33445,
          67596,
          17146,
          22703,
          50783,
          65710,
          24778,
          52176,
          38051,
          65701,
          18057,
          31510,
          65510,
          98025
         ],
         "yaxis": "y"
        },
        {
         "hoverlabel": {
          "namelength": 0
         },
         "hovertemplate": "Region=South<br>order_year_quarter=%{x}<br>Sales=%{y}",
         "legendgroup": "Region=South",
         "line": {
          "color": "#2CA02C",
          "dash": "solid"
         },
         "mode": "lines",
         "name": "Region=South",
         "showlegend": true,
         "type": "scatter",
         "x": [
          "2016Q1",
          "2016Q2",
          "2016Q3",
          "2016Q4",
          "2017Q1",
          "2017Q2",
          "2017Q3",
          "2017Q4",
          "2018Q1",
          "2018Q2",
          "2018Q3",
          "2018Q4",
          "2019Q1",
          "2019Q2",
          "2019Q3",
          "2019Q4"
         ],
         "xaxis": "x",
         "y": [
          44260,
          22524,
          16063,
          20996,
          16447,
          16257,
          21461,
          17200,
          23931,
          18386,
          21636,
          29664,
          13645,
          29328,
          23879,
          56073
         ],
         "yaxis": "y"
        },
        {
         "hoverlabel": {
          "namelength": 0
         },
         "hovertemplate": "Region=West<br>order_year_quarter=%{x}<br>Sales=%{y}",
         "legendgroup": "Region=West",
         "line": {
          "color": "#D62728",
          "dash": "solid"
         },
         "mode": "lines",
         "name": "Region=West",
         "showlegend": true,
         "type": "scatter",
         "x": [
          "2016Q1",
          "2016Q2",
          "2016Q3",
          "2016Q4",
          "2017Q1",
          "2017Q2",
          "2017Q3",
          "2017Q4",
          "2018Q1",
          "2018Q2",
          "2018Q3",
          "2018Q4",
          "2019Q1",
          "2019Q2",
          "2019Q3",
          "2019Q4"
         ],
         "xaxis": "x",
         "y": [
          15003,
          25544,
          49960,
          57371,
          23496,
          26197,
          33537,
          56748,
          24324,
          39781,
          50723,
          72670,
          50927,
          44993,
          74425,
          79815
         ],
         "yaxis": "y"
        }
       ],
       "layout": {
        "legend": {
         "tracegroupgap": 0
        },
        "template": {
         "data": {
          "pie": [
           {
            "automargin": true,
            "type": "pie"
           }
          ],
          "scatter": [
           {
            "line": {
             "width": 3
            },
            "marker": {
             "size": 9
            },
            "type": "scatter"
           }
          ],
          "scatter3d": [
           {
            "line": {
             "width": 3
            },
            "marker": {
             "size": 9
            },
            "type": "scatter3d"
           }
          ],
          "scattergeo": [
           {
            "line": {
             "width": 3
            },
            "marker": {
             "size": 9
            },
            "type": "scattergeo"
           }
          ],
          "scattergl": [
           {
            "line": {
             "width": 3
            },
            "marker": {
             "size": 9
            },
            "type": "scattergl"
           }
          ],
          "scatterpolar": [
           {
            "line": {
             "width": 3
            },
            "marker": {
             "size": 9
            },
            "type": "scatterpolar"
           }
          ],
          "scatterpolargl": [
           {
            "line": {
             "width": 3
            },
            "marker": {
             "size": 9
            },
            "type": "scatterpolargl"
           }
          ],
          "scatterternary": [
           {
            "line": {
             "width": 3
            },
            "marker": {
             "size": 9
            },
            "type": "scatterternary"
           }
          ],
          "table": [
           {
            "cells": {
             "height": 30
            },
            "header": {
             "height": 36
            },
            "type": "table"
           }
          ]
         },
         "layout": {
          "font": {
           "size": 18
          },
          "xaxis": {
           "title": {
            "standoff": 15
           }
          },
          "yaxis": {
           "title": {
            "standoff": 15
           }
          }
         }
        },
        "title": {
         "text": "Part 2: Quarterly Sales by Region"
        },
        "xaxis": {
         "anchor": "y",
         "domain": [
          0,
          1
         ],
         "title": {
          "text": "order_year_quarter"
         }
        },
        "yaxis": {
         "anchor": "x",
         "domain": [
          0,
          1
         ],
         "title": {
          "text": "Sales"
         }
        }
       }
      },
      "text/html": [
       "<div>\n",
       "        \n",
       "        \n",
       "            <div id=\"cbb014e1-efc8-4a82-a39e-7fc3dfe1f866\" class=\"plotly-graph-div\" style=\"height:525px; width:100%;\"></div>\n",
       "            <script type=\"text/javascript\">\n",
       "                require([\"plotly\"], function(Plotly) {\n",
       "                    window.PLOTLYENV=window.PLOTLYENV || {};\n",
       "                    \n",
       "                if (document.getElementById(\"cbb014e1-efc8-4a82-a39e-7fc3dfe1f866\")) {\n",
       "                    Plotly.newPlot(\n",
       "                        'cbb014e1-efc8-4a82-a39e-7fc3dfe1f866',\n",
       "                        [{\"hoverlabel\": {\"namelength\": 0}, \"hovertemplate\": \"Region=Central<br>order_year_quarter=%{x}<br>Sales=%{y}\", \"legendgroup\": \"Region=Central\", \"line\": {\"color\": \"#1F77B4\", \"dash\": \"solid\"}, \"mode\": \"lines\", \"name\": \"Region=Central\", \"showlegend\": true, \"type\": \"scatter\", \"x\": [\"2016Q1\", \"2016Q2\", \"2016Q3\", \"2016Q4\", \"2017Q1\", \"2017Q2\", \"2017Q3\", \"2017Q4\", \"2018Q1\", \"2018Q2\", \"2018Q3\", \"2018Q4\", \"2019Q1\", \"2019Q2\", \"2019Q3\", \"2019Q4\"], \"xaxis\": \"x\", \"y\": [8602.0, 17409.0, 44175.0, 33664.0, 11769.0, 23978.0, 24484.0, 42644.0, 20210.0, 25759.0, 33386.0, 68079.0, 40533.0, 27935.0, 32470.0, 46159.0], \"yaxis\": \"y\"}, {\"hoverlabel\": {\"namelength\": 0}, \"hovertemplate\": \"Region=East<br>order_year_quarter=%{x}<br>Sales=%{y}\", \"legendgroup\": \"Region=East\", \"line\": {\"color\": \"#FF7F0E\", \"dash\": \"solid\"}, \"mode\": \"lines\", \"name\": \"Region=East\", \"showlegend\": true, \"type\": \"scatter\", \"x\": [\"2016Q1\", \"2016Q2\", \"2016Q3\", \"2016Q4\", \"2017Q1\", \"2017Q2\", \"2017Q3\", \"2017Q4\", \"2018Q1\", \"2018Q2\", \"2018Q3\", \"2018Q4\", \"2019Q1\", \"2019Q2\", \"2019Q3\", \"2019Q4\"], \"xaxis\": \"x\", \"y\": [6580.0, 21063.0, 33445.0, 67596.0, 17146.0, 22703.0, 50783.0, 65710.0, 24778.0, 52176.0, 38051.0, 65701.0, 18057.0, 31510.0, 65510.0, 98025.0], \"yaxis\": \"y\"}, {\"hoverlabel\": {\"namelength\": 0}, \"hovertemplate\": \"Region=South<br>order_year_quarter=%{x}<br>Sales=%{y}\", \"legendgroup\": \"Region=South\", \"line\": {\"color\": \"#2CA02C\", \"dash\": \"solid\"}, \"mode\": \"lines\", \"name\": \"Region=South\", \"showlegend\": true, \"type\": \"scatter\", \"x\": [\"2016Q1\", \"2016Q2\", \"2016Q3\", \"2016Q4\", \"2017Q1\", \"2017Q2\", \"2017Q3\", \"2017Q4\", \"2018Q1\", \"2018Q2\", \"2018Q3\", \"2018Q4\", \"2019Q1\", \"2019Q2\", \"2019Q3\", \"2019Q4\"], \"xaxis\": \"x\", \"y\": [44260.0, 22524.0, 16063.0, 20996.0, 16447.0, 16257.0, 21461.0, 17200.0, 23931.0, 18386.0, 21636.0, 29664.0, 13645.0, 29328.0, 23879.0, 56073.0], \"yaxis\": \"y\"}, {\"hoverlabel\": {\"namelength\": 0}, \"hovertemplate\": \"Region=West<br>order_year_quarter=%{x}<br>Sales=%{y}\", \"legendgroup\": \"Region=West\", \"line\": {\"color\": \"#D62728\", \"dash\": \"solid\"}, \"mode\": \"lines\", \"name\": \"Region=West\", \"showlegend\": true, \"type\": \"scatter\", \"x\": [\"2016Q1\", \"2016Q2\", \"2016Q3\", \"2016Q4\", \"2017Q1\", \"2017Q2\", \"2017Q3\", \"2017Q4\", \"2018Q1\", \"2018Q2\", \"2018Q3\", \"2018Q4\", \"2019Q1\", \"2019Q2\", \"2019Q3\", \"2019Q4\"], \"xaxis\": \"x\", \"y\": [15003.0, 25544.0, 49960.0, 57371.0, 23496.0, 26197.0, 33537.0, 56748.0, 24324.0, 39781.0, 50723.0, 72670.0, 50927.0, 44993.0, 74425.0, 79815.0], \"yaxis\": \"y\"}],\n",
       "                        {\"legend\": {\"tracegroupgap\": 0}, \"template\": {\"data\": {\"pie\": [{\"automargin\": true, \"type\": \"pie\"}], \"scatter\": [{\"line\": {\"width\": 3}, \"marker\": {\"size\": 9}, \"type\": \"scatter\"}], \"scatter3d\": [{\"line\": {\"width\": 3}, \"marker\": {\"size\": 9}, \"type\": \"scatter3d\"}], \"scattergeo\": [{\"line\": {\"width\": 3}, \"marker\": {\"size\": 9}, \"type\": \"scattergeo\"}], \"scattergl\": [{\"line\": {\"width\": 3}, \"marker\": {\"size\": 9}, \"type\": \"scattergl\"}], \"scatterpolar\": [{\"line\": {\"width\": 3}, \"marker\": {\"size\": 9}, \"type\": \"scatterpolar\"}], \"scatterpolargl\": [{\"line\": {\"width\": 3}, \"marker\": {\"size\": 9}, \"type\": \"scatterpolargl\"}], \"scatterternary\": [{\"line\": {\"width\": 3}, \"marker\": {\"size\": 9}, \"type\": \"scatterternary\"}], \"table\": [{\"cells\": {\"height\": 30}, \"header\": {\"height\": 36}, \"type\": \"table\"}]}, \"layout\": {\"font\": {\"size\": 18}, \"xaxis\": {\"title\": {\"standoff\": 15}}, \"yaxis\": {\"title\": {\"standoff\": 15}}}}, \"title\": {\"text\": \"Part 2: Quarterly Sales by Region\"}, \"xaxis\": {\"anchor\": \"y\", \"domain\": [0.0, 1.0], \"title\": {\"text\": \"order_year_quarter\"}}, \"yaxis\": {\"anchor\": \"x\", \"domain\": [0.0, 1.0], \"title\": {\"text\": \"Sales\"}}},\n",
       "                        {\"responsive\": true}\n",
       "                    ).then(function(){\n",
       "                            \n",
       "var gd = document.getElementById('cbb014e1-efc8-4a82-a39e-7fc3dfe1f866');\n",
       "var x = new MutationObserver(function (mutations, observer) {{\n",
       "        var display = window.getComputedStyle(gd).display;\n",
       "        if (!display || display === 'none') {{\n",
       "            console.log([gd, 'removed!']);\n",
       "            Plotly.purge(gd);\n",
       "            observer.disconnect();\n",
       "        }}\n",
       "}});\n",
       "\n",
       "// Listen for the removal of the full notebook cells\n",
       "var notebookContainer = gd.closest('#notebook-container');\n",
       "if (notebookContainer) {{\n",
       "    x.observe(notebookContainer, {childList: true});\n",
       "}}\n",
       "\n",
       "// Listen for the clearing of the current output cell\n",
       "var outputEl = gd.closest('.output');\n",
       "if (outputEl) {{\n",
       "    x.observe(outputEl, {childList: true});\n",
       "}}\n",
       "\n",
       "                        })\n",
       "                };\n",
       "                });\n",
       "            </script>\n",
       "        </div>"
      ]
     },
     "metadata": {},
     "output_type": "display_data"
    }
   ],
   "source": [
    "# Plot\n",
    "fig = px.line(df_by_quarter_sum,\n",
    "            x='order_year_quarter',\n",
    "            y='Sales',\n",
    "            color='Region',\n",
    "            template='presentation',\n",
    "            title='Part 2: Quarterly Sales by Region')\n",
    "\n",
    "fig.show()\n"
   ]
  },
  {
   "cell_type": "markdown",
   "metadata": {},
   "source": [
    "# Part 3: Total Sales and Profit by Quarter"
   ]
  },
  {
   "cell_type": "code",
   "execution_count": 106,
   "metadata": {
    "scrolled": true
   },
   "outputs": [],
   "source": [
    "# Group by the order_year_quarter column\n",
    "\n",
    "df_P3 = df.groupby('order_year_quarter').sum()"
   ]
  },
  {
   "cell_type": "code",
   "execution_count": 107,
   "metadata": {},
   "outputs": [
    {
     "data": {
      "text/html": [
       "<div>\n",
       "<style scoped>\n",
       "    .dataframe tbody tr th:only-of-type {\n",
       "        vertical-align: middle;\n",
       "    }\n",
       "\n",
       "    .dataframe tbody tr th {\n",
       "        vertical-align: top;\n",
       "    }\n",
       "\n",
       "    .dataframe thead th {\n",
       "        text-align: right;\n",
       "    }\n",
       "</style>\n",
       "<table border=\"1\" class=\"dataframe\">\n",
       "  <thead>\n",
       "    <tr style=\"text-align: right;\">\n",
       "      <th></th>\n",
       "      <th>order_year_quarter</th>\n",
       "      <th>Profit Ratio</th>\n",
       "      <th>Discount</th>\n",
       "      <th>Number of Records</th>\n",
       "      <th>Postal Code</th>\n",
       "      <th>Profit</th>\n",
       "      <th>Quantity</th>\n",
       "      <th>Sales</th>\n",
       "      <th>order_year</th>\n",
       "    </tr>\n",
       "  </thead>\n",
       "  <tbody>\n",
       "    <tr>\n",
       "      <th>0</th>\n",
       "      <td>2016Q1</td>\n",
       "      <td>33.18</td>\n",
       "      <td>44.40</td>\n",
       "      <td>282</td>\n",
       "      <td>15706610.0</td>\n",
       "      <td>3800.0</td>\n",
       "      <td>1028</td>\n",
       "      <td>74445.0</td>\n",
       "      <td>568512</td>\n",
       "    </tr>\n",
       "    <tr>\n",
       "      <th>1</th>\n",
       "      <td>2016Q2</td>\n",
       "      <td>61.04</td>\n",
       "      <td>57.02</td>\n",
       "      <td>392</td>\n",
       "      <td>21049066.0</td>\n",
       "      <td>11201.0</td>\n",
       "      <td>1523</td>\n",
       "      <td>86540.0</td>\n",
       "      <td>790272</td>\n",
       "    </tr>\n",
       "  </tbody>\n",
       "</table>\n",
       "</div>"
      ],
      "text/plain": [
       "  order_year_quarter  Profit Ratio  Discount  Number of Records  Postal Code  \\\n",
       "0             2016Q1         33.18     44.40                282   15706610.0   \n",
       "1             2016Q2         61.04     57.02                392   21049066.0   \n",
       "\n",
       "    Profit  Quantity    Sales  order_year  \n",
       "0   3800.0      1028  74445.0      568512  \n",
       "1  11201.0      1523  86540.0      790272  "
      ]
     },
     "execution_count": 107,
     "metadata": {},
     "output_type": "execute_result"
    }
   ],
   "source": [
    "# Reset index\n",
    "df_P3.reset_index(inplace=True)\n",
    "df_P3.head(2)"
   ]
  },
  {
   "cell_type": "code",
   "execution_count": 108,
   "metadata": {},
   "outputs": [
    {
     "data": {
      "text/plain": [
       "order_year_quarter     object\n",
       "Profit Ratio          float64\n",
       "Discount              float64\n",
       "Number of Records       int64\n",
       "Postal Code           float64\n",
       "Profit                float64\n",
       "Quantity                int64\n",
       "Sales                 float64\n",
       "order_year              int64\n",
       "dtype: object"
      ]
     },
     "execution_count": 108,
     "metadata": {},
     "output_type": "execute_result"
    }
   ],
   "source": [
    "df_P3.dtypes"
   ]
  },
  {
   "cell_type": "code",
   "execution_count": 109,
   "metadata": {},
   "outputs": [],
   "source": [
    "# Convert the data type of the new column to string (plotly likes this data better for this chart)\n",
    "df_P3['order_year_quarter'] = df_P3['order_year_quarter'].astype(str)"
   ]
  },
  {
   "cell_type": "code",
   "execution_count": 110,
   "metadata": {},
   "outputs": [
    {
     "data": {
      "text/html": [
       "<div>\n",
       "<style scoped>\n",
       "    .dataframe tbody tr th:only-of-type {\n",
       "        vertical-align: middle;\n",
       "    }\n",
       "\n",
       "    .dataframe tbody tr th {\n",
       "        vertical-align: top;\n",
       "    }\n",
       "\n",
       "    .dataframe thead th {\n",
       "        text-align: right;\n",
       "    }\n",
       "</style>\n",
       "<table border=\"1\" class=\"dataframe\">\n",
       "  <thead>\n",
       "    <tr style=\"text-align: right;\">\n",
       "      <th></th>\n",
       "      <th>order_year_quarter</th>\n",
       "      <th>Profit Ratio</th>\n",
       "      <th>Discount</th>\n",
       "      <th>Number of Records</th>\n",
       "      <th>Postal Code</th>\n",
       "      <th>Profit</th>\n",
       "      <th>Quantity</th>\n",
       "      <th>Sales</th>\n",
       "      <th>order_year</th>\n",
       "    </tr>\n",
       "  </thead>\n",
       "  <tbody>\n",
       "    <tr>\n",
       "      <th>0</th>\n",
       "      <td>2016Q1</td>\n",
       "      <td>33.18</td>\n",
       "      <td>44.40</td>\n",
       "      <td>282</td>\n",
       "      <td>15706610.0</td>\n",
       "      <td>3800.0</td>\n",
       "      <td>1028</td>\n",
       "      <td>74445.0</td>\n",
       "      <td>568512</td>\n",
       "    </tr>\n",
       "    <tr>\n",
       "      <th>1</th>\n",
       "      <td>2016Q2</td>\n",
       "      <td>61.04</td>\n",
       "      <td>57.02</td>\n",
       "      <td>392</td>\n",
       "      <td>21049066.0</td>\n",
       "      <td>11201.0</td>\n",
       "      <td>1523</td>\n",
       "      <td>86540.0</td>\n",
       "      <td>790272</td>\n",
       "    </tr>\n",
       "    <tr>\n",
       "      <th>2</th>\n",
       "      <td>2016Q3</td>\n",
       "      <td>72.20</td>\n",
       "      <td>87.47</td>\n",
       "      <td>564</td>\n",
       "      <td>32196388.0</td>\n",
       "      <td>12793.0</td>\n",
       "      <td>2159</td>\n",
       "      <td>143643.0</td>\n",
       "      <td>1137024</td>\n",
       "    </tr>\n",
       "  </tbody>\n",
       "</table>\n",
       "</div>"
      ],
      "text/plain": [
       "  order_year_quarter  Profit Ratio  Discount  Number of Records  Postal Code  \\\n",
       "0             2016Q1         33.18     44.40                282   15706610.0   \n",
       "1             2016Q2         61.04     57.02                392   21049066.0   \n",
       "2             2016Q3         72.20     87.47                564   32196388.0   \n",
       "\n",
       "    Profit  Quantity     Sales  order_year  \n",
       "0   3800.0      1028   74445.0      568512  \n",
       "1  11201.0      1523   86540.0      790272  \n",
       "2  12793.0      2159  143643.0     1137024  "
      ]
     },
     "execution_count": 110,
     "metadata": {},
     "output_type": "execute_result"
    }
   ],
   "source": [
    "df_P3.head(3)"
   ]
  },
  {
   "cell_type": "markdown",
   "metadata": {},
   "source": [
    "### Melt "
   ]
  },
  {
   "cell_type": "code",
   "execution_count": 111,
   "metadata": {},
   "outputs": [
    {
     "data": {
      "text/html": [
       "<div>\n",
       "<style scoped>\n",
       "    .dataframe tbody tr th:only-of-type {\n",
       "        vertical-align: middle;\n",
       "    }\n",
       "\n",
       "    .dataframe tbody tr th {\n",
       "        vertical-align: top;\n",
       "    }\n",
       "\n",
       "    .dataframe thead th {\n",
       "        text-align: right;\n",
       "    }\n",
       "</style>\n",
       "<table border=\"1\" class=\"dataframe\">\n",
       "  <thead>\n",
       "    <tr style=\"text-align: right;\">\n",
       "      <th></th>\n",
       "      <th>order_year_quarter</th>\n",
       "      <th>Measure Type</th>\n",
       "      <th>Measure Value</th>\n",
       "    </tr>\n",
       "  </thead>\n",
       "  <tbody>\n",
       "    <tr>\n",
       "      <th>0</th>\n",
       "      <td>2016Q1</td>\n",
       "      <td>Sales</td>\n",
       "      <td>74445.0</td>\n",
       "    </tr>\n",
       "    <tr>\n",
       "      <th>1</th>\n",
       "      <td>2016Q2</td>\n",
       "      <td>Sales</td>\n",
       "      <td>86540.0</td>\n",
       "    </tr>\n",
       "    <tr>\n",
       "      <th>2</th>\n",
       "      <td>2016Q3</td>\n",
       "      <td>Sales</td>\n",
       "      <td>143643.0</td>\n",
       "    </tr>\n",
       "    <tr>\n",
       "      <th>3</th>\n",
       "      <td>2016Q4</td>\n",
       "      <td>Sales</td>\n",
       "      <td>179627.0</td>\n",
       "    </tr>\n",
       "    <tr>\n",
       "      <th>4</th>\n",
       "      <td>2017Q1</td>\n",
       "      <td>Sales</td>\n",
       "      <td>68858.0</td>\n",
       "    </tr>\n",
       "    <tr>\n",
       "      <th>5</th>\n",
       "      <td>2017Q2</td>\n",
       "      <td>Sales</td>\n",
       "      <td>89135.0</td>\n",
       "    </tr>\n",
       "    <tr>\n",
       "      <th>6</th>\n",
       "      <td>2017Q3</td>\n",
       "      <td>Sales</td>\n",
       "      <td>130265.0</td>\n",
       "    </tr>\n",
       "    <tr>\n",
       "      <th>7</th>\n",
       "      <td>2017Q4</td>\n",
       "      <td>Sales</td>\n",
       "      <td>182302.0</td>\n",
       "    </tr>\n",
       "    <tr>\n",
       "      <th>8</th>\n",
       "      <td>2018Q1</td>\n",
       "      <td>Sales</td>\n",
       "      <td>93243.0</td>\n",
       "    </tr>\n",
       "    <tr>\n",
       "      <th>9</th>\n",
       "      <td>2018Q2</td>\n",
       "      <td>Sales</td>\n",
       "      <td>136102.0</td>\n",
       "    </tr>\n",
       "  </tbody>\n",
       "</table>\n",
       "</div>"
      ],
      "text/plain": [
       "  order_year_quarter Measure Type  Measure Value\n",
       "0             2016Q1        Sales        74445.0\n",
       "1             2016Q2        Sales        86540.0\n",
       "2             2016Q3        Sales       143643.0\n",
       "3             2016Q4        Sales       179627.0\n",
       "4             2017Q1        Sales        68858.0\n",
       "5             2017Q2        Sales        89135.0\n",
       "6             2017Q3        Sales       130265.0\n",
       "7             2017Q4        Sales       182302.0\n",
       "8             2018Q1        Sales        93243.0\n",
       "9             2018Q2        Sales       136102.0"
      ]
     },
     "execution_count": 111,
     "metadata": {},
     "output_type": "execute_result"
    }
   ],
   "source": [
    "# Melt \n",
    "df_P3_melt = df_P3.melt(id_vars=['order_year_quarter'],\n",
    "                        value_vars=['Sales','Profit'],\n",
    "                        var_name='Measure Type',\n",
    "                        value_name='Measure Value'\n",
    "                        )\n",
    "df_P3_melt.head(10)"
   ]
  },
  {
   "cell_type": "markdown",
   "metadata": {},
   "source": [
    "### Plot"
   ]
  },
  {
   "cell_type": "code",
   "execution_count": 112,
   "metadata": {},
   "outputs": [
    {
     "data": {
      "application/vnd.plotly.v1+json": {
       "config": {
        "plotlyServerURL": "https://plot.ly"
       },
       "data": [
        {
         "hoverlabel": {
          "namelength": 0
         },
         "hovertemplate": "Measure Type=Sales<br>order_year_quarter=%{x}<br>Measure Value=%{y}",
         "legendgroup": "Measure Type=Sales",
         "line": {
          "color": "#1F77B4",
          "dash": "solid"
         },
         "mode": "lines",
         "name": "Measure Type=Sales",
         "showlegend": true,
         "type": "scatter",
         "x": [
          "2016Q1",
          "2016Q2",
          "2016Q3",
          "2016Q4",
          "2017Q1",
          "2017Q2",
          "2017Q3",
          "2017Q4",
          "2018Q1",
          "2018Q2",
          "2018Q3",
          "2018Q4",
          "2019Q1",
          "2019Q2",
          "2019Q3",
          "2019Q4"
         ],
         "xaxis": "x",
         "y": [
          74445,
          86540,
          143643,
          179627,
          68858,
          89135,
          130265,
          182302,
          93243,
          136102,
          143796,
          236114,
          123162,
          133766,
          196284,
          280072
         ],
         "yaxis": "y"
        },
        {
         "hoverlabel": {
          "namelength": 0
         },
         "hovertemplate": "Measure Type=Profit<br>order_year_quarter=%{x}<br>Measure Value=%{y}",
         "legendgroup": "Measure Type=Profit",
         "line": {
          "color": "#FF7F0E",
          "dash": "solid"
         },
         "mode": "lines",
         "name": "Measure Type=Profit",
         "showlegend": true,
         "type": "scatter",
         "x": [
          "2016Q1",
          "2016Q2",
          "2016Q3",
          "2016Q4",
          "2017Q1",
          "2017Q2",
          "2017Q3",
          "2017Q4",
          "2018Q1",
          "2018Q2",
          "2018Q3",
          "2018Q4",
          "2019Q1",
          "2019Q2",
          "2019Q3",
          "2019Q4"
         ],
         "xaxis": "x",
         "y": [
          3800,
          11201,
          12793,
          21726,
          9271,
          12191,
          16848,
          23296,
          11448,
          16382,
          15824,
          38136,
          23507,
          15502,
          26972,
          27450
         ],
         "yaxis": "y"
        }
       ],
       "layout": {
        "legend": {
         "tracegroupgap": 0
        },
        "template": {
         "data": {
          "pie": [
           {
            "automargin": true,
            "type": "pie"
           }
          ],
          "scatter": [
           {
            "line": {
             "width": 3
            },
            "marker": {
             "size": 9
            },
            "type": "scatter"
           }
          ],
          "scatter3d": [
           {
            "line": {
             "width": 3
            },
            "marker": {
             "size": 9
            },
            "type": "scatter3d"
           }
          ],
          "scattergeo": [
           {
            "line": {
             "width": 3
            },
            "marker": {
             "size": 9
            },
            "type": "scattergeo"
           }
          ],
          "scattergl": [
           {
            "line": {
             "width": 3
            },
            "marker": {
             "size": 9
            },
            "type": "scattergl"
           }
          ],
          "scatterpolar": [
           {
            "line": {
             "width": 3
            },
            "marker": {
             "size": 9
            },
            "type": "scatterpolar"
           }
          ],
          "scatterpolargl": [
           {
            "line": {
             "width": 3
            },
            "marker": {
             "size": 9
            },
            "type": "scatterpolargl"
           }
          ],
          "scatterternary": [
           {
            "line": {
             "width": 3
            },
            "marker": {
             "size": 9
            },
            "type": "scatterternary"
           }
          ],
          "table": [
           {
            "cells": {
             "height": 30
            },
            "header": {
             "height": 36
            },
            "type": "table"
           }
          ]
         },
         "layout": {
          "font": {
           "size": 18
          },
          "xaxis": {
           "title": {
            "standoff": 15
           }
          },
          "yaxis": {
           "title": {
            "standoff": 15
           }
          }
         }
        },
        "title": {
         "text": "Part 3: Total Sales and Profit by Quarter"
        },
        "xaxis": {
         "anchor": "y",
         "domain": [
          0,
          1
         ],
         "title": {
          "text": "order_year_quarter"
         }
        },
        "yaxis": {
         "anchor": "x",
         "domain": [
          0,
          1
         ],
         "title": {
          "text": "Measure Value"
         }
        }
       }
      },
      "text/html": [
       "<div>\n",
       "        \n",
       "        \n",
       "            <div id=\"d7e1ea35-352b-423e-9610-1fc9eb51049d\" class=\"plotly-graph-div\" style=\"height:525px; width:100%;\"></div>\n",
       "            <script type=\"text/javascript\">\n",
       "                require([\"plotly\"], function(Plotly) {\n",
       "                    window.PLOTLYENV=window.PLOTLYENV || {};\n",
       "                    \n",
       "                if (document.getElementById(\"d7e1ea35-352b-423e-9610-1fc9eb51049d\")) {\n",
       "                    Plotly.newPlot(\n",
       "                        'd7e1ea35-352b-423e-9610-1fc9eb51049d',\n",
       "                        [{\"hoverlabel\": {\"namelength\": 0}, \"hovertemplate\": \"Measure Type=Sales<br>order_year_quarter=%{x}<br>Measure Value=%{y}\", \"legendgroup\": \"Measure Type=Sales\", \"line\": {\"color\": \"#1F77B4\", \"dash\": \"solid\"}, \"mode\": \"lines\", \"name\": \"Measure Type=Sales\", \"showlegend\": true, \"type\": \"scatter\", \"x\": [\"2016Q1\", \"2016Q2\", \"2016Q3\", \"2016Q4\", \"2017Q1\", \"2017Q2\", \"2017Q3\", \"2017Q4\", \"2018Q1\", \"2018Q2\", \"2018Q3\", \"2018Q4\", \"2019Q1\", \"2019Q2\", \"2019Q3\", \"2019Q4\"], \"xaxis\": \"x\", \"y\": [74445.0, 86540.0, 143643.0, 179627.0, 68858.0, 89135.0, 130265.0, 182302.0, 93243.0, 136102.0, 143796.0, 236114.0, 123162.0, 133766.0, 196284.0, 280072.0], \"yaxis\": \"y\"}, {\"hoverlabel\": {\"namelength\": 0}, \"hovertemplate\": \"Measure Type=Profit<br>order_year_quarter=%{x}<br>Measure Value=%{y}\", \"legendgroup\": \"Measure Type=Profit\", \"line\": {\"color\": \"#FF7F0E\", \"dash\": \"solid\"}, \"mode\": \"lines\", \"name\": \"Measure Type=Profit\", \"showlegend\": true, \"type\": \"scatter\", \"x\": [\"2016Q1\", \"2016Q2\", \"2016Q3\", \"2016Q4\", \"2017Q1\", \"2017Q2\", \"2017Q3\", \"2017Q4\", \"2018Q1\", \"2018Q2\", \"2018Q3\", \"2018Q4\", \"2019Q1\", \"2019Q2\", \"2019Q3\", \"2019Q4\"], \"xaxis\": \"x\", \"y\": [3800.0, 11201.0, 12793.0, 21726.0, 9271.0, 12191.0, 16848.0, 23296.0, 11448.0, 16382.0, 15824.0, 38136.0, 23507.0, 15502.0, 26972.0, 27450.0], \"yaxis\": \"y\"}],\n",
       "                        {\"legend\": {\"tracegroupgap\": 0}, \"template\": {\"data\": {\"pie\": [{\"automargin\": true, \"type\": \"pie\"}], \"scatter\": [{\"line\": {\"width\": 3}, \"marker\": {\"size\": 9}, \"type\": \"scatter\"}], \"scatter3d\": [{\"line\": {\"width\": 3}, \"marker\": {\"size\": 9}, \"type\": \"scatter3d\"}], \"scattergeo\": [{\"line\": {\"width\": 3}, \"marker\": {\"size\": 9}, \"type\": \"scattergeo\"}], \"scattergl\": [{\"line\": {\"width\": 3}, \"marker\": {\"size\": 9}, \"type\": \"scattergl\"}], \"scatterpolar\": [{\"line\": {\"width\": 3}, \"marker\": {\"size\": 9}, \"type\": \"scatterpolar\"}], \"scatterpolargl\": [{\"line\": {\"width\": 3}, \"marker\": {\"size\": 9}, \"type\": \"scatterpolargl\"}], \"scatterternary\": [{\"line\": {\"width\": 3}, \"marker\": {\"size\": 9}, \"type\": \"scatterternary\"}], \"table\": [{\"cells\": {\"height\": 30}, \"header\": {\"height\": 36}, \"type\": \"table\"}]}, \"layout\": {\"font\": {\"size\": 18}, \"xaxis\": {\"title\": {\"standoff\": 15}}, \"yaxis\": {\"title\": {\"standoff\": 15}}}}, \"title\": {\"text\": \"Part 3: Total Sales and Profit by Quarter\"}, \"xaxis\": {\"anchor\": \"y\", \"domain\": [0.0, 1.0], \"title\": {\"text\": \"order_year_quarter\"}}, \"yaxis\": {\"anchor\": \"x\", \"domain\": [0.0, 1.0], \"title\": {\"text\": \"Measure Value\"}}},\n",
       "                        {\"responsive\": true}\n",
       "                    ).then(function(){\n",
       "                            \n",
       "var gd = document.getElementById('d7e1ea35-352b-423e-9610-1fc9eb51049d');\n",
       "var x = new MutationObserver(function (mutations, observer) {{\n",
       "        var display = window.getComputedStyle(gd).display;\n",
       "        if (!display || display === 'none') {{\n",
       "            console.log([gd, 'removed!']);\n",
       "            Plotly.purge(gd);\n",
       "            observer.disconnect();\n",
       "        }}\n",
       "}});\n",
       "\n",
       "// Listen for the removal of the full notebook cells\n",
       "var notebookContainer = gd.closest('#notebook-container');\n",
       "if (notebookContainer) {{\n",
       "    x.observe(notebookContainer, {childList: true});\n",
       "}}\n",
       "\n",
       "// Listen for the clearing of the current output cell\n",
       "var outputEl = gd.closest('.output');\n",
       "if (outputEl) {{\n",
       "    x.observe(outputEl, {childList: true});\n",
       "}}\n",
       "\n",
       "                        })\n",
       "                };\n",
       "                });\n",
       "            </script>\n",
       "        </div>"
      ]
     },
     "metadata": {},
     "output_type": "display_data"
    }
   ],
   "source": [
    "# plot\n",
    "\n",
    "fig = px.line(df_P3_melt,\n",
    "             x='order_year_quarter',\n",
    "             y='Measure Value',\n",
    "             color='Measure Type',\n",
    "              template='presentation',\n",
    "             title='Part 3: Total Sales and Profit by Quarter')\n",
    "\n",
    "fig.show()"
   ]
  },
  {
   "cell_type": "markdown",
   "metadata": {},
   "source": [
    "# Part 4: Monthly Sales by Segment    \n",
    "\n",
    "\n",
    "- **My References**  \n",
    "  - [**Date Columns**](../0_References/1_Pandas_Reference/DateTime_Columns.ipynb#Create-new-Columns-based-on-a-DateTime-column)"
   ]
  },
  {
   "cell_type": "code",
   "execution_count": 113,
   "metadata": {},
   "outputs": [
    {
     "data": {
      "text/html": [
       "<div>\n",
       "<style scoped>\n",
       "    .dataframe tbody tr th:only-of-type {\n",
       "        vertical-align: middle;\n",
       "    }\n",
       "\n",
       "    .dataframe tbody tr th {\n",
       "        vertical-align: top;\n",
       "    }\n",
       "\n",
       "    .dataframe thead th {\n",
       "        text-align: right;\n",
       "    }\n",
       "</style>\n",
       "<table border=\"1\" class=\"dataframe\">\n",
       "  <thead>\n",
       "    <tr style=\"text-align: right;\">\n",
       "      <th></th>\n",
       "      <th>Profit Ratio</th>\n",
       "      <th>Category</th>\n",
       "      <th>City</th>\n",
       "      <th>Country</th>\n",
       "      <th>Customer Name</th>\n",
       "      <th>Discount</th>\n",
       "      <th>Number of Records</th>\n",
       "      <th>Order Date</th>\n",
       "      <th>Order ID</th>\n",
       "      <th>Postal Code</th>\n",
       "      <th>...</th>\n",
       "      <th>Sales</th>\n",
       "      <th>Segment</th>\n",
       "      <th>Ship Date</th>\n",
       "      <th>Ship Mode</th>\n",
       "      <th>State</th>\n",
       "      <th>Sub-Category</th>\n",
       "      <th>order_year</th>\n",
       "      <th>order_year_quarter</th>\n",
       "      <th>order_month</th>\n",
       "      <th>order_month_name</th>\n",
       "    </tr>\n",
       "  </thead>\n",
       "  <tbody>\n",
       "    <tr>\n",
       "      <th>0</th>\n",
       "      <td>0.16</td>\n",
       "      <td>Furniture</td>\n",
       "      <td>Henderson</td>\n",
       "      <td>United States</td>\n",
       "      <td>Claire Gute</td>\n",
       "      <td>0.00</td>\n",
       "      <td>1</td>\n",
       "      <td>2018-11-08</td>\n",
       "      <td>CA-2018-152156</td>\n",
       "      <td>42420.0</td>\n",
       "      <td>...</td>\n",
       "      <td>262.0</td>\n",
       "      <td>Consumer</td>\n",
       "      <td>2018-11-11</td>\n",
       "      <td>Second Class</td>\n",
       "      <td>Kentucky</td>\n",
       "      <td>Bookcases</td>\n",
       "      <td>2018</td>\n",
       "      <td>2018Q4</td>\n",
       "      <td>11</td>\n",
       "      <td>Nov</td>\n",
       "    </tr>\n",
       "    <tr>\n",
       "      <th>1</th>\n",
       "      <td>0.30</td>\n",
       "      <td>Furniture</td>\n",
       "      <td>Henderson</td>\n",
       "      <td>United States</td>\n",
       "      <td>Claire Gute</td>\n",
       "      <td>0.00</td>\n",
       "      <td>1</td>\n",
       "      <td>2018-11-08</td>\n",
       "      <td>CA-2018-152156</td>\n",
       "      <td>42420.0</td>\n",
       "      <td>...</td>\n",
       "      <td>732.0</td>\n",
       "      <td>Consumer</td>\n",
       "      <td>2018-11-11</td>\n",
       "      <td>Second Class</td>\n",
       "      <td>Kentucky</td>\n",
       "      <td>Chairs</td>\n",
       "      <td>2018</td>\n",
       "      <td>2018Q4</td>\n",
       "      <td>11</td>\n",
       "      <td>Nov</td>\n",
       "    </tr>\n",
       "    <tr>\n",
       "      <th>2</th>\n",
       "      <td>0.47</td>\n",
       "      <td>Office Supplies</td>\n",
       "      <td>Los Angeles</td>\n",
       "      <td>United States</td>\n",
       "      <td>Darrin Van Huff</td>\n",
       "      <td>0.00</td>\n",
       "      <td>1</td>\n",
       "      <td>2018-06-12</td>\n",
       "      <td>CA-2018-138688</td>\n",
       "      <td>90036.0</td>\n",
       "      <td>...</td>\n",
       "      <td>15.0</td>\n",
       "      <td>Corporate</td>\n",
       "      <td>2018-06-16</td>\n",
       "      <td>Second Class</td>\n",
       "      <td>California</td>\n",
       "      <td>Labels</td>\n",
       "      <td>2018</td>\n",
       "      <td>2018Q2</td>\n",
       "      <td>6</td>\n",
       "      <td>Jun</td>\n",
       "    </tr>\n",
       "    <tr>\n",
       "      <th>3</th>\n",
       "      <td>-0.40</td>\n",
       "      <td>Furniture</td>\n",
       "      <td>Fort Lauderdale</td>\n",
       "      <td>United States</td>\n",
       "      <td>Sean O'Donnell</td>\n",
       "      <td>0.45</td>\n",
       "      <td>1</td>\n",
       "      <td>2017-10-11</td>\n",
       "      <td>US-2017-108966</td>\n",
       "      <td>33311.0</td>\n",
       "      <td>...</td>\n",
       "      <td>958.0</td>\n",
       "      <td>Consumer</td>\n",
       "      <td>2017-10-18</td>\n",
       "      <td>Standard Class</td>\n",
       "      <td>Florida</td>\n",
       "      <td>Tables</td>\n",
       "      <td>2017</td>\n",
       "      <td>2017Q4</td>\n",
       "      <td>10</td>\n",
       "      <td>Oct</td>\n",
       "    </tr>\n",
       "    <tr>\n",
       "      <th>4</th>\n",
       "      <td>0.11</td>\n",
       "      <td>Office Supplies</td>\n",
       "      <td>Fort Lauderdale</td>\n",
       "      <td>United States</td>\n",
       "      <td>Sean O'Donnell</td>\n",
       "      <td>0.20</td>\n",
       "      <td>1</td>\n",
       "      <td>2017-10-11</td>\n",
       "      <td>US-2017-108966</td>\n",
       "      <td>33311.0</td>\n",
       "      <td>...</td>\n",
       "      <td>22.0</td>\n",
       "      <td>Consumer</td>\n",
       "      <td>2017-10-18</td>\n",
       "      <td>Standard Class</td>\n",
       "      <td>Florida</td>\n",
       "      <td>Storage</td>\n",
       "      <td>2017</td>\n",
       "      <td>2017Q4</td>\n",
       "      <td>10</td>\n",
       "      <td>Oct</td>\n",
       "    </tr>\n",
       "  </tbody>\n",
       "</table>\n",
       "<p>5 rows × 25 columns</p>\n",
       "</div>"
      ],
      "text/plain": [
       "   Profit Ratio         Category             City        Country  \\\n",
       "0          0.16        Furniture        Henderson  United States   \n",
       "1          0.30        Furniture        Henderson  United States   \n",
       "2          0.47  Office Supplies      Los Angeles  United States   \n",
       "3         -0.40        Furniture  Fort Lauderdale  United States   \n",
       "4          0.11  Office Supplies  Fort Lauderdale  United States   \n",
       "\n",
       "     Customer Name  Discount  Number of Records Order Date        Order ID  \\\n",
       "0      Claire Gute      0.00                  1 2018-11-08  CA-2018-152156   \n",
       "1      Claire Gute      0.00                  1 2018-11-08  CA-2018-152156   \n",
       "2  Darrin Van Huff      0.00                  1 2018-06-12  CA-2018-138688   \n",
       "3   Sean O'Donnell      0.45                  1 2017-10-11  US-2017-108966   \n",
       "4   Sean O'Donnell      0.20                  1 2017-10-11  US-2017-108966   \n",
       "\n",
       "   Postal Code       ...         Sales    Segment  Ship Date       Ship Mode  \\\n",
       "0      42420.0       ...         262.0   Consumer 2018-11-11    Second Class   \n",
       "1      42420.0       ...         732.0   Consumer 2018-11-11    Second Class   \n",
       "2      90036.0       ...          15.0  Corporate 2018-06-16    Second Class   \n",
       "3      33311.0       ...         958.0   Consumer 2017-10-18  Standard Class   \n",
       "4      33311.0       ...          22.0   Consumer 2017-10-18  Standard Class   \n",
       "\n",
       "        State  Sub-Category order_year order_year_quarter order_month  \\\n",
       "0    Kentucky     Bookcases       2018             2018Q4          11   \n",
       "1    Kentucky        Chairs       2018             2018Q4          11   \n",
       "2  California        Labels       2018             2018Q2           6   \n",
       "3     Florida        Tables       2017             2017Q4          10   \n",
       "4     Florida       Storage       2017             2017Q4          10   \n",
       "\n",
       "  order_month_name  \n",
       "0              Nov  \n",
       "1              Nov  \n",
       "2              Jun  \n",
       "3              Oct  \n",
       "4              Oct  \n",
       "\n",
       "[5 rows x 25 columns]"
      ]
     },
     "execution_count": 113,
     "metadata": {},
     "output_type": "execute_result"
    }
   ],
   "source": [
    "df['order_month'] = df['Order Date'].dt.month\n",
    "df['order_month_name'] = df['Order Date'].dt.strftime('%b')\n",
    "\n",
    "df.head()"
   ]
  },
  {
   "cell_type": "markdown",
   "metadata": {},
   "source": [
    "### Groupby"
   ]
  },
  {
   "cell_type": "code",
   "execution_count": 114,
   "metadata": {
    "scrolled": true
   },
   "outputs": [
    {
     "data": {
      "text/html": [
       "<div>\n",
       "<style scoped>\n",
       "    .dataframe tbody tr th:only-of-type {\n",
       "        vertical-align: middle;\n",
       "    }\n",
       "\n",
       "    .dataframe tbody tr th {\n",
       "        vertical-align: top;\n",
       "    }\n",
       "\n",
       "    .dataframe thead th {\n",
       "        text-align: right;\n",
       "    }\n",
       "</style>\n",
       "<table border=\"1\" class=\"dataframe\">\n",
       "  <thead>\n",
       "    <tr style=\"text-align: right;\">\n",
       "      <th></th>\n",
       "      <th></th>\n",
       "      <th></th>\n",
       "      <th>Sales</th>\n",
       "      <th>Profit</th>\n",
       "    </tr>\n",
       "    <tr>\n",
       "      <th>order_month_name</th>\n",
       "      <th>order_month</th>\n",
       "      <th>Segment</th>\n",
       "      <th></th>\n",
       "      <th></th>\n",
       "    </tr>\n",
       "  </thead>\n",
       "  <tbody>\n",
       "    <tr>\n",
       "      <th rowspan=\"3\" valign=\"top\">Apr</th>\n",
       "      <th rowspan=\"3\" valign=\"top\">4</th>\n",
       "      <th>Consumer</th>\n",
       "      <td>54855.0</td>\n",
       "      <td>3857.0</td>\n",
       "    </tr>\n",
       "    <tr>\n",
       "      <th>Corporate</th>\n",
       "      <td>49233.0</td>\n",
       "      <td>7273.0</td>\n",
       "    </tr>\n",
       "    <tr>\n",
       "      <th>Home Office</th>\n",
       "      <td>33687.0</td>\n",
       "      <td>460.0</td>\n",
       "    </tr>\n",
       "    <tr>\n",
       "      <th rowspan=\"2\" valign=\"top\">Aug</th>\n",
       "      <th rowspan=\"2\" valign=\"top\">8</th>\n",
       "      <th>Consumer</th>\n",
       "      <td>82328.0</td>\n",
       "      <td>10263.0</td>\n",
       "    </tr>\n",
       "    <tr>\n",
       "      <th>Corporate</th>\n",
       "      <td>57529.0</td>\n",
       "      <td>9509.0</td>\n",
       "    </tr>\n",
       "  </tbody>\n",
       "</table>\n",
       "</div>"
      ],
      "text/plain": [
       "                                            Sales   Profit\n",
       "order_month_name order_month Segment                      \n",
       "Apr              4           Consumer     54855.0   3857.0\n",
       "                             Corporate    49233.0   7273.0\n",
       "                             Home Office  33687.0    460.0\n",
       "Aug              8           Consumer     82328.0  10263.0\n",
       "                             Corporate    57529.0   9509.0"
      ]
     },
     "execution_count": 114,
     "metadata": {},
     "output_type": "execute_result"
    }
   ],
   "source": [
    "df_by_month_sum = df.groupby(['order_month_name','order_month','Segment'])['Sales','Profit'].sum()\n",
    "\n",
    "df_by_month_sum.head()"
   ]
  },
  {
   "cell_type": "code",
   "execution_count": 115,
   "metadata": {},
   "outputs": [
    {
     "data": {
      "text/html": [
       "<div>\n",
       "<style scoped>\n",
       "    .dataframe tbody tr th:only-of-type {\n",
       "        vertical-align: middle;\n",
       "    }\n",
       "\n",
       "    .dataframe tbody tr th {\n",
       "        vertical-align: top;\n",
       "    }\n",
       "\n",
       "    .dataframe thead th {\n",
       "        text-align: right;\n",
       "    }\n",
       "</style>\n",
       "<table border=\"1\" class=\"dataframe\">\n",
       "  <thead>\n",
       "    <tr style=\"text-align: right;\">\n",
       "      <th></th>\n",
       "      <th>order_month_name</th>\n",
       "      <th>order_month</th>\n",
       "      <th>Segment</th>\n",
       "      <th>Sales</th>\n",
       "      <th>Profit</th>\n",
       "    </tr>\n",
       "  </thead>\n",
       "  <tbody>\n",
       "    <tr>\n",
       "      <th>0</th>\n",
       "      <td>Apr</td>\n",
       "      <td>4</td>\n",
       "      <td>Consumer</td>\n",
       "      <td>54855.0</td>\n",
       "      <td>3857.0</td>\n",
       "    </tr>\n",
       "    <tr>\n",
       "      <th>1</th>\n",
       "      <td>Apr</td>\n",
       "      <td>4</td>\n",
       "      <td>Corporate</td>\n",
       "      <td>49233.0</td>\n",
       "      <td>7273.0</td>\n",
       "    </tr>\n",
       "    <tr>\n",
       "      <th>2</th>\n",
       "      <td>Apr</td>\n",
       "      <td>4</td>\n",
       "      <td>Home Office</td>\n",
       "      <td>33687.0</td>\n",
       "      <td>460.0</td>\n",
       "    </tr>\n",
       "    <tr>\n",
       "      <th>3</th>\n",
       "      <td>Aug</td>\n",
       "      <td>8</td>\n",
       "      <td>Consumer</td>\n",
       "      <td>82328.0</td>\n",
       "      <td>10263.0</td>\n",
       "    </tr>\n",
       "    <tr>\n",
       "      <th>4</th>\n",
       "      <td>Aug</td>\n",
       "      <td>8</td>\n",
       "      <td>Corporate</td>\n",
       "      <td>57529.0</td>\n",
       "      <td>9509.0</td>\n",
       "    </tr>\n",
       "  </tbody>\n",
       "</table>\n",
       "</div>"
      ],
      "text/plain": [
       "  order_month_name  order_month      Segment    Sales   Profit\n",
       "0              Apr            4     Consumer  54855.0   3857.0\n",
       "1              Apr            4    Corporate  49233.0   7273.0\n",
       "2              Apr            4  Home Office  33687.0    460.0\n",
       "3              Aug            8     Consumer  82328.0  10263.0\n",
       "4              Aug            8    Corporate  57529.0   9509.0"
      ]
     },
     "execution_count": 115,
     "metadata": {},
     "output_type": "execute_result"
    }
   ],
   "source": [
    "# Reset index\n",
    "df_by_month_sum.reset_index(inplace=True)\n",
    "df_by_month_sum.head()"
   ]
  },
  {
   "cell_type": "code",
   "execution_count": 116,
   "metadata": {},
   "outputs": [
    {
     "data": {
      "text/html": [
       "<div>\n",
       "<style scoped>\n",
       "    .dataframe tbody tr th:only-of-type {\n",
       "        vertical-align: middle;\n",
       "    }\n",
       "\n",
       "    .dataframe tbody tr th {\n",
       "        vertical-align: top;\n",
       "    }\n",
       "\n",
       "    .dataframe thead th {\n",
       "        text-align: right;\n",
       "    }\n",
       "</style>\n",
       "<table border=\"1\" class=\"dataframe\">\n",
       "  <thead>\n",
       "    <tr style=\"text-align: right;\">\n",
       "      <th></th>\n",
       "      <th>order_month_name</th>\n",
       "      <th>order_month</th>\n",
       "      <th>Segment</th>\n",
       "      <th>Sales</th>\n",
       "      <th>Profit</th>\n",
       "    </tr>\n",
       "  </thead>\n",
       "  <tbody>\n",
       "    <tr>\n",
       "      <th>14</th>\n",
       "      <td>Jan</td>\n",
       "      <td>1</td>\n",
       "      <td>Home Office</td>\n",
       "      <td>17698.0</td>\n",
       "      <td>4603.0</td>\n",
       "    </tr>\n",
       "    <tr>\n",
       "      <th>13</th>\n",
       "      <td>Jan</td>\n",
       "      <td>1</td>\n",
       "      <td>Corporate</td>\n",
       "      <td>26793.0</td>\n",
       "      <td>1351.0</td>\n",
       "    </tr>\n",
       "  </tbody>\n",
       "</table>\n",
       "</div>"
      ],
      "text/plain": [
       "   order_month_name  order_month      Segment    Sales  Profit\n",
       "14              Jan            1  Home Office  17698.0  4603.0\n",
       "13              Jan            1    Corporate  26793.0  1351.0"
      ]
     },
     "execution_count": 116,
     "metadata": {},
     "output_type": "execute_result"
    }
   ],
   "source": [
    "# Sort by Month number (not month name)\n",
    "df_by_month_sum.sort_values('order_month', ascending=True, inplace=True)\n",
    "df_by_month_sum.head(2)"
   ]
  },
  {
   "cell_type": "code",
   "execution_count": 117,
   "metadata": {},
   "outputs": [
    {
     "data": {
      "application/vnd.plotly.v1+json": {
       "config": {
        "plotlyServerURL": "https://plot.ly"
       },
       "data": [
        {
         "alignmentgroup": "True",
         "hoverlabel": {
          "namelength": 0
         },
         "hovertemplate": "Segment=Home Office<br>order_month_name=%{x}<br>Sales=%{y}",
         "legendgroup": "Segment=Home Office",
         "marker": {
          "color": "#1F77B4"
         },
         "name": "Segment=Home Office",
         "offsetgroup": "Segment=Home Office",
         "orientation": "v",
         "showlegend": true,
         "textposition": "auto",
         "type": "bar",
         "x": [
          "Jan",
          "Feb",
          "Mar",
          "Apr",
          "May",
          "Jun",
          "Jul",
          "Aug",
          "Sep",
          "Oct",
          "Nov",
          "Dec"
         ],
         "xaxis": "x",
         "y": [
          17698,
          11350,
          57592,
          33687,
          20809,
          28950,
          18544,
          19200,
          48582,
          55322,
          62072,
          55868
         ],
         "yaxis": "y"
        },
        {
         "alignmentgroup": "True",
         "hoverlabel": {
          "namelength": 0
         },
         "hovertemplate": "Segment=Corporate<br>order_month_name=%{x}<br>Sales=%{y}",
         "legendgroup": "Segment=Corporate",
         "marker": {
          "color": "#FF7F0E"
         },
         "name": "Segment=Corporate",
         "offsetgroup": "Segment=Corporate",
         "orientation": "v",
         "showlegend": true,
         "textposition": "auto",
         "type": "bar",
         "x": [
          "Jan",
          "Feb",
          "Mar",
          "Apr",
          "May",
          "Jun",
          "Jul",
          "Aug",
          "Sep",
          "Oct",
          "Nov",
          "Dec"
         ],
         "xaxis": "x",
         "y": [
          26793,
          14575,
          58244,
          49233,
          47292,
          40865,
          46923,
          57529,
          74023,
          78296,
          119441,
          92969
         ],
         "yaxis": "y"
        },
        {
         "alignmentgroup": "True",
         "hoverlabel": {
          "namelength": 0
         },
         "hovertemplate": "Segment=Consumer<br>order_month_name=%{x}<br>Sales=%{y}",
         "legendgroup": "Segment=Consumer",
         "marker": {
          "color": "#2CA02C"
         },
         "name": "Segment=Consumer",
         "offsetgroup": "Segment=Consumer",
         "orientation": "v",
         "showlegend": true,
         "textposition": "auto",
         "type": "bar",
         "x": [
          "Jan",
          "Feb",
          "Mar",
          "Apr",
          "May",
          "Jun",
          "Jul",
          "Aug",
          "Sep",
          "Oct",
          "Nov",
          "Dec"
         ],
         "xaxis": "x",
         "y": [
          50443,
          33832,
          89181,
          54855,
          86934,
          82918,
          81775,
          82328,
          185084,
          66714,
          170969,
          176464
         ],
         "yaxis": "y"
        }
       ],
       "layout": {
        "barmode": "group",
        "legend": {
         "tracegroupgap": 0
        },
        "template": {
         "data": {
          "pie": [
           {
            "automargin": true,
            "type": "pie"
           }
          ],
          "scatter": [
           {
            "line": {
             "width": 3
            },
            "marker": {
             "size": 9
            },
            "type": "scatter"
           }
          ],
          "scatter3d": [
           {
            "line": {
             "width": 3
            },
            "marker": {
             "size": 9
            },
            "type": "scatter3d"
           }
          ],
          "scattergeo": [
           {
            "line": {
             "width": 3
            },
            "marker": {
             "size": 9
            },
            "type": "scattergeo"
           }
          ],
          "scattergl": [
           {
            "line": {
             "width": 3
            },
            "marker": {
             "size": 9
            },
            "type": "scattergl"
           }
          ],
          "scatterpolar": [
           {
            "line": {
             "width": 3
            },
            "marker": {
             "size": 9
            },
            "type": "scatterpolar"
           }
          ],
          "scatterpolargl": [
           {
            "line": {
             "width": 3
            },
            "marker": {
             "size": 9
            },
            "type": "scatterpolargl"
           }
          ],
          "scatterternary": [
           {
            "line": {
             "width": 3
            },
            "marker": {
             "size": 9
            },
            "type": "scatterternary"
           }
          ],
          "table": [
           {
            "cells": {
             "height": 30
            },
            "header": {
             "height": 36
            },
            "type": "table"
           }
          ]
         },
         "layout": {
          "font": {
           "size": 18
          },
          "xaxis": {
           "title": {
            "standoff": 15
           }
          },
          "yaxis": {
           "title": {
            "standoff": 15
           }
          }
         }
        },
        "title": {
         "text": "Part 4: Monthly Sales by Segment"
        },
        "xaxis": {
         "anchor": "y",
         "domain": [
          0,
          1
         ],
         "title": {
          "text": "order_month_name"
         }
        },
        "yaxis": {
         "anchor": "x",
         "domain": [
          0,
          1
         ],
         "title": {
          "text": "Sales"
         }
        }
       }
      },
      "text/html": [
       "<div>\n",
       "        \n",
       "        \n",
       "            <div id=\"5e9208bd-bcc6-4ff5-9054-fa5b50549c7b\" class=\"plotly-graph-div\" style=\"height:525px; width:100%;\"></div>\n",
       "            <script type=\"text/javascript\">\n",
       "                require([\"plotly\"], function(Plotly) {\n",
       "                    window.PLOTLYENV=window.PLOTLYENV || {};\n",
       "                    \n",
       "                if (document.getElementById(\"5e9208bd-bcc6-4ff5-9054-fa5b50549c7b\")) {\n",
       "                    Plotly.newPlot(\n",
       "                        '5e9208bd-bcc6-4ff5-9054-fa5b50549c7b',\n",
       "                        [{\"alignmentgroup\": \"True\", \"hoverlabel\": {\"namelength\": 0}, \"hovertemplate\": \"Segment=Home Office<br>order_month_name=%{x}<br>Sales=%{y}\", \"legendgroup\": \"Segment=Home Office\", \"marker\": {\"color\": \"#1F77B4\"}, \"name\": \"Segment=Home Office\", \"offsetgroup\": \"Segment=Home Office\", \"orientation\": \"v\", \"showlegend\": true, \"textposition\": \"auto\", \"type\": \"bar\", \"x\": [\"Jan\", \"Feb\", \"Mar\", \"Apr\", \"May\", \"Jun\", \"Jul\", \"Aug\", \"Sep\", \"Oct\", \"Nov\", \"Dec\"], \"xaxis\": \"x\", \"y\": [17698.0, 11350.0, 57592.0, 33687.0, 20809.0, 28950.0, 18544.0, 19200.0, 48582.0, 55322.0, 62072.0, 55868.0], \"yaxis\": \"y\"}, {\"alignmentgroup\": \"True\", \"hoverlabel\": {\"namelength\": 0}, \"hovertemplate\": \"Segment=Corporate<br>order_month_name=%{x}<br>Sales=%{y}\", \"legendgroup\": \"Segment=Corporate\", \"marker\": {\"color\": \"#FF7F0E\"}, \"name\": \"Segment=Corporate\", \"offsetgroup\": \"Segment=Corporate\", \"orientation\": \"v\", \"showlegend\": true, \"textposition\": \"auto\", \"type\": \"bar\", \"x\": [\"Jan\", \"Feb\", \"Mar\", \"Apr\", \"May\", \"Jun\", \"Jul\", \"Aug\", \"Sep\", \"Oct\", \"Nov\", \"Dec\"], \"xaxis\": \"x\", \"y\": [26793.0, 14575.0, 58244.0, 49233.0, 47292.0, 40865.0, 46923.0, 57529.0, 74023.0, 78296.0, 119441.0, 92969.0], \"yaxis\": \"y\"}, {\"alignmentgroup\": \"True\", \"hoverlabel\": {\"namelength\": 0}, \"hovertemplate\": \"Segment=Consumer<br>order_month_name=%{x}<br>Sales=%{y}\", \"legendgroup\": \"Segment=Consumer\", \"marker\": {\"color\": \"#2CA02C\"}, \"name\": \"Segment=Consumer\", \"offsetgroup\": \"Segment=Consumer\", \"orientation\": \"v\", \"showlegend\": true, \"textposition\": \"auto\", \"type\": \"bar\", \"x\": [\"Jan\", \"Feb\", \"Mar\", \"Apr\", \"May\", \"Jun\", \"Jul\", \"Aug\", \"Sep\", \"Oct\", \"Nov\", \"Dec\"], \"xaxis\": \"x\", \"y\": [50443.0, 33832.0, 89181.0, 54855.0, 86934.0, 82918.0, 81775.0, 82328.0, 185084.0, 66714.0, 170969.0, 176464.0], \"yaxis\": \"y\"}],\n",
       "                        {\"barmode\": \"group\", \"legend\": {\"tracegroupgap\": 0}, \"template\": {\"data\": {\"pie\": [{\"automargin\": true, \"type\": \"pie\"}], \"scatter\": [{\"line\": {\"width\": 3}, \"marker\": {\"size\": 9}, \"type\": \"scatter\"}], \"scatter3d\": [{\"line\": {\"width\": 3}, \"marker\": {\"size\": 9}, \"type\": \"scatter3d\"}], \"scattergeo\": [{\"line\": {\"width\": 3}, \"marker\": {\"size\": 9}, \"type\": \"scattergeo\"}], \"scattergl\": [{\"line\": {\"width\": 3}, \"marker\": {\"size\": 9}, \"type\": \"scattergl\"}], \"scatterpolar\": [{\"line\": {\"width\": 3}, \"marker\": {\"size\": 9}, \"type\": \"scatterpolar\"}], \"scatterpolargl\": [{\"line\": {\"width\": 3}, \"marker\": {\"size\": 9}, \"type\": \"scatterpolargl\"}], \"scatterternary\": [{\"line\": {\"width\": 3}, \"marker\": {\"size\": 9}, \"type\": \"scatterternary\"}], \"table\": [{\"cells\": {\"height\": 30}, \"header\": {\"height\": 36}, \"type\": \"table\"}]}, \"layout\": {\"font\": {\"size\": 18}, \"xaxis\": {\"title\": {\"standoff\": 15}}, \"yaxis\": {\"title\": {\"standoff\": 15}}}}, \"title\": {\"text\": \"Part 4: Monthly Sales by Segment\"}, \"xaxis\": {\"anchor\": \"y\", \"domain\": [0.0, 1.0], \"title\": {\"text\": \"order_month_name\"}}, \"yaxis\": {\"anchor\": \"x\", \"domain\": [0.0, 1.0], \"title\": {\"text\": \"Sales\"}}},\n",
       "                        {\"responsive\": true}\n",
       "                    ).then(function(){\n",
       "                            \n",
       "var gd = document.getElementById('5e9208bd-bcc6-4ff5-9054-fa5b50549c7b');\n",
       "var x = new MutationObserver(function (mutations, observer) {{\n",
       "        var display = window.getComputedStyle(gd).display;\n",
       "        if (!display || display === 'none') {{\n",
       "            console.log([gd, 'removed!']);\n",
       "            Plotly.purge(gd);\n",
       "            observer.disconnect();\n",
       "        }}\n",
       "}});\n",
       "\n",
       "// Listen for the removal of the full notebook cells\n",
       "var notebookContainer = gd.closest('#notebook-container');\n",
       "if (notebookContainer) {{\n",
       "    x.observe(notebookContainer, {childList: true});\n",
       "}}\n",
       "\n",
       "// Listen for the clearing of the current output cell\n",
       "var outputEl = gd.closest('.output');\n",
       "if (outputEl) {{\n",
       "    x.observe(outputEl, {childList: true});\n",
       "}}\n",
       "\n",
       "                        })\n",
       "                };\n",
       "                });\n",
       "            </script>\n",
       "        </div>"
      ]
     },
     "metadata": {},
     "output_type": "display_data"
    }
   ],
   "source": [
    "# Plot\n",
    "fig = px.bar(df_by_month_sum,\n",
    "            x='order_month_name',\n",
    "            y='Sales',\n",
    "            color='Segment',\n",
    "            template='presentation',\n",
    "             barmode='group',\n",
    "            title='Part 4: Monthly Sales by Segment')\n",
    "\n",
    "fig.show()"
   ]
  },
  {
   "cell_type": "code",
   "execution_count": null,
   "metadata": {},
   "outputs": [],
   "source": []
  }
 ],
 "metadata": {
  "kernelspec": {
   "display_name": "Python 3",
   "language": "python",
   "name": "python3"
  },
  "language_info": {
   "codemirror_mode": {
    "name": "ipython",
    "version": 3
   },
   "file_extension": ".py",
   "mimetype": "text/x-python",
   "name": "python",
   "nbconvert_exporter": "python",
   "pygments_lexer": "ipython3",
   "version": "3.7.1"
  }
 },
 "nbformat": 4,
 "nbformat_minor": 4
}
