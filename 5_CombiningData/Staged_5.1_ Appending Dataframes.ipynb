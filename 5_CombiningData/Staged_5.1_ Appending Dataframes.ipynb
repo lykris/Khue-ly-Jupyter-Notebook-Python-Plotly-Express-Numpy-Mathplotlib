{
 "cells": [
  {
   "cell_type": "markdown",
   "metadata": {},
   "source": [
    "# 5.1 Appending *pandas* Dataframes  \n",
    "- *Appending* in pandas is stacking one dataframe (vertically) on top of another.  \n",
    "- In order for that to work well, the columns in each dataframe should be the same in terms of: number, order, names, and data types.  \n",
    "- A typical scenario for Appending is adding the most current time period of data to the end of past data.  \n",
    "- Very often after we do that, we want to save the appended dataframe as a new file.  \n",
    "\n",
    "\n",
    "- [Appending Dataframes](#Appending-Dataframes)   \n",
    "- [Save Appended Dataframe as a csv file](#Save-Appended-Dataframe-as-a-csv-file)\n"
   ]
  },
  {
   "cell_type": "code",
   "execution_count": 1,
   "metadata": {},
   "outputs": [],
   "source": [
    "import pandas as pd  "
   ]
  },
  {
   "cell_type": "markdown",
   "metadata": {},
   "source": [
    "### Read the data into the Dataframes"
   ]
  },
  {
   "cell_type": "markdown",
   "metadata": {},
   "source": [
    "####  *mnth7_2011.csv*  \n",
    "\n",
    "- Filename:  mnth7_2011.csv\n",
    "- Number of Rows:   10\n",
    "- Number of Columns:   6"
   ]
  },
  {
   "cell_type": "code",
   "execution_count": 3,
   "metadata": {
    "scrolled": true
   },
   "outputs": [
    {
     "name": "stdout",
     "output_type": "stream",
     "text": [
      "Number of Rows:   10\n",
      "Number of Columns:   6\n"
     ]
    },
    {
     "data": {
      "text/html": [
       "<div>\n",
       "<style scoped>\n",
       "    .dataframe tbody tr th:only-of-type {\n",
       "        vertical-align: middle;\n",
       "    }\n",
       "\n",
       "    .dataframe tbody tr th {\n",
       "        vertical-align: top;\n",
       "    }\n",
       "\n",
       "    .dataframe thead th {\n",
       "        text-align: right;\n",
       "    }\n",
       "</style>\n",
       "<table border=\"1\" class=\"dataframe\">\n",
       "  <thead>\n",
       "    <tr style=\"text-align: right;\">\n",
       "      <th></th>\n",
       "      <th>Order_ID</th>\n",
       "      <th>Order_Type</th>\n",
       "      <th>Employee_ID</th>\n",
       "      <th>Customer_ID</th>\n",
       "      <th>Order_Date</th>\n",
       "      <th>Delivery_Date</th>\n",
       "    </tr>\n",
       "  </thead>\n",
       "  <tbody>\n",
       "    <tr>\n",
       "      <th>0</th>\n",
       "      <td>1242691897</td>\n",
       "      <td>2</td>\n",
       "      <td>99999999</td>\n",
       "      <td>90</td>\n",
       "      <td>02JUL2011</td>\n",
       "      <td>04JUL2011</td>\n",
       "    </tr>\n",
       "    <tr>\n",
       "      <th>1</th>\n",
       "      <td>1242736731</td>\n",
       "      <td>1</td>\n",
       "      <td>121107</td>\n",
       "      <td>10</td>\n",
       "      <td>07JUL2011</td>\n",
       "      <td>07JUL2011</td>\n",
       "    </tr>\n",
       "    <tr>\n",
       "      <th>2</th>\n",
       "      <td>1242773202</td>\n",
       "      <td>3</td>\n",
       "      <td>99999999</td>\n",
       "      <td>24</td>\n",
       "      <td>11JUL2011</td>\n",
       "      <td>14JUL2011</td>\n",
       "    </tr>\n",
       "    <tr>\n",
       "      <th>3</th>\n",
       "      <td>1242782701</td>\n",
       "      <td>3</td>\n",
       "      <td>99999999</td>\n",
       "      <td>27</td>\n",
       "      <td>12JUL2011</td>\n",
       "      <td>17JUL2011</td>\n",
       "    </tr>\n",
       "    <tr>\n",
       "      <th>4</th>\n",
       "      <td>1242827683</td>\n",
       "      <td>1</td>\n",
       "      <td>121105</td>\n",
       "      <td>10</td>\n",
       "      <td>17JUL2011</td>\n",
       "      <td>17JUL2011</td>\n",
       "    </tr>\n",
       "  </tbody>\n",
       "</table>\n",
       "</div>"
      ],
      "text/plain": [
       "     Order_ID  Order_Type  Employee_ID  Customer_ID Order_Date Delivery_Date\n",
       "0  1242691897           2     99999999           90  02JUL2011     04JUL2011\n",
       "1  1242736731           1       121107           10  07JUL2011     07JUL2011\n",
       "2  1242773202           3     99999999           24  11JUL2011     14JUL2011\n",
       "3  1242782701           3     99999999           27  12JUL2011     17JUL2011\n",
       "4  1242827683           1       121105           10  17JUL2011     17JUL2011"
      ]
     },
     "execution_count": 3,
     "metadata": {},
     "output_type": "execute_result"
    }
   ],
   "source": [
    "#Read the csv file into a pandas dataframe\n",
    "#Note: This file is in the Data folder underneath this folder \n",
    "df_mnth7_2011 = pd.read_csv('Data/mnth7_2011.csv')\n",
    "\n",
    "print(\"Number of Rows:  \", df_mnth7_2011.shape[0])\n",
    "print(\"Number of Columns:  \", df_mnth7_2011.shape[1])\n",
    "df_mnth7_2011.head()"
   ]
  },
  {
   "cell_type": "markdown",
   "metadata": {},
   "source": [
    "####  *mnth8_2011.csv*  \n",
    "\n",
    "\n",
    "- Filename:  mnth8_2011.csv\n",
    "- Number of Rows:   12\n",
    "- Number of Columns:   6"
   ]
  },
  {
   "cell_type": "code",
   "execution_count": 8,
   "metadata": {},
   "outputs": [
    {
     "name": "stdout",
     "output_type": "stream",
     "text": [
      "Number of Rows:   12\n",
      "Number of Columns:   6\n"
     ]
    },
    {
     "data": {
      "text/html": [
       "<div>\n",
       "<style scoped>\n",
       "    .dataframe tbody tr th:only-of-type {\n",
       "        vertical-align: middle;\n",
       "    }\n",
       "\n",
       "    .dataframe tbody tr th {\n",
       "        vertical-align: top;\n",
       "    }\n",
       "\n",
       "    .dataframe thead th {\n",
       "        text-align: right;\n",
       "    }\n",
       "</style>\n",
       "<table border=\"1\" class=\"dataframe\">\n",
       "  <thead>\n",
       "    <tr style=\"text-align: right;\">\n",
       "      <th></th>\n",
       "      <th>Order_ID</th>\n",
       "      <th>Order_Type</th>\n",
       "      <th>Employee_ID</th>\n",
       "      <th>Customer_ID</th>\n",
       "      <th>Order_Date</th>\n",
       "      <th>Delivery_Date</th>\n",
       "    </tr>\n",
       "  </thead>\n",
       "  <tbody>\n",
       "    <tr>\n",
       "      <th>0</th>\n",
       "      <td>1242977743</td>\n",
       "      <td>2</td>\n",
       "      <td>99999999</td>\n",
       "      <td>65</td>\n",
       "      <td>03AUG2011</td>\n",
       "      <td>07AUG2011</td>\n",
       "    </tr>\n",
       "    <tr>\n",
       "      <th>1</th>\n",
       "      <td>1243012144</td>\n",
       "      <td>2</td>\n",
       "      <td>99999999</td>\n",
       "      <td>2806</td>\n",
       "      <td>06AUG2011</td>\n",
       "      <td>10AUG2011</td>\n",
       "    </tr>\n",
       "    <tr>\n",
       "      <th>2</th>\n",
       "      <td>1243026971</td>\n",
       "      <td>1</td>\n",
       "      <td>120733</td>\n",
       "      <td>10</td>\n",
       "      <td>08AUG2011</td>\n",
       "      <td>08AUG2011</td>\n",
       "    </tr>\n",
       "    <tr>\n",
       "      <th>3</th>\n",
       "      <td>1243039354</td>\n",
       "      <td>1</td>\n",
       "      <td>120143</td>\n",
       "      <td>41</td>\n",
       "      <td>10AUG2011</td>\n",
       "      <td>10AUG2011</td>\n",
       "    </tr>\n",
       "    <tr>\n",
       "      <th>4</th>\n",
       "      <td>1243049938</td>\n",
       "      <td>3</td>\n",
       "      <td>99999999</td>\n",
       "      <td>53</td>\n",
       "      <td>11AUG2011</td>\n",
       "      <td>14AUG2011</td>\n",
       "    </tr>\n",
       "  </tbody>\n",
       "</table>\n",
       "</div>"
      ],
      "text/plain": [
       "     Order_ID  Order_Type  Employee_ID  Customer_ID Order_Date Delivery_Date\n",
       "0  1242977743           2     99999999           65  03AUG2011     07AUG2011\n",
       "1  1243012144           2     99999999         2806  06AUG2011     10AUG2011\n",
       "2  1243026971           1       120733           10  08AUG2011     08AUG2011\n",
       "3  1243039354           1       120143           41  10AUG2011     10AUG2011\n",
       "4  1243049938           3     99999999           53  11AUG2011     14AUG2011"
      ]
     },
     "execution_count": 8,
     "metadata": {},
     "output_type": "execute_result"
    }
   ],
   "source": [
    "#Read the csv file into a pandas dataframe\n",
    "#Note: This file is in the Data folder underneath this folder \n",
    "df_mnth8_2011 = pd.read_csv('Data/mnth8_2011.csv')\n",
    "\n",
    "print(\"Number of Rows:  \", df_mnth8_2011.shape[0])\n",
    "print(\"Number of Columns:  \", df_mnth8_2011.shape[1])\n",
    "df_mnth8_2011.head()"
   ]
  },
  {
   "cell_type": "markdown",
   "metadata": {},
   "source": [
    "# Appending Dataframes"
   ]
  },
  {
   "cell_type": "markdown",
   "metadata": {},
   "source": [
    "### Append df_mnth8_2011 to df_mnth7_2011  \n",
    "After appending should end up with:  \n",
    "- Number of Rows:   10 + 12 = 22  \n",
    "- Number of Columns:   6"
   ]
  },
  {
   "cell_type": "code",
   "execution_count": 4,
   "metadata": {},
   "outputs": [],
   "source": [
    "# Append df_mnth8_2011 to df_mnth7_2011\n",
    "df_Appended_8_2011 = df_mnth7_2011.append(df_mnth8_2011, ignore_index=True)"
   ]
  },
  {
   "cell_type": "code",
   "execution_count": 5,
   "metadata": {},
   "outputs": [
    {
     "name": "stdout",
     "output_type": "stream",
     "text": [
      "Number of Rows:   22\n",
      "Number of Columns:   6\n"
     ]
    }
   ],
   "source": [
    "# Append check for df_Appended_8_2011\n",
    "print(\"Number of Rows:  \", df_Appended_8_2011.shape[0])\n",
    "print(\"Number of Columns:  \", df_Appended_8_2011.shape[1])"
   ]
  },
  {
   "cell_type": "code",
   "execution_count": 6,
   "metadata": {
    "scrolled": true
   },
   "outputs": [
    {
     "data": {
      "text/html": [
       "<div>\n",
       "<style scoped>\n",
       "    .dataframe tbody tr th:only-of-type {\n",
       "        vertical-align: middle;\n",
       "    }\n",
       "\n",
       "    .dataframe tbody tr th {\n",
       "        vertical-align: top;\n",
       "    }\n",
       "\n",
       "    .dataframe thead th {\n",
       "        text-align: right;\n",
       "    }\n",
       "</style>\n",
       "<table border=\"1\" class=\"dataframe\">\n",
       "  <thead>\n",
       "    <tr style=\"text-align: right;\">\n",
       "      <th></th>\n",
       "      <th>Order_ID</th>\n",
       "      <th>Order_Type</th>\n",
       "      <th>Employee_ID</th>\n",
       "      <th>Customer_ID</th>\n",
       "      <th>Order_Date</th>\n",
       "      <th>Delivery_Date</th>\n",
       "    </tr>\n",
       "  </thead>\n",
       "  <tbody>\n",
       "    <tr>\n",
       "      <th>0</th>\n",
       "      <td>1242691897</td>\n",
       "      <td>2</td>\n",
       "      <td>99999999</td>\n",
       "      <td>90</td>\n",
       "      <td>02JUL2011</td>\n",
       "      <td>04JUL2011</td>\n",
       "    </tr>\n",
       "    <tr>\n",
       "      <th>1</th>\n",
       "      <td>1242736731</td>\n",
       "      <td>1</td>\n",
       "      <td>121107</td>\n",
       "      <td>10</td>\n",
       "      <td>07JUL2011</td>\n",
       "      <td>07JUL2011</td>\n",
       "    </tr>\n",
       "    <tr>\n",
       "      <th>2</th>\n",
       "      <td>1242773202</td>\n",
       "      <td>3</td>\n",
       "      <td>99999999</td>\n",
       "      <td>24</td>\n",
       "      <td>11JUL2011</td>\n",
       "      <td>14JUL2011</td>\n",
       "    </tr>\n",
       "    <tr>\n",
       "      <th>3</th>\n",
       "      <td>1242782701</td>\n",
       "      <td>3</td>\n",
       "      <td>99999999</td>\n",
       "      <td>27</td>\n",
       "      <td>12JUL2011</td>\n",
       "      <td>17JUL2011</td>\n",
       "    </tr>\n",
       "    <tr>\n",
       "      <th>4</th>\n",
       "      <td>1242827683</td>\n",
       "      <td>1</td>\n",
       "      <td>121105</td>\n",
       "      <td>10</td>\n",
       "      <td>17JUL2011</td>\n",
       "      <td>17JUL2011</td>\n",
       "    </tr>\n",
       "  </tbody>\n",
       "</table>\n",
       "</div>"
      ],
      "text/plain": [
       "     Order_ID  Order_Type  Employee_ID  Customer_ID Order_Date Delivery_Date\n",
       "0  1242691897           2     99999999           90  02JUL2011     04JUL2011\n",
       "1  1242736731           1       121107           10  07JUL2011     07JUL2011\n",
       "2  1242773202           3     99999999           24  11JUL2011     14JUL2011\n",
       "3  1242782701           3     99999999           27  12JUL2011     17JUL2011\n",
       "4  1242827683           1       121105           10  17JUL2011     17JUL2011"
      ]
     },
     "execution_count": 6,
     "metadata": {},
     "output_type": "execute_result"
    }
   ],
   "source": [
    "df_Appended_8_2011.head()"
   ]
  },
  {
   "cell_type": "markdown",
   "metadata": {},
   "source": [
    "# Save Appended Dataframe as a csv file  \n",
    "- Saved data file: *mnth_current.csv*"
   ]
  },
  {
   "cell_type": "code",
   "execution_count": 9,
   "metadata": {},
   "outputs": [
    {
     "name": "stdout",
     "output_type": "stream",
     "text": [
      "Number of Rows:   22\n",
      "Number of Columns:   6\n"
     ]
    },
    {
     "data": {
      "text/html": [
       "<div>\n",
       "<style scoped>\n",
       "    .dataframe tbody tr th:only-of-type {\n",
       "        vertical-align: middle;\n",
       "    }\n",
       "\n",
       "    .dataframe tbody tr th {\n",
       "        vertical-align: top;\n",
       "    }\n",
       "\n",
       "    .dataframe thead th {\n",
       "        text-align: right;\n",
       "    }\n",
       "</style>\n",
       "<table border=\"1\" class=\"dataframe\">\n",
       "  <thead>\n",
       "    <tr style=\"text-align: right;\">\n",
       "      <th></th>\n",
       "      <th>Order_ID</th>\n",
       "      <th>Order_Type</th>\n",
       "      <th>Employee_ID</th>\n",
       "      <th>Customer_ID</th>\n",
       "      <th>Order_Date</th>\n",
       "      <th>Delivery_Date</th>\n",
       "    </tr>\n",
       "  </thead>\n",
       "  <tbody>\n",
       "    <tr>\n",
       "      <th>0</th>\n",
       "      <td>1242691897</td>\n",
       "      <td>2</td>\n",
       "      <td>99999999</td>\n",
       "      <td>90</td>\n",
       "      <td>02JUL2011</td>\n",
       "      <td>04JUL2011</td>\n",
       "    </tr>\n",
       "    <tr>\n",
       "      <th>1</th>\n",
       "      <td>1242736731</td>\n",
       "      <td>1</td>\n",
       "      <td>121107</td>\n",
       "      <td>10</td>\n",
       "      <td>07JUL2011</td>\n",
       "      <td>07JUL2011</td>\n",
       "    </tr>\n",
       "  </tbody>\n",
       "</table>\n",
       "</div>"
      ],
      "text/plain": [
       "     Order_ID  Order_Type  Employee_ID  Customer_ID Order_Date Delivery_Date\n",
       "0  1242691897           2     99999999           90  02JUL2011     04JUL2011\n",
       "1  1242736731           1       121107           10  07JUL2011     07JUL2011"
      ]
     },
     "execution_count": 9,
     "metadata": {},
     "output_type": "execute_result"
    }
   ],
   "source": [
    "# Display of number of rows and columns in the dataframe to doublecheck\n",
    "print(\"Number of Rows:  \", df_Appended_8_2011.shape[0])\n",
    "print(\"Number of Columns:  \", df_Appended_8_2011.shape[1])\n",
    "df_Appended_8_2011.head(2)"
   ]
  },
  {
   "cell_type": "code",
   "execution_count": 16,
   "metadata": {},
   "outputs": [],
   "source": [
    "# Save the Dataframe to a csv file:  Don't include the index \n",
    "df_Appended_8_2011.to_csv(\"Data/mnth_current.csv\", index=False)"
   ]
  },
  {
   "cell_type": "code",
   "execution_count": 17,
   "metadata": {},
   "outputs": [],
   "source": [
    "# Test read the new csv file\n",
    "df_test = pd.read_csv('Data/mnth_current.csv')"
   ]
  },
  {
   "cell_type": "code",
   "execution_count": 18,
   "metadata": {},
   "outputs": [
    {
     "name": "stdout",
     "output_type": "stream",
     "text": [
      "Number of Rows:   22\n",
      "Number of Columns:   6\n"
     ]
    },
    {
     "data": {
      "text/html": [
       "<div>\n",
       "<style scoped>\n",
       "    .dataframe tbody tr th:only-of-type {\n",
       "        vertical-align: middle;\n",
       "    }\n",
       "\n",
       "    .dataframe tbody tr th {\n",
       "        vertical-align: top;\n",
       "    }\n",
       "\n",
       "    .dataframe thead th {\n",
       "        text-align: right;\n",
       "    }\n",
       "</style>\n",
       "<table border=\"1\" class=\"dataframe\">\n",
       "  <thead>\n",
       "    <tr style=\"text-align: right;\">\n",
       "      <th></th>\n",
       "      <th>Order_ID</th>\n",
       "      <th>Order_Type</th>\n",
       "      <th>Employee_ID</th>\n",
       "      <th>Customer_ID</th>\n",
       "      <th>Order_Date</th>\n",
       "      <th>Delivery_Date</th>\n",
       "    </tr>\n",
       "  </thead>\n",
       "  <tbody>\n",
       "    <tr>\n",
       "      <th>0</th>\n",
       "      <td>1242691897</td>\n",
       "      <td>2</td>\n",
       "      <td>99999999</td>\n",
       "      <td>90</td>\n",
       "      <td>02JUL2011</td>\n",
       "      <td>04JUL2011</td>\n",
       "    </tr>\n",
       "    <tr>\n",
       "      <th>1</th>\n",
       "      <td>1242736731</td>\n",
       "      <td>1</td>\n",
       "      <td>121107</td>\n",
       "      <td>10</td>\n",
       "      <td>07JUL2011</td>\n",
       "      <td>07JUL2011</td>\n",
       "    </tr>\n",
       "  </tbody>\n",
       "</table>\n",
       "</div>"
      ],
      "text/plain": [
       "     Order_ID  Order_Type  Employee_ID  Customer_ID Order_Date Delivery_Date\n",
       "0  1242691897           2     99999999           90  02JUL2011     04JUL2011\n",
       "1  1242736731           1       121107           10  07JUL2011     07JUL2011"
      ]
     },
     "execution_count": 18,
     "metadata": {},
     "output_type": "execute_result"
    }
   ],
   "source": [
    "# Display of number of rows and columns in the dataframe to doublecheck\n",
    "print(\"Number of Rows:  \", df_test.shape[0])\n",
    "print(\"Number of Columns:  \", df_test.shape[1])\n",
    "df_test.head(2)"
   ]
  },
  {
   "cell_type": "code",
   "execution_count": null,
   "metadata": {},
   "outputs": [],
   "source": []
  }
 ],
 "metadata": {
  "kernelspec": {
   "display_name": "Python 3",
   "language": "python",
   "name": "python3"
  },
  "language_info": {
   "codemirror_mode": {
    "name": "ipython",
    "version": 3
   },
   "file_extension": ".py",
   "mimetype": "text/x-python",
   "name": "python",
   "nbconvert_exporter": "python",
   "pygments_lexer": "ipython3",
   "version": "3.7.1"
  }
 },
 "nbformat": 4,
 "nbformat_minor": 2
}
