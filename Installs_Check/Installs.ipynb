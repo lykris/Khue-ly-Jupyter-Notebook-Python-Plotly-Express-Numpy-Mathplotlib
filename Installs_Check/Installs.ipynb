{
 "cells": [
  {
   "cell_type": "markdown",
   "metadata": {},
   "source": [
    "# Cis 340 Install Instructions and Checks  \n",
    "\n",
    "\n",
    "1. [**pandas**](#pandas)  \n",
    "3. [**xlrd:  To Get Data from Excel Files**](#xlrd) \n",
    "2. [**Matplotlib**](#Matplotlib)  \n",
    "4. [**plotly express**](#plotly-express)  \n",
    "5. [**Getting Data with SQL**](#Getting-Data-with-SQL)  \n",
    "  - [**SQLite**](#SQLite)  \n",
    "  - [**SQL Server**](#SQL-Server)  \n",
    "6. [**pandas datareader**](#pandas-datareader)  \n",
    "\n",
    "\n"
   ]
  },
  {
   "cell_type": "markdown",
   "metadata": {},
   "source": [
    "# pandas \n",
    "- pip install pandas"
   ]
  },
  {
   "cell_type": "code",
   "execution_count": null,
   "metadata": {},
   "outputs": [],
   "source": [
    "# Test of pandas install\n",
    "import pandas as pd"
   ]
  },
  {
   "cell_type": "markdown",
   "metadata": {},
   "source": [
    "# Matplotlib  \n",
    "1. pip install matplotlib"
   ]
  },
  {
   "cell_type": "code",
   "execution_count": null,
   "metadata": {},
   "outputs": [],
   "source": [
    "import matplotlib\n",
    "import matplotlib.pyplot as plt"
   ]
  },
  {
   "cell_type": "code",
   "execution_count": null,
   "metadata": {},
   "outputs": [],
   "source": [
    "# Test matplotlib install\n",
    "\n",
    "df = pd.read_csv('Data/Country_Data.csv')\n",
    "df.head()"
   ]
  },
  {
   "cell_type": "code",
   "execution_count": null,
   "metadata": {},
   "outputs": [],
   "source": [
    "# Use Row Filtering to create a USA dataframe\n",
    "row_filter = df['country'] == 'United States'\n",
    "df_US = df[row_filter]\n",
    "\n",
    "# plot US GDP per Capita\n",
    "# df_USA.plot()\n",
    "df_US.plot.line(x='year', \n",
    "           y='gdpPerCapita', \n",
    "           title='US GDP per Capita')"
   ]
  },
  {
   "cell_type": "markdown",
   "metadata": {},
   "source": [
    "# xlrd  \n",
    "- For Getting Data from Excel Files \n",
    "\n",
    "\n",
    "- pip install xlrd"
   ]
  },
  {
   "cell_type": "code",
   "execution_count": null,
   "metadata": {},
   "outputs": [],
   "source": [
    "# Set path to Excel file\n",
    "excel_file = 'Data//w3schools_Data_Updated.xlsx'\n",
    "\n",
    "# Set Excel worksheet to get data from\n",
    "excel_worksheet_name = 'Categories'\n",
    "\n",
    "# Read the data from a worksheet into its own dataframe\n",
    "df_W3_categories = pd.read_excel(excel_file, excel_worksheet_name)\n",
    "df_W3_categories.head()"
   ]
  },
  {
   "cell_type": "markdown",
   "metadata": {},
   "source": [
    "# plotly express  \n",
    "1. pip install plotly==4.4.1\n",
    "2. pip install scipy\n",
    "\n",
    "Source:  https://plot.ly/python/getting-started/  \n",
    "\n",
    "Possible Installs: If plotly express is not working after the above:\n",
    "- pip install \"notebook>=5.3\" \"ipywidgets>=7.2\"\n"
   ]
  },
  {
   "cell_type": "code",
   "execution_count": null,
   "metadata": {},
   "outputs": [],
   "source": [
    "from IPython.display import display, HTML\n",
    "#import pandas as pd\n",
    "import math\n",
    "\n",
    "import plotly.express as px\n",
    "import numpy as np\n",
    "from scipy import special"
   ]
  },
  {
   "cell_type": "code",
   "execution_count": null,
   "metadata": {
    "scrolled": true
   },
   "outputs": [],
   "source": [
    "df = pd.read_csv('Data/Country_Data.csv')\n",
    "df.head()"
   ]
  },
  {
   "cell_type": "code",
   "execution_count": null,
   "metadata": {},
   "outputs": [],
   "source": [
    "# Create dataframe with only Afghanistan data\n",
    "row_filter = df['country'] == 'United States'\n",
    "\n",
    "df_US = df[row_filter]\n",
    "df_US.head()"
   ]
  },
  {
   "cell_type": "code",
   "execution_count": null,
   "metadata": {},
   "outputs": [],
   "source": [
    "fig = px.bar(df_US, \n",
    "            x='year', \n",
    "             y='population',\n",
    "            title='US Population: Vertical Bar Chart')\n",
    "fig.show()"
   ]
  },
  {
   "cell_type": "markdown",
   "metadata": {},
   "source": [
    "# Getting Data with SQL  "
   ]
  },
  {
   "cell_type": "markdown",
   "metadata": {},
   "source": [
    "# SQLite  \n",
    "- I don't believe I had to install anything for this, but some students did."
   ]
  },
  {
   "cell_type": "code",
   "execution_count": null,
   "metadata": {},
   "outputs": [],
   "source": [
    "import pandas as pd\n",
    "import sqlite3\n",
    "import os \n",
    "\n",
    "# Setup path and file name stuff\n",
    "current_directory = os.getcwd()\n",
    "\n",
    "database_name = \"Northwind_small.sqlite\"\n",
    "\n",
    "path_to_database = current_directory + \"\\Data\\\\\" + database_name\n",
    "print(\"path to database: \", path_to_database)\n",
    "\n",
    "# Building Connection and get Cursor\n",
    "conn = sqlite3.connect(path_to_database )\n",
    "cursor = conn.cursor()\n",
    "\n",
    "df_tables = pd.read_sql_query(\"select name from sqlite_master where type='table'\", conn)\n",
    "df_tables.sort_values('name', inplace=True)\n",
    "df_tables.head()"
   ]
  },
  {
   "cell_type": "markdown",
   "metadata": {},
   "source": [
    "# SQL Server (with *pyodbc*)\n",
    "- pip install pyodbc"
   ]
  },
  {
   "cell_type": "code",
   "execution_count": null,
   "metadata": {},
   "outputs": [],
   "source": [
    "import pyodbc\n",
    "\n",
    "# Set connection values to variables\n",
    "driver = \"DRIVER={SQL Server Native Client 11.0};\" \n",
    "server = \"Server=ec2-52-14-205-70.us-east-2.compute.amazonaws.com;\" \n",
    "database = \"Database=SuperStoreUS;\" \n",
    "userid =   \"uid=SQL;\" \n",
    "password = \"pwd=SQL;\"\n",
    "      \n",
    "# Build connection string  \n",
    "conn_string = driver + server + database + userid + password\n",
    "\n",
    "# Create Connection object\n",
    "conn = pyodbc.connect(conn_string)\n",
    "\n",
    "# Build the test demo SQL string:  retrieve all the records from the Orders table\n",
    "sql_string = 'select * from Orders'\n",
    "\n",
    "# Execute SQL query and retrieve data into a dataframe\n",
    "df = pd.read_sql_query(sql_string, conn)\n",
    "df.head(2)"
   ]
  },
  {
   "cell_type": "markdown",
   "metadata": {},
   "source": [
    "# pandas datareader  \n",
    "1. pip install pandas-datareader  \n",
    " "
   ]
  },
  {
   "cell_type": "code",
   "execution_count": null,
   "metadata": {},
   "outputs": [],
   "source": [
    "import matplotlib.pyplot as plt\n",
    "import pandas as pd\n",
    "\n",
    "import pandas_datareader.data as web\n",
    "import datetime as dt\n",
    "\n",
    "start = dt.datetime(2010,1,1)\n",
    "end = dt.datetime(2018,12,31)\n",
    "\n",
    "df = web.DataReader(['IBM', 'AAPL'],'yahoo', start, end)\n",
    "df.head(2)"
   ]
  }
 ],
 "metadata": {
  "kernelspec": {
   "display_name": "Python 3",
   "language": "python",
   "name": "python3"
  },
  "language_info": {
   "codemirror_mode": {
    "name": "ipython",
    "version": 3
   },
   "file_extension": ".py",
   "mimetype": "text/x-python",
   "name": "python",
   "nbconvert_exporter": "python",
   "pygments_lexer": "ipython3",
   "version": "3.7.4"
  }
 },
 "nbformat": 4,
 "nbformat_minor": 4
}
