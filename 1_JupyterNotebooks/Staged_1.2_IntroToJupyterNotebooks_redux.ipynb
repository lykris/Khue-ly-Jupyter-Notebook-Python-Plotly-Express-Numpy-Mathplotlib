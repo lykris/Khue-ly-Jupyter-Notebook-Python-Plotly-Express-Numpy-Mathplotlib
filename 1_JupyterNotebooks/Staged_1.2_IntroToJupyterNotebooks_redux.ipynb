{
 "cells": [
  {
   "cell_type": "markdown",
   "metadata": {
    "slideshow": {
     "slide_type": "slide"
    }
   },
   "source": [
    "# 1.2 Intro to Jupyter Notebooks *redux*\n",
    "Learning how to use a Jupyter Notebook to create and run Python code. "
   ]
  },
  {
   "cell_type": "markdown",
   "metadata": {
    "slideshow": {
     "slide_type": "slide"
    }
   },
   "source": [
    "# *Hello World* in Python:  *print()*"
   ]
  },
  {
   "cell_type": "code",
   "execution_count": 13,
   "metadata": {
    "slideshow": {
     "slide_type": "fragment"
    }
   },
   "outputs": [
    {
     "name": "stdout",
     "output_type": "stream",
     "text": [
      "Hello World!\n"
     ]
    }
   ],
   "source": [
    "# Display Hello World!  \n",
    "print(\"Hello World!\")"
   ]
  },
  {
   "cell_type": "markdown",
   "metadata": {
    "slideshow": {
     "slide_type": "slide"
    }
   },
   "source": [
    "# *Hello Galaxy* and *Hello Universe*!  \n",
    "Add the code to display what is indicated in the comment at the top of the cells below:"
   ]
  },
  {
   "cell_type": "code",
   "execution_count": 14,
   "metadata": {
    "slideshow": {
     "slide_type": "fragment"
    }
   },
   "outputs": [
    {
     "name": "stdout",
     "output_type": "stream",
     "text": [
      "Hello Galaxy!\n"
     ]
    }
   ],
   "source": [
    "# Display Hello Galaxy!\n",
    "print(\"Hello Galaxy!\")\n"
   ]
  },
  {
   "cell_type": "code",
   "execution_count": 15,
   "metadata": {
    "slideshow": {
     "slide_type": "fragment"
    }
   },
   "outputs": [
    {
     "name": "stdout",
     "output_type": "stream",
     "text": [
      "Hello Universe!\n"
     ]
    }
   ],
   "source": [
    "# Display Hello Universe!\n",
    "print(\"Hello Universe!\")"
   ]
  },
  {
   "cell_type": "markdown",
   "metadata": {},
   "source": [
    "# Demo:  Running Total"
   ]
  },
  {
   "cell_type": "code",
   "execution_count": null,
   "metadata": {},
   "outputs": [],
   "source": [
    "# Declare a variable names running_total and initialize it to zero\n",
    "running_total = 0\n"
   ]
  },
  {
   "cell_type": "code",
   "execution_count": null,
   "metadata": {},
   "outputs": [],
   "source": [
    "# Create a List named values_to_sum with the following values\n",
    "\n",
    "values_to_sum = [100, 200, 500]\n",
    "print(values_to_sum)"
   ]
  },
  {
   "cell_type": "code",
   "execution_count": null,
   "metadata": {},
   "outputs": [],
   "source": [
    "# Use a for loop to loop through the List and sum the values\n",
    " \n",
    "for value in values_to_sum:\n",
    "    running_total = running_total + value\n",
    "    print(\"The new sum of all values is: \" + str(running_total))\n",
    "    \n"
   ]
  },
  {
   "cell_type": "markdown",
   "metadata": {
    "slideshow": {
     "slide_type": "slide"
    }
   },
   "source": [
    "# Tip Calculator  \n",
    "### Enter the following code in the Code Cell below and run it:  \n",
    "\n",
    "```python\n",
    "# Calculate tip amount\n",
    "bill_amount = 100  \n",
    "tip_rate = .20  \n",
    "tip_amount = bill_amount * tip_rate  \n",
    "\n",
    "# Print the results\n",
    "print (\"The Amount of the Tip is: \", tip_amount)  \n",
    "```"
   ]
  },
  {
   "cell_type": "code",
   "execution_count": 19,
   "metadata": {
    "slideshow": {
     "slide_type": "slide"
    }
   },
   "outputs": [],
   "source": [
    "# Calculate tip amount\n",
    "bill_amount = 100  \n",
    "tip_rate = .20  \n",
    "tip_amount = bill_amount * tip_rate"
   ]
  },
  {
   "cell_type": "code",
   "execution_count": 18,
   "metadata": {},
   "outputs": [
    {
     "name": "stdout",
     "output_type": "stream",
     "text": [
      "The Amount of the Tip is:  20.0\n"
     ]
    }
   ],
   "source": [
    "# Print the results\n",
    "print (\"The Amount of the Tip is: \", tip_amount) "
   ]
  },
  {
   "cell_type": "markdown",
   "metadata": {
    "slideshow": {
     "slide_type": "slide"
    }
   },
   "source": [
    "### Add the following as comments in the code cells below and below each comment add the required code:  \n",
    "\n",
    "- Add a variable named total_bill = bill_amount + tip_amount  \n",
    "- Print total_bill"
   ]
  },
  {
   "cell_type": "code",
   "execution_count": 24,
   "metadata": {
    "slideshow": {
     "slide_type": "fragment"
    }
   },
   "outputs": [],
   "source": [
    "# Declare total bill variable\n",
    "total_bill = bill_amount + tip_amount"
   ]
  },
  {
   "cell_type": "code",
   "execution_count": 25,
   "metadata": {},
   "outputs": [
    {
     "name": "stdout",
     "output_type": "stream",
     "text": [
      "120.0\n"
     ]
    }
   ],
   "source": [
    "# Display the total bill amount\n",
    "print(total_bill)"
   ]
  },
  {
   "cell_type": "markdown",
   "metadata": {
    "slideshow": {
     "slide_type": "slide"
    }
   },
   "source": [
    "### Add the following as comments in the code cells below and below each comment add the required code:  \n",
    "\n",
    "- Add a variable for the number of people splitting the bill (number_splitting) and set it equal to 2  \n",
    "- Add a variable for individual share amount of the total bill and calculate it\n",
    "- Print that individual share amount "
   ]
  },
  {
   "cell_type": "code",
   "execution_count": 26,
   "metadata": {},
   "outputs": [],
   "source": [
    "# Declare the number of people splitting the bill\n",
    "number_splitting = 2"
   ]
  },
  {
   "cell_type": "code",
   "execution_count": 27,
   "metadata": {},
   "outputs": [],
   "source": [
    "# Declare and calculate the individual share amount of the total bill\n",
    "individual_share = total_bill/number_splitting"
   ]
  },
  {
   "cell_type": "code",
   "execution_count": 28,
   "metadata": {},
   "outputs": [
    {
     "name": "stdout",
     "output_type": "stream",
     "text": [
      "60.0\n"
     ]
    }
   ],
   "source": [
    "# Display the individual share amount of the total bill\n",
    "print(individual_share)"
   ]
  },
  {
   "cell_type": "markdown",
   "metadata": {},
   "source": [
    "# Time of Day  \n",
    "\n",
    "- Declare a variable named time_24 and assign it a value of 11  \n",
    "- Create an If Statement that use the following logic:  \n",
    "  - If the time is less than 12, display **Good Morning!**  \n",
    "  - If the time is less than 18, display **Good Afternoon!**  \n",
    "  - If the time is less than or equal to 24, display **Good Evening!**  \n",
    "  - Otherwise, display **Time must be between 0 and 24!**"
   ]
  },
  {
   "cell_type": "code",
   "execution_count": 2,
   "metadata": {},
   "outputs": [],
   "source": [
    "# Declare time variable\n",
    "time_24 = 11"
   ]
  },
  {
   "cell_type": "code",
   "execution_count": 3,
   "metadata": {},
   "outputs": [
    {
     "name": "stdout",
     "output_type": "stream",
     "text": [
      "Good Morning!\n"
     ]
    }
   ],
   "source": [
    "def time_based_greeting():\n",
    "    if time_24 < 12:\n",
    "        print(\"Good Morning!\")\n",
    "    elif 12 < time_24 < 18:\n",
    "        print(\"Good Afternoon!\")\n",
    "    elif 18 < time_24 <= 24:\n",
    "        print(\"Good Evening!\")\n",
    "    else:\n",
    "        print(\"Time must be between 0 and 24!\")\n",
    "            \n",
    "\n",
    "time_based_greeting()"
   ]
  },
  {
   "cell_type": "code",
   "execution_count": null,
   "metadata": {},
   "outputs": [],
   "source": []
  },
  {
   "cell_type": "code",
   "execution_count": null,
   "metadata": {},
   "outputs": [],
   "source": []
  }
 ],
 "metadata": {
  "kernelspec": {
   "display_name": "Python 3",
   "language": "python",
   "name": "python3"
  },
  "language_info": {
   "codemirror_mode": {
    "name": "ipython",
    "version": 3
   },
   "file_extension": ".py",
   "mimetype": "text/x-python",
   "name": "python",
   "nbconvert_exporter": "python",
   "pygments_lexer": "ipython3",
   "version": "3.7.1"
  }
 },
 "nbformat": 4,
 "nbformat_minor": 4
}
