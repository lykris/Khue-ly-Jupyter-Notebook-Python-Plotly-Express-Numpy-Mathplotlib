{
 "cells": [
  {
   "cell_type": "markdown",
   "metadata": {
    "slideshow": {
     "slide_type": "slide"
    }
   },
   "source": [
    "# Ex 1.2 Cloning a Public Repo of Jupyter Notebooks  \n",
    "  \n",
    " - [**In Class**](#In-Class)  \n",
    "  - [Negative or Positive Number?](#Negative-or-Positive-Number?)  \n",
    "\n",
    "- [**Exercise**](#Exercise)  \n",
    "  - [Part 1: Eligible to Graduate](#Part-1:-Eligible-to-Graduate-Check)  \n",
    "  - [Part 2: Temperature Converter](#Part-2:-Temperature-Converter)   \n",
    "  - [Part 3: Celsius to Fahrenheit Converter](#Part-3:-Celsius-to-Fahrenheit-Converter) \n",
    "  - [Part 4: Kelvin to Fahrenheit Converter](#Part-4:-Kelvin-to-Fahrenheit-Converter) \n",
    "  - [Part 5: Monthly Sales](#Part-5:-Monthly-Sales)  \n",
    "  \n",
    " \n",
    "  "
   ]
  },
  {
   "cell_type": "markdown",
   "metadata": {},
   "source": [
    "# In Class"
   ]
  },
  {
   "cell_type": "markdown",
   "metadata": {},
   "source": [
    "### Negative or Positive Number?\n",
    "\n",
    "1. In the cell below, declare a variable named user_value and assign it either a postivie or negative number  \n",
    "2. Determine and then display whether it is a postive number or a negative number.  \n",
    "  1. Assume the number is an integer"
   ]
  },
  {
   "cell_type": "code",
   "execution_count": 1,
   "metadata": {},
   "outputs": [],
   "source": [
    "# Prompt the user for a value\n",
    "user_variable = -3\n"
   ]
  },
  {
   "cell_type": "code",
   "execution_count": 3,
   "metadata": {},
   "outputs": [
    {
     "name": "stdout",
     "output_type": "stream",
     "text": [
      "The value entered is a negative number.\n"
     ]
    }
   ],
   "source": [
    "# Determine and then display if it is a positive or negative number\n",
    "\n",
    "def define_user_variable():\n",
    "    if user_variable > 0:\n",
    "        print(\"The value entered is a positive number.\")\n",
    "    elif user_variable <0:\n",
    "        print(\"The value entered is a negative number.\")\n",
    "    else:\n",
    "        print(\"Please enter an interger different than 0.\")\n",
    "        \n",
    "define_user_variable()"
   ]
  },
  {
   "cell_type": "markdown",
   "metadata": {},
   "source": [
    "# Exercise"
   ]
  },
  {
   "cell_type": "markdown",
   "metadata": {},
   "source": [
    "# Part 1: Eligible to Graduate Check  \n",
    "1. Declare a variable named credits and assign it a value for completed credit hours \n",
    "2. Declare a variable named GPA and assign it a value for overall GPA \n",
    "3. They are only eligible to graduate if their credit hours are at least 120 **and** their overall GPA is at least 2.0\n",
    "4. Display whether they are eligible to graduate or not"
   ]
  },
  {
   "cell_type": "code",
   "execution_count": 3,
   "metadata": {},
   "outputs": [
    {
     "name": "stdout",
     "output_type": "stream",
     "text": [
      "You are not eligible to graduate.\n"
     ]
    }
   ],
   "source": [
    "#Declare a variable named credits and assign it a value for completed credit hours\n",
    "credits = 109\n",
    "\n",
    "#Declare a variable named GPA and assign it a value for overall GPA\n",
    "GPA = 3.4\n",
    "\n",
    "#Determine graduation eligibility\n",
    "def graduation_eligibility():\n",
    "    if credits >= 120 and GPA >= 2.0:\n",
    "        print(\"You are eligible to graduate!\")\n",
    "    else:\n",
    "        print(\"You are not eligible to graduate.\")\n",
    "        \n",
    "#Display graduation eligibility\n",
    "graduation_eligibility()"
   ]
  },
  {
   "cell_type": "markdown",
   "metadata": {
    "slideshow": {
     "slide_type": "slide"
    }
   },
   "source": [
    "# Part 2: Temperature Converter \n",
    "- Declare a variable named **temp_fahr** and assign it a value of 212   \n",
    "- Write the code to calculate the equivalent Celsius temperature and stores that value in a variable named **temp_cels**  \n",
    "  - Do a google search to get that formula!\n",
    "- Display both values to the user with info about which is which"
   ]
  },
  {
   "cell_type": "code",
   "execution_count": 4,
   "metadata": {},
   "outputs": [],
   "source": [
    "# Declare a variable named temp_fahr and assign it a value of 212  \n",
    "temp_fahr = 212\n"
   ]
  },
  {
   "cell_type": "code",
   "execution_count": 5,
   "metadata": {},
   "outputs": [],
   "source": [
    "# Convert to Celsius value\n",
    "temp_ceis = (temp_fahr - 32)*5/9\n"
   ]
  },
  {
   "cell_type": "code",
   "execution_count": 7,
   "metadata": {},
   "outputs": [
    {
     "name": "stdout",
     "output_type": "stream",
     "text": [
      "The temperature in Farenheit is 212\n",
      "The temperature in Celsius is 100.0\n"
     ]
    }
   ],
   "source": [
    "# Display both values to the user\n",
    "print(\"The temperature in Farenheit is\", temp_fahr)\n",
    "print(\"The temperature in Celsius is\", temp_ceis)\n"
   ]
  },
  {
   "cell_type": "markdown",
   "metadata": {},
   "source": [
    "# Part 3: Celsius to Fahrenheit Converter \n",
    "- Using Part 2 as a model, create the code cells to do the following:  \n",
    "  - Hard code a Celsius temperature value of 100 \n",
    "  - Calculate the equivalent Fahrenheit temperature value  \n",
    "  - Display both values with clear descriptions of what they are"
   ]
  },
  {
   "cell_type": "code",
   "execution_count": 8,
   "metadata": {},
   "outputs": [],
   "source": [
    "# Declare a vriable named temp_ceis and assign it a value of 100\n",
    "temp_ceis = 100"
   ]
  },
  {
   "cell_type": "code",
   "execution_count": 9,
   "metadata": {},
   "outputs": [],
   "source": [
    "# Convert to Farenheit\n",
    "temp_fahr = (temp_ceis*9/5) + 32"
   ]
  },
  {
   "cell_type": "code",
   "execution_count": 10,
   "metadata": {},
   "outputs": [
    {
     "name": "stdout",
     "output_type": "stream",
     "text": [
      "The temperature in Celsius is 100\n",
      "The temperature in Farenheit is 212.0\n"
     ]
    }
   ],
   "source": [
    "# Display both values with description\n",
    "print(\"The temperature in Celsius is\", temp_ceis)\n",
    "print(\"The temperature in Farenheit is\", temp_fahr)"
   ]
  },
  {
   "cell_type": "markdown",
   "metadata": {},
   "source": [
    "# Part 4: Kelvin to Fahrenheit Converter \n",
    "- Hard code a Kelvin temperature value of 0 \n",
    "- Calculate the equivalent Fahrenheit temperature value  \n",
    "- Display both values with clear descriptions of what they are"
   ]
  },
  {
   "cell_type": "code",
   "execution_count": 11,
   "metadata": {},
   "outputs": [],
   "source": [
    "# Declare a vriable named temp_kev and assign it a value of 0\n",
    "temp_kev = 0"
   ]
  },
  {
   "cell_type": "code",
   "execution_count": 15,
   "metadata": {},
   "outputs": [],
   "source": [
    "# Convert to Farenheit\n",
    "temp_fahr = ((temp_kev - 273.15)*9/5) + 32"
   ]
  },
  {
   "cell_type": "code",
   "execution_count": 16,
   "metadata": {},
   "outputs": [
    {
     "name": "stdout",
     "output_type": "stream",
     "text": [
      "The temperature in Kevin is 0\n",
      "The temperature in Farenheit is -459.66999999999996\n"
     ]
    }
   ],
   "source": [
    "# Display both values with description\n",
    "print(\"The temperature in Kevin is\", temp_kev)\n",
    "print(\"The temperature in Farenheit is\", temp_fahr)"
   ]
  },
  {
   "cell_type": "markdown",
   "metadata": {},
   "source": [
    "# Part 5: Monthly Sales\n",
    "1. Declare a List named **monthly_sales** and fill it with the following values:  \n",
    "3,000  \n",
    "10,000  \n",
    "15,000  \n",
    "20,000  \n",
    "20,000  \n",
    "25,000  \n",
    "22,000  \n",
    "80,000  \n",
    "20,000  \n",
    "20,000  \n",
    "40,000  \n",
    "60,000  \n",
    "\n",
    "2. Display the filled List  \n",
    "3. Sum the values in the List and assign the value to a variable named *annual_sales*. \n",
    "4. Calculate the average and display it \n",
    "\n",
    "\n",
    "- **Notes**:  \n",
    "  - I included commas above to make the values more readable, but don't include them in your List values in your code. \n",
    "  - For each of the three steps above:\n",
    "    - Create a Markdown cell with the step description in it  \n",
    "    - Create a Code cell directly below it which accomplishes that step "
   ]
  },
  {
   "cell_type": "code",
   "execution_count": 1,
   "metadata": {},
   "outputs": [
    {
     "name": "stdout",
     "output_type": "stream",
     "text": [
      "[3000, 10000, 15000, 20000, 20000, 25000, 22000, 80000, 20000, 20000, 40000, 60000]\n"
     ]
    }
   ],
   "source": [
    "# 1. Create a List named monthly_sales\n",
    "\n",
    "monthly_sales = [3000, 10000, 15000, 20000, 20000, 25000, 22000, 80000, 20000, 20000, 40000, 60000]\n",
    "\n",
    "# 2. Display the filled List\n",
    "print(monthly_sales)"
   ]
  },
  {
   "cell_type": "code",
   "execution_count": 10,
   "metadata": {},
   "outputs": [
    {
     "name": "stdout",
     "output_type": "stream",
     "text": [
      "The annual sales is: $335000\n"
     ]
    }
   ],
   "source": [
    "# 3. Sum the values in the List and assign the value to a variable named *annual_sales*. \n",
    "\n",
    "# Intialize annual_sales variable\n",
    "annual_sales = 0\n",
    "\n",
    "# Loop through list to sum to annual sales\n",
    "\n",
    "for monthly_sale in monthly_sales:\n",
    "    annual_sales = annual_sales + monthly_sale\n",
    "        \n",
    "# Print the result\n",
    "print(\"The annual sales is: $\" + str(annual_sales))"
   ]
  },
  {
   "cell_type": "code",
   "execution_count": 11,
   "metadata": {},
   "outputs": [
    {
     "name": "stdout",
     "output_type": "stream",
     "text": [
      "The average sales is: $27916.666666666668\n"
     ]
    }
   ],
   "source": [
    "# 4. Calculate the average and display it  \n",
    "average_sale = annual_sales/12\n",
    "print(\"The average sales is: $\" + str(average_sale))"
   ]
  }
 ],
 "metadata": {
  "kernelspec": {
   "display_name": "Python 3",
   "language": "python",
   "name": "python3"
  },
  "language_info": {
   "codemirror_mode": {
    "name": "ipython",
    "version": 3
   },
   "file_extension": ".py",
   "mimetype": "text/x-python",
   "name": "python",
   "nbconvert_exporter": "python",
   "pygments_lexer": "ipython3",
   "version": "3.7.1"
  }
 },
 "nbformat": 4,
 "nbformat_minor": 4
}
