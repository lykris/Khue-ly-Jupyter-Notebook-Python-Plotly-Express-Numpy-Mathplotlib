{
 "cells": [
  {
   "cell_type": "markdown",
   "metadata": {},
   "source": [
    "# Ex 2.2 *read_excel()*    \n",
    "\n",
    "- [**In Class**: Shoes - Small Data worksheet](#In-Class:-Shoes:-Small-Data-worksheet)  \n",
    "\n",
    "\n",
    "- [**Exercise**](#Exercise) \n",
    "  - [Part 1: Shoes  - Large Data worksheet](#Part-1:-Shoes---Large-Data-worksheet)    \n",
    "  - [Part 2: w3schools - Orders worksheet](#Part-2:-w3schools---Orders-worksheet)    \n",
    "  - [Part 3: w3schools - OrderDetails worksheet](#Part-3:-w3schools---OrderDetails-worksheet) \n",
    "  - [Part 4: w3schools - Employees worksheet](#Part-4:-w3schools---Employees-worksheet) \n",
    " "
   ]
  },
  {
   "cell_type": "code",
   "execution_count": 1,
   "metadata": {},
   "outputs": [],
   "source": [
    "import pandas as pd"
   ]
  },
  {
   "cell_type": "markdown",
   "metadata": {},
   "source": [
    "# In Class: Shoes: *Small Data* worksheet   \n",
    "\n",
    "- Data file type:  *Excel file*\n",
    "- Data file:  **Shoes_SmallDataset.xlsx**    \n",
    "- Worksheet name: **Small Data**\n",
    "- Name the dataframe:  **df_shoe_store**  \n",
    "\n",
    "\n",
    "- Display the top rows of the dataframe  \n",
    "- Display the number of rows and columns of data in the dataframe\n",
    "- Show the data types of the columns in the dataframe "
   ]
  },
  {
   "cell_type": "markdown",
   "metadata": {},
   "source": [
    "### 1. Read the Excel Worksheet data into a pandas dataframe"
   ]
  },
  {
   "cell_type": "code",
   "execution_count": 2,
   "metadata": {},
   "outputs": [],
   "source": [
    "#Name and read the dataframe\n",
    "df_shoe_store = pd.read_excel(\"Data/Shoes_SmallDataset.xlsx\", \"Small Data\")"
   ]
  },
  {
   "cell_type": "markdown",
   "metadata": {},
   "source": [
    "### 2. Display info about the new pandas dataframe"
   ]
  },
  {
   "cell_type": "code",
   "execution_count": 3,
   "metadata": {},
   "outputs": [
    {
     "data": {
      "text/html": [
       "<div>\n",
       "<style scoped>\n",
       "    .dataframe tbody tr th:only-of-type {\n",
       "        vertical-align: middle;\n",
       "    }\n",
       "\n",
       "    .dataframe tbody tr th {\n",
       "        vertical-align: top;\n",
       "    }\n",
       "\n",
       "    .dataframe thead th {\n",
       "        text-align: right;\n",
       "    }\n",
       "</style>\n",
       "<table border=\"1\" class=\"dataframe\">\n",
       "  <thead>\n",
       "    <tr style=\"text-align: right;\">\n",
       "      <th></th>\n",
       "      <th>OrderID</th>\n",
       "      <th>Order Date</th>\n",
       "      <th>Product</th>\n",
       "      <th>Size (US)</th>\n",
       "      <th>Colour</th>\n",
       "      <th>Price ($)</th>\n",
       "    </tr>\n",
       "  </thead>\n",
       "  <tbody>\n",
       "    <tr>\n",
       "      <th>0</th>\n",
       "      <td>10</td>\n",
       "      <td>2015-01-04</td>\n",
       "      <td>Boots</td>\n",
       "      <td>12</td>\n",
       "      <td>Black</td>\n",
       "      <td>25</td>\n",
       "    </tr>\n",
       "    <tr>\n",
       "      <th>1</th>\n",
       "      <td>7</td>\n",
       "      <td>2015-01-03</td>\n",
       "      <td>Boots</td>\n",
       "      <td>10</td>\n",
       "      <td>Black</td>\n",
       "      <td>25</td>\n",
       "    </tr>\n",
       "    <tr>\n",
       "      <th>2</th>\n",
       "      <td>8</td>\n",
       "      <td>2015-01-03</td>\n",
       "      <td>Boots</td>\n",
       "      <td>9</td>\n",
       "      <td>Black</td>\n",
       "      <td>25</td>\n",
       "    </tr>\n",
       "    <tr>\n",
       "      <th>3</th>\n",
       "      <td>11</td>\n",
       "      <td>2015-01-05</td>\n",
       "      <td>Boots</td>\n",
       "      <td>7</td>\n",
       "      <td>Black</td>\n",
       "      <td>25</td>\n",
       "    </tr>\n",
       "    <tr>\n",
       "      <th>4</th>\n",
       "      <td>2</td>\n",
       "      <td>2015-01-02</td>\n",
       "      <td>Boots</td>\n",
       "      <td>4</td>\n",
       "      <td>Black</td>\n",
       "      <td>25</td>\n",
       "    </tr>\n",
       "  </tbody>\n",
       "</table>\n",
       "</div>"
      ],
      "text/plain": [
       "   OrderID Order Date Product  Size (US) Colour  Price ($)\n",
       "0       10 2015-01-04   Boots         12  Black         25\n",
       "1        7 2015-01-03   Boots         10  Black         25\n",
       "2        8 2015-01-03   Boots          9  Black         25\n",
       "3       11 2015-01-05   Boots          7  Black         25\n",
       "4        2 2015-01-02   Boots          4  Black         25"
      ]
     },
     "execution_count": 3,
     "metadata": {},
     "output_type": "execute_result"
    }
   ],
   "source": [
    "#Display the top rows of the dataframe\n",
    "df_shoe_store.head()"
   ]
  },
  {
   "cell_type": "code",
   "execution_count": 4,
   "metadata": {},
   "outputs": [
    {
     "name": "stdout",
     "output_type": "stream",
     "text": [
      "The Number of Rows:  12\n",
      "The Number of Columns:  6\n"
     ]
    }
   ],
   "source": [
    "#Display the number of rows and columns in the dataframe\n",
    "print(\"The Number of Rows: \" , df_shoe_store.shape[0])\n",
    "print(\"The Number of Columns: \", df_shoe_store.shape[1])"
   ]
  },
  {
   "cell_type": "code",
   "execution_count": 5,
   "metadata": {},
   "outputs": [
    {
     "data": {
      "text/plain": [
       "OrderID                int64\n",
       "Order Date    datetime64[ns]\n",
       "Product               object\n",
       "Size (US)              int64\n",
       "Colour                object\n",
       "Price ($)              int64\n",
       "dtype: object"
      ]
     },
     "execution_count": 5,
     "metadata": {},
     "output_type": "execute_result"
    }
   ],
   "source": [
    "#Show the datatypes of the columns in the dataframe\n",
    "df_shoe_store.dtypes"
   ]
  },
  {
   "cell_type": "markdown",
   "metadata": {},
   "source": [
    "# Exercise"
   ]
  },
  {
   "cell_type": "markdown",
   "metadata": {},
   "source": [
    "# Part 1: Shoes - *Large Data* worksheet \n",
    "- Data file type:  *Excel file*\n",
    "- Data file:  **Shoes_SmallDataset.xlsx**    \n",
    "- Worksheet name: **Large Data**\n",
    "- Name the dataframe:  **df_shoes_large**  \n",
    "\n",
    "\n",
    "- Display the top rows of the dataframe  \n",
    "- Display the number of rows and columns of data in the dataframe\n",
    "- Show the data types of the columns in the dataframe "
   ]
  },
  {
   "cell_type": "code",
   "execution_count": 6,
   "metadata": {},
   "outputs": [
    {
     "data": {
      "text/html": [
       "<div>\n",
       "<style scoped>\n",
       "    .dataframe tbody tr th:only-of-type {\n",
       "        vertical-align: middle;\n",
       "    }\n",
       "\n",
       "    .dataframe tbody tr th {\n",
       "        vertical-align: top;\n",
       "    }\n",
       "\n",
       "    .dataframe thead th {\n",
       "        text-align: right;\n",
       "    }\n",
       "</style>\n",
       "<table border=\"1\" class=\"dataframe\">\n",
       "  <thead>\n",
       "    <tr style=\"text-align: right;\">\n",
       "      <th></th>\n",
       "      <th>OrderID</th>\n",
       "      <th>Order Date</th>\n",
       "      <th>Product</th>\n",
       "      <th>Size (US)</th>\n",
       "      <th>Colour</th>\n",
       "      <th>Price ($)</th>\n",
       "      <th>Store</th>\n",
       "      <th>Returned</th>\n",
       "      <th>Gender</th>\n",
       "    </tr>\n",
       "  </thead>\n",
       "  <tbody>\n",
       "    <tr>\n",
       "      <th>0</th>\n",
       "      <td>1</td>\n",
       "      <td>2015-01-02</td>\n",
       "      <td>Boots</td>\n",
       "      <td>7</td>\n",
       "      <td>Gold</td>\n",
       "      <td>25</td>\n",
       "      <td>California</td>\n",
       "      <td>Yes</td>\n",
       "      <td>Female</td>\n",
       "    </tr>\n",
       "    <tr>\n",
       "      <th>1</th>\n",
       "      <td>2</td>\n",
       "      <td>2015-01-02</td>\n",
       "      <td>Boots</td>\n",
       "      <td>4</td>\n",
       "      <td>Black</td>\n",
       "      <td>25</td>\n",
       "      <td>New York</td>\n",
       "      <td>NaN</td>\n",
       "      <td>Female</td>\n",
       "    </tr>\n",
       "    <tr>\n",
       "      <th>2</th>\n",
       "      <td>3</td>\n",
       "      <td>2015-01-02</td>\n",
       "      <td>Boots</td>\n",
       "      <td>6</td>\n",
       "      <td>Red</td>\n",
       "      <td>25</td>\n",
       "      <td>Georgia</td>\n",
       "      <td>NaN</td>\n",
       "      <td>Female</td>\n",
       "    </tr>\n",
       "    <tr>\n",
       "      <th>3</th>\n",
       "      <td>4</td>\n",
       "      <td>2015-01-03</td>\n",
       "      <td>House Slippers</td>\n",
       "      <td>11</td>\n",
       "      <td>Black</td>\n",
       "      <td>8</td>\n",
       "      <td>Internet</td>\n",
       "      <td>NaN</td>\n",
       "      <td>Female</td>\n",
       "    </tr>\n",
       "    <tr>\n",
       "      <th>4</th>\n",
       "      <td>5</td>\n",
       "      <td>2015-01-03</td>\n",
       "      <td>Boots</td>\n",
       "      <td>6</td>\n",
       "      <td>Silver</td>\n",
       "      <td>25</td>\n",
       "      <td>California</td>\n",
       "      <td>NaN</td>\n",
       "      <td>Female</td>\n",
       "    </tr>\n",
       "  </tbody>\n",
       "</table>\n",
       "</div>"
      ],
      "text/plain": [
       "   OrderID Order Date         Product  Size (US)  Colour  Price ($)  \\\n",
       "0        1 2015-01-02           Boots          7    Gold         25   \n",
       "1        2 2015-01-02           Boots          4   Black         25   \n",
       "2        3 2015-01-02           Boots          6     Red         25   \n",
       "3        4 2015-01-03  House Slippers         11   Black          8   \n",
       "4        5 2015-01-03           Boots          6  Silver         25   \n",
       "\n",
       "        Store Returned  Gender  \n",
       "0  California      Yes  Female  \n",
       "1    New York      NaN  Female  \n",
       "2     Georgia      NaN  Female  \n",
       "3    Internet      NaN  Female  \n",
       "4  California      NaN  Female  "
      ]
     },
     "execution_count": 6,
     "metadata": {},
     "output_type": "execute_result"
    }
   ],
   "source": [
    "#Read the Excel file into a dataframd and display the top rows of the dataframe\n",
    "\n",
    "df_shoes_large = pd.read_excel(\"Data/Shoes_SmallDataSet.xlsx\", \"Large Data\")\n",
    "\n",
    "df_shoes_large.head()"
   ]
  },
  {
   "cell_type": "code",
   "execution_count": 7,
   "metadata": {},
   "outputs": [
    {
     "name": "stdout",
     "output_type": "stream",
     "text": [
      "The Number of Rows:  1000\n",
      "The Number of Columns:  9\n"
     ]
    }
   ],
   "source": [
    "#Dislay the number of rows and columns in the dataframe\n",
    "print(\"The Number of Rows: \" , df_shoes_large.shape[0])\n",
    "print(\"The Number of Columns: \", df_shoes_large.shape[1])p"
   ]
  },
  {
   "cell_type": "code",
   "execution_count": 8,
   "metadata": {},
   "outputs": [
    {
     "data": {
      "text/plain": [
       "OrderID                int64\n",
       "Order Date    datetime64[ns]\n",
       "Product               object\n",
       "Size (US)              int64\n",
       "Colour                object\n",
       "Price ($)              int64\n",
       "Store                 object\n",
       "Returned              object\n",
       "Gender                object\n",
       "dtype: object"
      ]
     },
     "execution_count": 8,
     "metadata": {},
     "output_type": "execute_result"
    }
   ],
   "source": [
    "#Show the datatypes of the columns in the dataframe\n",
    "df_shoes_large.dtypes"
   ]
  },
  {
   "cell_type": "markdown",
   "metadata": {},
   "source": [
    "# Part 2: w3schools - Orders worksheet\n",
    "- Excel Filename:  **w3schools_Data.xlsx** \n",
    "- Worksheet: **Orders**  \n",
    "- pandas Dataframe name: **df_w3_orders** \n",
    "\n",
    "\n",
    "- Display the first five rows of the dataframe  \n",
    "- Display the number of rows and columns of data in the dataframe\n",
    "- Show the data types of the columns in the dataframe"
   ]
  },
  {
   "cell_type": "code",
   "execution_count": 9,
   "metadata": {},
   "outputs": [
    {
     "data": {
      "text/html": [
       "<div>\n",
       "<style scoped>\n",
       "    .dataframe tbody tr th:only-of-type {\n",
       "        vertical-align: middle;\n",
       "    }\n",
       "\n",
       "    .dataframe tbody tr th {\n",
       "        vertical-align: top;\n",
       "    }\n",
       "\n",
       "    .dataframe thead th {\n",
       "        text-align: right;\n",
       "    }\n",
       "</style>\n",
       "<table border=\"1\" class=\"dataframe\">\n",
       "  <thead>\n",
       "    <tr style=\"text-align: right;\">\n",
       "      <th></th>\n",
       "      <th>OrderID</th>\n",
       "      <th>CustomerID</th>\n",
       "      <th>EmployeeID</th>\n",
       "      <th>OrderDate</th>\n",
       "      <th>ShipperID</th>\n",
       "    </tr>\n",
       "  </thead>\n",
       "  <tbody>\n",
       "    <tr>\n",
       "      <th>0</th>\n",
       "      <td>10248</td>\n",
       "      <td>90</td>\n",
       "      <td>5</td>\n",
       "      <td>35250</td>\n",
       "      <td>3</td>\n",
       "    </tr>\n",
       "    <tr>\n",
       "      <th>1</th>\n",
       "      <td>10249</td>\n",
       "      <td>81</td>\n",
       "      <td>6</td>\n",
       "      <td>35251</td>\n",
       "      <td>1</td>\n",
       "    </tr>\n",
       "    <tr>\n",
       "      <th>2</th>\n",
       "      <td>10250</td>\n",
       "      <td>34</td>\n",
       "      <td>4</td>\n",
       "      <td>35254</td>\n",
       "      <td>2</td>\n",
       "    </tr>\n",
       "    <tr>\n",
       "      <th>3</th>\n",
       "      <td>10251</td>\n",
       "      <td>84</td>\n",
       "      <td>3</td>\n",
       "      <td>35254</td>\n",
       "      <td>1</td>\n",
       "    </tr>\n",
       "    <tr>\n",
       "      <th>4</th>\n",
       "      <td>10252</td>\n",
       "      <td>76</td>\n",
       "      <td>4</td>\n",
       "      <td>35255</td>\n",
       "      <td>2</td>\n",
       "    </tr>\n",
       "  </tbody>\n",
       "</table>\n",
       "</div>"
      ],
      "text/plain": [
       "   OrderID  CustomerID  EmployeeID  OrderDate  ShipperID\n",
       "0    10248          90           5      35250          3\n",
       "1    10249          81           6      35251          1\n",
       "2    10250          34           4      35254          2\n",
       "3    10251          84           3      35254          1\n",
       "4    10252          76           4      35255          2"
      ]
     },
     "execution_count": 9,
     "metadata": {},
     "output_type": "execute_result"
    }
   ],
   "source": [
    "#Read the Excel file into a dataframd and display the top rows of the dataframe\n",
    "\n",
    "df_w3_orders = pd.read_excel(\"Data/w3schools_Data.xlsx\", \"Orders\")\n",
    "\n",
    "df_w3_orders.head()"
   ]
  },
  {
   "cell_type": "code",
   "execution_count": 11,
   "metadata": {},
   "outputs": [
    {
     "name": "stdout",
     "output_type": "stream",
     "text": [
      "The Number of Rows:  196\n",
      "The Number of Columns:  5\n"
     ]
    }
   ],
   "source": [
    "#Dislay the number of rows and columns in the dataframe\n",
    "print(\"The Number of Rows: \", df_w3_orders.shape[0])\n",
    "print(\"The Number of Columns: \", df_w3_orders.shape[1])"
   ]
  },
  {
   "cell_type": "code",
   "execution_count": 12,
   "metadata": {},
   "outputs": [
    {
     "data": {
      "text/plain": [
       "OrderID       int64\n",
       "CustomerID    int64\n",
       "EmployeeID    int64\n",
       "OrderDate     int64\n",
       "ShipperID     int64\n",
       "dtype: object"
      ]
     },
     "execution_count": 12,
     "metadata": {},
     "output_type": "execute_result"
    }
   ],
   "source": [
    "#Show the datatypes of the columns in the dataframe\n",
    "df_w3_orders.dtypes"
   ]
  },
  {
   "cell_type": "markdown",
   "metadata": {},
   "source": [
    "# Part 3: w3schools - OrderDetails worksheet\n",
    "- Excel Filename:  **w3schools_Data.xlsx** \n",
    "- Worksheet: **OrderDetails**  \n",
    "- pandas Dataframe name: **df_order_details** \n",
    "\n",
    "\n",
    "- Display the top rows of the dataframe   \n",
    "- Display the number of rows and columns in the dataframe\n",
    "- Show the data types of the columns in the dataframe "
   ]
  },
  {
   "cell_type": "code",
   "execution_count": 13,
   "metadata": {},
   "outputs": [
    {
     "data": {
      "text/html": [
       "<div>\n",
       "<style scoped>\n",
       "    .dataframe tbody tr th:only-of-type {\n",
       "        vertical-align: middle;\n",
       "    }\n",
       "\n",
       "    .dataframe tbody tr th {\n",
       "        vertical-align: top;\n",
       "    }\n",
       "\n",
       "    .dataframe thead th {\n",
       "        text-align: right;\n",
       "    }\n",
       "</style>\n",
       "<table border=\"1\" class=\"dataframe\">\n",
       "  <thead>\n",
       "    <tr style=\"text-align: right;\">\n",
       "      <th></th>\n",
       "      <th>OrderDetailID</th>\n",
       "      <th>OrderID</th>\n",
       "      <th>ProductID</th>\n",
       "      <th>Quantity</th>\n",
       "    </tr>\n",
       "  </thead>\n",
       "  <tbody>\n",
       "    <tr>\n",
       "      <th>0</th>\n",
       "      <td>1</td>\n",
       "      <td>10248</td>\n",
       "      <td>11</td>\n",
       "      <td>12</td>\n",
       "    </tr>\n",
       "    <tr>\n",
       "      <th>1</th>\n",
       "      <td>2</td>\n",
       "      <td>10248</td>\n",
       "      <td>42</td>\n",
       "      <td>10</td>\n",
       "    </tr>\n",
       "    <tr>\n",
       "      <th>2</th>\n",
       "      <td>3</td>\n",
       "      <td>10248</td>\n",
       "      <td>72</td>\n",
       "      <td>5</td>\n",
       "    </tr>\n",
       "    <tr>\n",
       "      <th>3</th>\n",
       "      <td>4</td>\n",
       "      <td>10249</td>\n",
       "      <td>14</td>\n",
       "      <td>9</td>\n",
       "    </tr>\n",
       "    <tr>\n",
       "      <th>4</th>\n",
       "      <td>5</td>\n",
       "      <td>10249</td>\n",
       "      <td>51</td>\n",
       "      <td>40</td>\n",
       "    </tr>\n",
       "  </tbody>\n",
       "</table>\n",
       "</div>"
      ],
      "text/plain": [
       "   OrderDetailID  OrderID  ProductID  Quantity\n",
       "0              1    10248         11        12\n",
       "1              2    10248         42        10\n",
       "2              3    10248         72         5\n",
       "3              4    10249         14         9\n",
       "4              5    10249         51        40"
      ]
     },
     "execution_count": 13,
     "metadata": {},
     "output_type": "execute_result"
    }
   ],
   "source": [
    "#Read the Excel file into a dataframd and display the top rows of the dataframe\n",
    "\n",
    "df_order_details = pd.read_excel(\"Data/w3schools_Data.xlsx\", \"OrderDetails\")\n",
    "\n",
    "df_order_details.head()"
   ]
  },
  {
   "cell_type": "code",
   "execution_count": 14,
   "metadata": {},
   "outputs": [
    {
     "name": "stdout",
     "output_type": "stream",
     "text": [
      "The Number of Rows:  518\n",
      "The Number of Columns:  4\n"
     ]
    }
   ],
   "source": [
    "#Dislay the number of rows and columns in the dataframe\n",
    "print(\"The Number of Rows: \", df_order_details.shape[0])\n",
    "print(\"The Number of Columns: \", df_order_details.shape[1])"
   ]
  },
  {
   "cell_type": "code",
   "execution_count": 15,
   "metadata": {},
   "outputs": [
    {
     "data": {
      "text/plain": [
       "OrderDetailID    int64\n",
       "OrderID          int64\n",
       "ProductID        int64\n",
       "Quantity         int64\n",
       "dtype: object"
      ]
     },
     "execution_count": 15,
     "metadata": {},
     "output_type": "execute_result"
    }
   ],
   "source": [
    "#Show the datatypes of the columns in the dataframe\n",
    "df_order_details.dtypes"
   ]
  },
  {
   "cell_type": "markdown",
   "metadata": {},
   "source": [
    "# Part 4: w3schools - Employees worksheet\n",
    "- Excel Filename:  **w3schools_Data.xlsx** \n",
    "- Worksheet: **Employees**  \n",
    "- pandas Dataframe name: **df_w3_employees** \n",
    "\n",
    "\n",
    "- Display the top rows of the dataframe   \n",
    "- Display the number of rows and columns in the dataframe\n",
    "- Show the data types of the columns in the dataframe "
   ]
  },
  {
   "cell_type": "code",
   "execution_count": 17,
   "metadata": {},
   "outputs": [
    {
     "data": {
      "text/html": [
       "<div>\n",
       "<style scoped>\n",
       "    .dataframe tbody tr th:only-of-type {\n",
       "        vertical-align: middle;\n",
       "    }\n",
       "\n",
       "    .dataframe tbody tr th {\n",
       "        vertical-align: top;\n",
       "    }\n",
       "\n",
       "    .dataframe thead th {\n",
       "        text-align: right;\n",
       "    }\n",
       "</style>\n",
       "<table border=\"1\" class=\"dataframe\">\n",
       "  <thead>\n",
       "    <tr style=\"text-align: right;\">\n",
       "      <th></th>\n",
       "      <th>EmployeeID</th>\n",
       "      <th>LastName</th>\n",
       "      <th>FirstName</th>\n",
       "      <th>BirthDate</th>\n",
       "      <th>Photo</th>\n",
       "      <th>Notes</th>\n",
       "    </tr>\n",
       "  </thead>\n",
       "  <tbody>\n",
       "    <tr>\n",
       "      <th>0</th>\n",
       "      <td>1</td>\n",
       "      <td>Davolio</td>\n",
       "      <td>Nancy</td>\n",
       "      <td>25180</td>\n",
       "      <td>EmpID1.pic</td>\n",
       "      <td>Education includes a BA in psychology from Col...</td>\n",
       "    </tr>\n",
       "    <tr>\n",
       "      <th>1</th>\n",
       "      <td>2</td>\n",
       "      <td>Fuller</td>\n",
       "      <td>Andrew</td>\n",
       "      <td>19043</td>\n",
       "      <td>EmpID2.pic</td>\n",
       "      <td>Andrew received his BTS commercial and a Ph.D....</td>\n",
       "    </tr>\n",
       "    <tr>\n",
       "      <th>2</th>\n",
       "      <td>3</td>\n",
       "      <td>Leverling</td>\n",
       "      <td>Janet</td>\n",
       "      <td>23253</td>\n",
       "      <td>EmpID3.pic</td>\n",
       "      <td>Janet has a BS degree in chemistry from Boston...</td>\n",
       "    </tr>\n",
       "    <tr>\n",
       "      <th>3</th>\n",
       "      <td>4</td>\n",
       "      <td>Peacock</td>\n",
       "      <td>Margaret</td>\n",
       "      <td>21447</td>\n",
       "      <td>EmpID4.pic</td>\n",
       "      <td>Margaret holds a BA in English literature from...</td>\n",
       "    </tr>\n",
       "    <tr>\n",
       "      <th>4</th>\n",
       "      <td>5</td>\n",
       "      <td>Buchanan</td>\n",
       "      <td>Steven</td>\n",
       "      <td>20152</td>\n",
       "      <td>EmpID5.pic</td>\n",
       "      <td>Steven Buchanan graduated from St. Andrews Uni...</td>\n",
       "    </tr>\n",
       "  </tbody>\n",
       "</table>\n",
       "</div>"
      ],
      "text/plain": [
       "   EmployeeID   LastName FirstName  BirthDate       Photo  \\\n",
       "0           1    Davolio     Nancy      25180  EmpID1.pic   \n",
       "1           2     Fuller    Andrew      19043  EmpID2.pic   \n",
       "2           3  Leverling     Janet      23253  EmpID3.pic   \n",
       "3           4    Peacock  Margaret      21447  EmpID4.pic   \n",
       "4           5   Buchanan    Steven      20152  EmpID5.pic   \n",
       "\n",
       "                                               Notes  \n",
       "0  Education includes a BA in psychology from Col...  \n",
       "1  Andrew received his BTS commercial and a Ph.D....  \n",
       "2  Janet has a BS degree in chemistry from Boston...  \n",
       "3  Margaret holds a BA in English literature from...  \n",
       "4  Steven Buchanan graduated from St. Andrews Uni...  "
      ]
     },
     "execution_count": 17,
     "metadata": {},
     "output_type": "execute_result"
    }
   ],
   "source": [
    "#Read the Excel file into a dataframd and display the top rows of the dataframe\n",
    "\n",
    "df_w3_employees = pd.read_excel(\"Data/w3schools_Data.xlsx\", \"Employees\", skiprows=2)\n",
    "\n",
    "df_w3_employees.head()"
   ]
  },
  {
   "cell_type": "code",
   "execution_count": 18,
   "metadata": {},
   "outputs": [
    {
     "name": "stdout",
     "output_type": "stream",
     "text": [
      "The Number of Rows:  10\n",
      "The Number of Columns:  6\n"
     ]
    }
   ],
   "source": [
    "#Dislay the number of rows and columns in the dataframe\n",
    "print(\"The Number of Rows: \", df_w3_employees.shape[0])\n",
    "print(\"The Number of Columns: \", df_w3_employees.shape[1])"
   ]
  },
  {
   "cell_type": "code",
   "execution_count": 20,
   "metadata": {},
   "outputs": [
    {
     "data": {
      "text/plain": [
       "EmployeeID     int64\n",
       "LastName      object\n",
       "FirstName     object\n",
       "BirthDate      int64\n",
       "Photo         object\n",
       "Notes         object\n",
       "dtype: object"
      ]
     },
     "execution_count": 20,
     "metadata": {},
     "output_type": "execute_result"
    }
   ],
   "source": [
    "#Show the datatypes of the columns in the dataframe\n",
    "df_w3_employees.dtypes"
   ]
  },
  {
   "cell_type": "code",
   "execution_count": null,
   "metadata": {},
   "outputs": [],
   "source": []
  }
 ],
 "metadata": {
  "kernelspec": {
   "display_name": "Python 3",
   "language": "python",
   "name": "python3"
  },
  "language_info": {
   "codemirror_mode": {
    "name": "ipython",
    "version": 3
   },
   "file_extension": ".py",
   "mimetype": "text/x-python",
   "name": "python",
   "nbconvert_exporter": "python",
   "pygments_lexer": "ipython3",
   "version": "3.7.1"
  }
 },
 "nbformat": 4,
 "nbformat_minor": 4
}
