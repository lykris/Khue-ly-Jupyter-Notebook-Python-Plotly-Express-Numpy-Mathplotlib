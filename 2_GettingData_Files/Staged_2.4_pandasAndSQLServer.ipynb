{
 "cells": [
  {
   "cell_type": "markdown",
   "metadata": {},
   "source": [
    "# 2.4 pandas and SQL Server  \n",
    "\n",
    "- [Basics of Retrieving Data From SQL Server](#Basics-of-Retrieving-Data-From-SQL-Server)  \n",
    "  a. Build connection object  \n",
    "  b. Build the SQL String  \n",
    "  c. Execute the SQL query and fill Dataframe with retrieved data  \n",
    "  \n",
    "  \n",
    "- [Displaying All the Tables in a SQL Server Database](#Displaying-all-the-Tables-in-a-SQL-Server-Database)  \n",
    "\n",
    "- [Displaying all the Views in a SQL Server Database](#Displaying-all-the-Views-in-a-SQL-Server-Database)  \n"
   ]
  },
  {
   "cell_type": "markdown",
   "metadata": {},
   "source": [
    "### Install Required:   *pip install pyodbc* "
   ]
  },
  {
   "cell_type": "code",
   "execution_count": 1,
   "metadata": {},
   "outputs": [],
   "source": [
    "import pandas as pd\n",
    "import pyodbc"
   ]
  },
  {
   "cell_type": "markdown",
   "metadata": {},
   "source": [
    "### Credentials for Connecting to the demo SQL Server Database  \n",
    "In a recent DataCamp article, I ran across a Public SQL Server we could use for this Notebook: \"SQL with Tableau\" (https://www.datacamp.com/community/tutorials/sql-tableau)\n",
    "\n",
    "Credentials to the public SQL Server Database running on AWS:  \n",
    "- Server Name:  **ec2-52-14-205-70.us-east-2.compute.amazonaws.com**  \n",
    "- Database Name:  **SuperStoreUS**\n",
    "- User Name:  **SQL**  \n",
    "- Password:  **SQL**\n"
   ]
  },
  {
   "cell_type": "markdown",
   "metadata": {},
   "source": [
    "# Basics of Retrieving Data From SQL Server  \n",
    "a. Build connection object  \n",
    "  b. Build the SQL String  \n",
    "  c. Execute the SQL query and fill Dataframe with retrieved data"
   ]
  },
  {
   "cell_type": "markdown",
   "metadata": {},
   "source": [
    "### a. Build Connection Object"
   ]
  },
  {
   "cell_type": "code",
   "execution_count": 2,
   "metadata": {},
   "outputs": [],
   "source": [
    "# Set connection values to variables\n",
    "driver = \"DRIVER={SQL Server Native Client 11.0};\" \n",
    "server = \"Server= ec2-52-14-205-70.us-east-2.compute.amazonaws.com;\" \n",
    "database = \"Database=SuperStoreUS;\" \n",
    "userid =   \"uid=SQL;\" \n",
    "password = \"pwd=SQL;\"\n",
    "      \n",
    "# Build connection string   \n",
    "conn_string = driver + server + database + userid + password\n",
    "\n",
    "# Create Connection object\n",
    "conn = pyodbc.connect(conn_string)"
   ]
  },
  {
   "cell_type": "markdown",
   "metadata": {},
   "source": [
    "### b. Build the SQL String"
   ]
  },
  {
   "cell_type": "code",
   "execution_count": 3,
   "metadata": {},
   "outputs": [],
   "source": [
    "# Build the test demo SQL string:  retrieve all the records from the Orders table\n",
    "sql_string = 'SELECT * FROM Orders'"
   ]
  },
  {
   "cell_type": "markdown",
   "metadata": {},
   "source": [
    "###  c. Execute the SQL query and fill a Dataframe with retrieved data"
   ]
  },
  {
   "cell_type": "code",
   "execution_count": 4,
   "metadata": {},
   "outputs": [
    {
     "data": {
      "text/html": [
       "<div>\n",
       "<style scoped>\n",
       "    .dataframe tbody tr th:only-of-type {\n",
       "        vertical-align: middle;\n",
       "    }\n",
       "\n",
       "    .dataframe tbody tr th {\n",
       "        vertical-align: top;\n",
       "    }\n",
       "\n",
       "    .dataframe thead th {\n",
       "        text-align: right;\n",
       "    }\n",
       "</style>\n",
       "<table border=\"1\" class=\"dataframe\">\n",
       "  <thead>\n",
       "    <tr style=\"text-align: right;\">\n",
       "      <th></th>\n",
       "      <th>Row ID</th>\n",
       "      <th>Order ID</th>\n",
       "      <th>Order Date</th>\n",
       "      <th>Ship Date</th>\n",
       "      <th>Ship Mode</th>\n",
       "      <th>Customer ID</th>\n",
       "      <th>Customer Name</th>\n",
       "      <th>Segment</th>\n",
       "      <th>Country</th>\n",
       "      <th>City</th>\n",
       "      <th>...</th>\n",
       "      <th>Postal Code</th>\n",
       "      <th>Region</th>\n",
       "      <th>Product ID</th>\n",
       "      <th>Category</th>\n",
       "      <th>Sub-Category</th>\n",
       "      <th>Product Name</th>\n",
       "      <th>Sales</th>\n",
       "      <th>Quantity</th>\n",
       "      <th>Discount</th>\n",
       "      <th>Profit</th>\n",
       "    </tr>\n",
       "  </thead>\n",
       "  <tbody>\n",
       "    <tr>\n",
       "      <th>0</th>\n",
       "      <td>1160.0</td>\n",
       "      <td>CA-2018-147039</td>\n",
       "      <td>2018-06-29</td>\n",
       "      <td>2018-07-04</td>\n",
       "      <td>Standard Class</td>\n",
       "      <td>AA-10315</td>\n",
       "      <td>Alex Avila</td>\n",
       "      <td>Consumer</td>\n",
       "      <td>United States</td>\n",
       "      <td>Minneapolis</td>\n",
       "      <td>...</td>\n",
       "      <td>55407.0</td>\n",
       "      <td>Central</td>\n",
       "      <td>OFF-AP-10000576</td>\n",
       "      <td>Office Supplies</td>\n",
       "      <td>Appliances</td>\n",
       "      <td>Belkin 325VA UPS Surge Protector, 6'</td>\n",
       "      <td>362.94</td>\n",
       "      <td>3</td>\n",
       "      <td>0.0</td>\n",
       "      <td>90.74</td>\n",
       "    </tr>\n",
       "    <tr>\n",
       "      <th>1</th>\n",
       "      <td>1161.0</td>\n",
       "      <td>CA-2018-147039</td>\n",
       "      <td>2018-06-29</td>\n",
       "      <td>2018-07-04</td>\n",
       "      <td>Standard Class</td>\n",
       "      <td>AA-10315</td>\n",
       "      <td>Alex Avila</td>\n",
       "      <td>Consumer</td>\n",
       "      <td>United States</td>\n",
       "      <td>Minneapolis</td>\n",
       "      <td>...</td>\n",
       "      <td>55407.0</td>\n",
       "      <td>Central</td>\n",
       "      <td>OFF-BI-10004654</td>\n",
       "      <td>Office Supplies</td>\n",
       "      <td>Binders</td>\n",
       "      <td>Avery Binding System Hidden Tab Executive Styl...</td>\n",
       "      <td>11.54</td>\n",
       "      <td>2</td>\n",
       "      <td>0.0</td>\n",
       "      <td>5.77</td>\n",
       "    </tr>\n",
       "  </tbody>\n",
       "</table>\n",
       "<p>2 rows × 21 columns</p>\n",
       "</div>"
      ],
      "text/plain": [
       "   Row ID        Order ID Order Date  Ship Date       Ship Mode Customer ID  \\\n",
       "0  1160.0  CA-2018-147039 2018-06-29 2018-07-04  Standard Class    AA-10315   \n",
       "1  1161.0  CA-2018-147039 2018-06-29 2018-07-04  Standard Class    AA-10315   \n",
       "\n",
       "  Customer Name   Segment        Country         City   ...   Postal Code  \\\n",
       "0    Alex Avila  Consumer  United States  Minneapolis   ...       55407.0   \n",
       "1    Alex Avila  Consumer  United States  Minneapolis   ...       55407.0   \n",
       "\n",
       "    Region       Product ID         Category Sub-Category  \\\n",
       "0  Central  OFF-AP-10000576  Office Supplies   Appliances   \n",
       "1  Central  OFF-BI-10004654  Office Supplies      Binders   \n",
       "\n",
       "                                        Product Name   Sales  Quantity  \\\n",
       "0               Belkin 325VA UPS Surge Protector, 6'  362.94         3   \n",
       "1  Avery Binding System Hidden Tab Executive Styl...   11.54         2   \n",
       "\n",
       "   Discount  Profit  \n",
       "0       0.0   90.74  \n",
       "1       0.0    5.77  \n",
       "\n",
       "[2 rows x 21 columns]"
      ]
     },
     "execution_count": 4,
     "metadata": {},
     "output_type": "execute_result"
    }
   ],
   "source": [
    "# Execute SQL query and retrieve data into a dataframe\n",
    "df = pd.read_sql_query(sql_string, conn)\n",
    "df.head(2)"
   ]
  },
  {
   "cell_type": "code",
   "execution_count": 5,
   "metadata": {},
   "outputs": [
    {
     "data": {
      "text/plain": [
       "Index(['Row ID', 'Order ID', 'Order Date', 'Ship Date', 'Ship Mode',\n",
       "       'Customer ID', 'Customer Name', 'Segment', 'Country', 'City', 'State',\n",
       "       'Postal Code', 'Region', 'Product ID', 'Category', 'Sub-Category',\n",
       "       'Product Name', 'Sales', 'Quantity', 'Discount', 'Profit'],\n",
       "      dtype='object')"
      ]
     },
     "execution_count": 5,
     "metadata": {},
     "output_type": "execute_result"
    }
   ],
   "source": [
    "df.columns"
   ]
  },
  {
   "cell_type": "markdown",
   "metadata": {},
   "source": [
    "# Displaying all the *Tables* in a SQL Server Database  \n",
    "- Note: Reuse the connection object you created above  "
   ]
  },
  {
   "cell_type": "code",
   "execution_count": 6,
   "metadata": {},
   "outputs": [
    {
     "data": {
      "text/html": [
       "<div>\n",
       "<style scoped>\n",
       "    .dataframe tbody tr th:only-of-type {\n",
       "        vertical-align: middle;\n",
       "    }\n",
       "\n",
       "    .dataframe tbody tr th {\n",
       "        vertical-align: top;\n",
       "    }\n",
       "\n",
       "    .dataframe thead th {\n",
       "        text-align: right;\n",
       "    }\n",
       "</style>\n",
       "<table border=\"1\" class=\"dataframe\">\n",
       "  <thead>\n",
       "    <tr style=\"text-align: right;\">\n",
       "      <th></th>\n",
       "      <th>TABLE_CATALOG</th>\n",
       "      <th>TABLE_SCHEMA</th>\n",
       "      <th>TABLE_NAME</th>\n",
       "      <th>TABLE_TYPE</th>\n",
       "    </tr>\n",
       "  </thead>\n",
       "  <tbody>\n",
       "    <tr>\n",
       "      <th>0</th>\n",
       "      <td>SuperstoreUS</td>\n",
       "      <td>dbo</td>\n",
       "      <td>Dictionary</td>\n",
       "      <td>BASE TABLE</td>\n",
       "    </tr>\n",
       "    <tr>\n",
       "      <th>1</th>\n",
       "      <td>SuperstoreUS</td>\n",
       "      <td>dbo</td>\n",
       "      <td>Orders with Dictionary</td>\n",
       "      <td>BASE TABLE</td>\n",
       "    </tr>\n",
       "    <tr>\n",
       "      <th>2</th>\n",
       "      <td>SuperstoreUS</td>\n",
       "      <td>dbo</td>\n",
       "      <td>Decimals</td>\n",
       "      <td>BASE TABLE</td>\n",
       "    </tr>\n",
       "    <tr>\n",
       "      <th>3</th>\n",
       "      <td>SuperstoreUS</td>\n",
       "      <td>dbo</td>\n",
       "      <td>Customers</td>\n",
       "      <td>BASE TABLE</td>\n",
       "    </tr>\n",
       "    <tr>\n",
       "      <th>4</th>\n",
       "      <td>SuperstoreUS</td>\n",
       "      <td>dbo</td>\n",
       "      <td>People</td>\n",
       "      <td>BASE TABLE</td>\n",
       "    </tr>\n",
       "    <tr>\n",
       "      <th>5</th>\n",
       "      <td>SuperstoreUS</td>\n",
       "      <td>dbo</td>\n",
       "      <td>PeopleMultiple</td>\n",
       "      <td>BASE TABLE</td>\n",
       "    </tr>\n",
       "    <tr>\n",
       "      <th>6</th>\n",
       "      <td>SuperstoreUS</td>\n",
       "      <td>dbo</td>\n",
       "      <td>Colors</td>\n",
       "      <td>BASE TABLE</td>\n",
       "    </tr>\n",
       "    <tr>\n",
       "      <th>7</th>\n",
       "      <td>SuperstoreUS</td>\n",
       "      <td>dbo</td>\n",
       "      <td>Shapes</td>\n",
       "      <td>BASE TABLE</td>\n",
       "    </tr>\n",
       "    <tr>\n",
       "      <th>8</th>\n",
       "      <td>SuperstoreUS</td>\n",
       "      <td>dbo</td>\n",
       "      <td>Returns</td>\n",
       "      <td>BASE TABLE</td>\n",
       "    </tr>\n",
       "    <tr>\n",
       "      <th>9</th>\n",
       "      <td>SuperstoreUS</td>\n",
       "      <td>dbo</td>\n",
       "      <td>Charts1</td>\n",
       "      <td>BASE TABLE</td>\n",
       "    </tr>\n",
       "    <tr>\n",
       "      <th>10</th>\n",
       "      <td>SuperstoreUS</td>\n",
       "      <td>dbo</td>\n",
       "      <td>Charts2</td>\n",
       "      <td>BASE TABLE</td>\n",
       "    </tr>\n",
       "    <tr>\n",
       "      <th>11</th>\n",
       "      <td>SuperstoreUS</td>\n",
       "      <td>dbo</td>\n",
       "      <td>Orders_Central</td>\n",
       "      <td>BASE TABLE</td>\n",
       "    </tr>\n",
       "    <tr>\n",
       "      <th>12</th>\n",
       "      <td>SuperstoreUS</td>\n",
       "      <td>dbo</td>\n",
       "      <td>Orders_East</td>\n",
       "      <td>BASE TABLE</td>\n",
       "    </tr>\n",
       "    <tr>\n",
       "      <th>13</th>\n",
       "      <td>SuperstoreUS</td>\n",
       "      <td>dbo</td>\n",
       "      <td>Orders</td>\n",
       "      <td>BASE TABLE</td>\n",
       "    </tr>\n",
       "    <tr>\n",
       "      <th>14</th>\n",
       "      <td>SuperstoreUS</td>\n",
       "      <td>dbo</td>\n",
       "      <td>Orders_South</td>\n",
       "      <td>BASE TABLE</td>\n",
       "    </tr>\n",
       "    <tr>\n",
       "      <th>15</th>\n",
       "      <td>SuperstoreUS</td>\n",
       "      <td>dbo</td>\n",
       "      <td>Orders_West</td>\n",
       "      <td>BASE TABLE</td>\n",
       "    </tr>\n",
       "    <tr>\n",
       "      <th>16</th>\n",
       "      <td>SuperstoreUS</td>\n",
       "      <td>dbo</td>\n",
       "      <td>DateTime</td>\n",
       "      <td>BASE TABLE</td>\n",
       "    </tr>\n",
       "  </tbody>\n",
       "</table>\n",
       "</div>"
      ],
      "text/plain": [
       "   TABLE_CATALOG TABLE_SCHEMA              TABLE_NAME  TABLE_TYPE\n",
       "0   SuperstoreUS          dbo              Dictionary  BASE TABLE\n",
       "1   SuperstoreUS          dbo  Orders with Dictionary  BASE TABLE\n",
       "2   SuperstoreUS          dbo                Decimals  BASE TABLE\n",
       "3   SuperstoreUS          dbo               Customers  BASE TABLE\n",
       "4   SuperstoreUS          dbo                  People  BASE TABLE\n",
       "5   SuperstoreUS          dbo          PeopleMultiple  BASE TABLE\n",
       "6   SuperstoreUS          dbo                  Colors  BASE TABLE\n",
       "7   SuperstoreUS          dbo                  Shapes  BASE TABLE\n",
       "8   SuperstoreUS          dbo                 Returns  BASE TABLE\n",
       "9   SuperstoreUS          dbo                 Charts1  BASE TABLE\n",
       "10  SuperstoreUS          dbo                 Charts2  BASE TABLE\n",
       "11  SuperstoreUS          dbo          Orders_Central  BASE TABLE\n",
       "12  SuperstoreUS          dbo             Orders_East  BASE TABLE\n",
       "13  SuperstoreUS          dbo                  Orders  BASE TABLE\n",
       "14  SuperstoreUS          dbo            Orders_South  BASE TABLE\n",
       "15  SuperstoreUS          dbo             Orders_West  BASE TABLE\n",
       "16  SuperstoreUS          dbo                DateTime  BASE TABLE"
      ]
     },
     "execution_count": 6,
     "metadata": {},
     "output_type": "execute_result"
    }
   ],
   "source": [
    "# Build SQL String to Display only the Tables\n",
    "#sql_string = \"select * from INFORMATION_SCHEMA.TABLES WHERE TABLE_TYPE='BASE TABLE'\"\n",
    "sql_string = \"select * from INFORMATION_SCHEMA.TABLES\"\n",
    "\n",
    "# Execute the query and display all the rows in the dataframe that holds the retrieved data\n",
    "df_Tables = pd.read_sql_query(sql_string, conn)\n",
    "df_Tables"
   ]
  },
  {
   "cell_type": "markdown",
   "metadata": {},
   "source": [
    "# Displaying all the *Views* in a SQL Server Database  \n",
    "- Note: Reuse the connection object you created above  "
   ]
  },
  {
   "cell_type": "code",
   "execution_count": 8,
   "metadata": {},
   "outputs": [
    {
     "data": {
      "text/html": [
       "<div>\n",
       "<style scoped>\n",
       "    .dataframe tbody tr th:only-of-type {\n",
       "        vertical-align: middle;\n",
       "    }\n",
       "\n",
       "    .dataframe tbody tr th {\n",
       "        vertical-align: top;\n",
       "    }\n",
       "\n",
       "    .dataframe thead th {\n",
       "        text-align: right;\n",
       "    }\n",
       "</style>\n",
       "<table border=\"1\" class=\"dataframe\">\n",
       "  <thead>\n",
       "    <tr style=\"text-align: right;\">\n",
       "      <th></th>\n",
       "      <th>TABLE_CATALOG</th>\n",
       "      <th>TABLE_SCHEMA</th>\n",
       "      <th>TABLE_NAME</th>\n",
       "      <th>VIEW_DEFINITION</th>\n",
       "      <th>CHECK_OPTION</th>\n",
       "      <th>IS_UPDATABLE</th>\n",
       "    </tr>\n",
       "  </thead>\n",
       "  <tbody>\n",
       "  </tbody>\n",
       "</table>\n",
       "</div>"
      ],
      "text/plain": [
       "Empty DataFrame\n",
       "Columns: [TABLE_CATALOG, TABLE_SCHEMA, TABLE_NAME, VIEW_DEFINITION, CHECK_OPTION, IS_UPDATABLE]\n",
       "Index: []"
      ]
     },
     "execution_count": 8,
     "metadata": {},
     "output_type": "execute_result"
    }
   ],
   "source": [
    "# Build SQL String to Display only the Views\n",
    "sql_string = \"select * from INFORMATION_SCHEMA.VIEWS\"\n",
    "\n",
    "# Execute the query and display all the rows in the dataframe that holds the retrieved data\n",
    "df_Views = pd.read_sql_query(sql_string, conn)\n",
    "df_Views"
   ]
  },
  {
   "cell_type": "code",
   "execution_count": null,
   "metadata": {},
   "outputs": [],
   "source": []
  }
 ],
 "metadata": {
  "kernelspec": {
   "display_name": "Python 3",
   "language": "python",
   "name": "python3"
  },
  "language_info": {
   "codemirror_mode": {
    "name": "ipython",
    "version": 3
   },
   "file_extension": ".py",
   "mimetype": "text/x-python",
   "name": "python",
   "nbconvert_exporter": "python",
   "pygments_lexer": "ipython3",
   "version": "3.7.1"
  }
 },
 "nbformat": 4,
 "nbformat_minor": 4
}
